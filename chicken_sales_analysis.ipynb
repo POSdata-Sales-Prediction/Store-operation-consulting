{
 "cells": [
  {
   "cell_type": "markdown",
   "metadata": {},
   "source": [
    "## 깐부치킨 지점별 매출 분석"
   ]
  },
  {
   "cell_type": "code",
   "execution_count": 1,
   "metadata": {},
   "outputs": [],
   "source": [
    "import pandas as pd\n",
    "import matplotlib.pyplot as plt\n",
    "# Data Load\n",
    "receipt = pd.read_csv(\"../resources/extractedData/깐부치킨_거래데이터.csv\", encoding=\"utf8\")"
   ]
  },
  {
   "cell_type": "code",
   "execution_count": 2,
   "metadata": {},
   "outputs": [
    {
     "data": {
      "text/html": [
       "<div>\n",
       "<style scoped>\n",
       "    .dataframe tbody tr th:only-of-type {\n",
       "        vertical-align: middle;\n",
       "    }\n",
       "\n",
       "    .dataframe tbody tr th {\n",
       "        vertical-align: top;\n",
       "    }\n",
       "\n",
       "    .dataframe thead th {\n",
       "        text-align: right;\n",
       "    }\n",
       "</style>\n",
       "<table border=\"1\" class=\"dataframe\">\n",
       "  <thead>\n",
       "    <tr style=\"text-align: right;\">\n",
       "      <th></th>\n",
       "      <th>매장코드</th>\n",
       "      <th>매장명</th>\n",
       "      <th>영업일자</th>\n",
       "      <th>영수증번호</th>\n",
       "      <th>결제일시</th>\n",
       "      <th>테이블번호</th>\n",
       "      <th>총판매금액</th>\n",
       "      <th>소분류명</th>\n",
       "      <th>상품명</th>\n",
       "      <th>상품코드</th>\n",
       "      <th>판매수량</th>\n",
       "      <th>판매단가</th>\n",
       "    </tr>\n",
       "  </thead>\n",
       "  <tbody>\n",
       "    <tr>\n",
       "      <th>0</th>\n",
       "      <td>S23991</td>\n",
       "      <td>깐부치킨(강남구청역1번출구점)</td>\n",
       "      <td>20190204</td>\n",
       "      <td>14</td>\n",
       "      <td>20190204201731</td>\n",
       "      <td>포장1</td>\n",
       "      <td>18000</td>\n",
       "      <td>MAIN MENU</td>\n",
       "      <td>고추간장</td>\n",
       "      <td>2118</td>\n",
       "      <td>1</td>\n",
       "      <td>18000</td>\n",
       "    </tr>\n",
       "    <tr>\n",
       "      <th>1</th>\n",
       "      <td>S23991</td>\n",
       "      <td>깐부치킨(강남구청역1번출구점)</td>\n",
       "      <td>20190203</td>\n",
       "      <td>3</td>\n",
       "      <td>20190203191830</td>\n",
       "      <td>포장1</td>\n",
       "      <td>18000</td>\n",
       "      <td>MAIN MENU</td>\n",
       "      <td>고추간장</td>\n",
       "      <td>2118</td>\n",
       "      <td>1</td>\n",
       "      <td>18000</td>\n",
       "    </tr>\n",
       "    <tr>\n",
       "      <th>2</th>\n",
       "      <td>S23991</td>\n",
       "      <td>깐부치킨(강남구청역1번출구점)</td>\n",
       "      <td>20190202</td>\n",
       "      <td>8</td>\n",
       "      <td>20190202191158</td>\n",
       "      <td>7</td>\n",
       "      <td>18000</td>\n",
       "      <td>MAIN MENU</td>\n",
       "      <td>고추간장</td>\n",
       "      <td>2118</td>\n",
       "      <td>1</td>\n",
       "      <td>18000</td>\n",
       "    </tr>\n",
       "    <tr>\n",
       "      <th>3</th>\n",
       "      <td>S23991</td>\n",
       "      <td>깐부치킨(강남구청역1번출구점)</td>\n",
       "      <td>20190201</td>\n",
       "      <td>22</td>\n",
       "      <td>20190201214234</td>\n",
       "      <td>7</td>\n",
       "      <td>18000</td>\n",
       "      <td>MAIN MENU</td>\n",
       "      <td>고추간장</td>\n",
       "      <td>2118</td>\n",
       "      <td>1</td>\n",
       "      <td>18000</td>\n",
       "    </tr>\n",
       "    <tr>\n",
       "      <th>4</th>\n",
       "      <td>S23991</td>\n",
       "      <td>깐부치킨(강남구청역1번출구점)</td>\n",
       "      <td>20190203</td>\n",
       "      <td>8</td>\n",
       "      <td>20190203204417</td>\n",
       "      <td>6</td>\n",
       "      <td>18000</td>\n",
       "      <td>MAIN MENU</td>\n",
       "      <td>고추간장</td>\n",
       "      <td>2118</td>\n",
       "      <td>1</td>\n",
       "      <td>18000</td>\n",
       "    </tr>\n",
       "    <tr>\n",
       "      <th>...</th>\n",
       "      <td>...</td>\n",
       "      <td>...</td>\n",
       "      <td>...</td>\n",
       "      <td>...</td>\n",
       "      <td>...</td>\n",
       "      <td>...</td>\n",
       "      <td>...</td>\n",
       "      <td>...</td>\n",
       "      <td>...</td>\n",
       "      <td>...</td>\n",
       "      <td>...</td>\n",
       "      <td>...</td>\n",
       "    </tr>\n",
       "    <tr>\n",
       "      <th>83582</th>\n",
       "      <td>U06529</td>\n",
       "      <td>깐부치킨(역삼초교점)</td>\n",
       "      <td>20190228</td>\n",
       "      <td>20</td>\n",
       "      <td>20190301002504</td>\n",
       "      <td>테이블-9</td>\n",
       "      <td>11000</td>\n",
       "      <td>주류</td>\n",
       "      <td>카스(병)</td>\n",
       "      <td>3355</td>\n",
       "      <td>2</td>\n",
       "      <td>5500</td>\n",
       "    </tr>\n",
       "    <tr>\n",
       "      <th>83583</th>\n",
       "      <td>U06529</td>\n",
       "      <td>깐부치킨(역삼초교점)</td>\n",
       "      <td>20190211</td>\n",
       "      <td>1</td>\n",
       "      <td>20190211190925</td>\n",
       "      <td>테이블-5</td>\n",
       "      <td>6000</td>\n",
       "      <td>주류</td>\n",
       "      <td>클라우드</td>\n",
       "      <td>1286</td>\n",
       "      <td>1</td>\n",
       "      <td>6000</td>\n",
       "    </tr>\n",
       "    <tr>\n",
       "      <th>83584</th>\n",
       "      <td>U06529</td>\n",
       "      <td>깐부치킨(역삼초교점)</td>\n",
       "      <td>20190213</td>\n",
       "      <td>4</td>\n",
       "      <td>20190213193435</td>\n",
       "      <td>테이블-3</td>\n",
       "      <td>36000</td>\n",
       "      <td>주류</td>\n",
       "      <td>클라우드</td>\n",
       "      <td>1286</td>\n",
       "      <td>6</td>\n",
       "      <td>6000</td>\n",
       "    </tr>\n",
       "    <tr>\n",
       "      <th>83585</th>\n",
       "      <td>U06529</td>\n",
       "      <td>깐부치킨(역삼초교점)</td>\n",
       "      <td>20190219</td>\n",
       "      <td>6</td>\n",
       "      <td>20190219212814</td>\n",
       "      <td>테이블-1</td>\n",
       "      <td>6000</td>\n",
       "      <td>주류</td>\n",
       "      <td>클라우드</td>\n",
       "      <td>1286</td>\n",
       "      <td>1</td>\n",
       "      <td>6000</td>\n",
       "    </tr>\n",
       "    <tr>\n",
       "      <th>83586</th>\n",
       "      <td>U06529</td>\n",
       "      <td>깐부치킨(역삼초교점)</td>\n",
       "      <td>20190228</td>\n",
       "      <td>10</td>\n",
       "      <td>20190228212555</td>\n",
       "      <td>테이블-5</td>\n",
       "      <td>12000</td>\n",
       "      <td>주류</td>\n",
       "      <td>클라우드</td>\n",
       "      <td>1286</td>\n",
       "      <td>2</td>\n",
       "      <td>6000</td>\n",
       "    </tr>\n",
       "  </tbody>\n",
       "</table>\n",
       "<p>83587 rows × 12 columns</p>\n",
       "</div>"
      ],
      "text/plain": [
       "         매장코드               매장명      영업일자  영수증번호            결제일시  테이블번호  \\\n",
       "0      S23991  깐부치킨(강남구청역1번출구점)  20190204     14  20190204201731    포장1   \n",
       "1      S23991  깐부치킨(강남구청역1번출구점)  20190203      3  20190203191830    포장1   \n",
       "2      S23991  깐부치킨(강남구청역1번출구점)  20190202      8  20190202191158      7   \n",
       "3      S23991  깐부치킨(강남구청역1번출구점)  20190201     22  20190201214234      7   \n",
       "4      S23991  깐부치킨(강남구청역1번출구점)  20190203      8  20190203204417      6   \n",
       "...       ...               ...       ...    ...             ...    ...   \n",
       "83582  U06529       깐부치킨(역삼초교점)  20190228     20  20190301002504  테이블-9   \n",
       "83583  U06529       깐부치킨(역삼초교점)  20190211      1  20190211190925  테이블-5   \n",
       "83584  U06529       깐부치킨(역삼초교점)  20190213      4  20190213193435  테이블-3   \n",
       "83585  U06529       깐부치킨(역삼초교점)  20190219      6  20190219212814  테이블-1   \n",
       "83586  U06529       깐부치킨(역삼초교점)  20190228     10  20190228212555  테이블-5   \n",
       "\n",
       "       총판매금액       소분류명    상품명  상품코드  판매수량   판매단가  \n",
       "0      18000  MAIN MENU   고추간장  2118     1  18000  \n",
       "1      18000  MAIN MENU   고추간장  2118     1  18000  \n",
       "2      18000  MAIN MENU   고추간장  2118     1  18000  \n",
       "3      18000  MAIN MENU   고추간장  2118     1  18000  \n",
       "4      18000  MAIN MENU   고추간장  2118     1  18000  \n",
       "...      ...        ...    ...   ...   ...    ...  \n",
       "83582  11000         주류  카스(병)  3355     2   5500  \n",
       "83583   6000         주류   클라우드  1286     1   6000  \n",
       "83584  36000         주류   클라우드  1286     6   6000  \n",
       "83585   6000         주류   클라우드  1286     1   6000  \n",
       "83586  12000         주류   클라우드  1286     2   6000  \n",
       "\n",
       "[83587 rows x 12 columns]"
      ]
     },
     "execution_count": 2,
     "metadata": {},
     "output_type": "execute_result"
    }
   ],
   "source": [
    "# 데이터 확인\n",
    "receipt"
   ]
  },
  {
   "cell_type": "code",
   "execution_count": 4,
   "metadata": {},
   "outputs": [
    {
     "data": {
      "text/plain": [
       "array(['깐부치킨(강남구청역1번출구점)', '깐부치킨(수서역점)', '깐부치킨(역삼럭키점)', '깐부치킨(은마아파트점)',\n",
       "       '깐부치킨(논현역점)', '깐부치킨(삼성점)', '깐부치킨(청담자이점)', '깐부치킨(학동역점)',\n",
       "       '깐부치킨(선릉역1번출구점)', '깐부치킨(삼성1동점)', '깐부치킨(삼성역점)', '깐부치킨(선릉역점)',\n",
       "       '깐부치킨(강남역플래티넘점)', '깐부치킨(개포점)', '깐부치킨(압구정현대백화점)', '깐부치킨(강남세브란스점)',\n",
       "       '깐부치킨 대치역점', '깐부치킨(청담1호점)', '깐부치킨(일원점)', '깐부치킨(대치사거리점)',\n",
       "       '깐부치킨(역삼GS타워점)', '깐부치킨(선정릉역점)', '(주)깐부 청담본점', '깐부치킨(역삼디오빌점)',\n",
       "       '깐부치킨(강남구청역3번출구점)', '(주)깐부치킨(세곡점)', '깐부치킨 역삼본점', '깐부치킨(신사역점)',\n",
       "       '깐부치킨(압구정한강고수부지)', '깐부치킨 신사가로수점', '깐부치킨(한티점)', '깐부치킨(도산사거리점)',\n",
       "       '깐부치킨(역삼초교점)'], dtype=object)"
      ]
     },
     "execution_count": 4,
     "metadata": {},
     "output_type": "execute_result"
    }
   ],
   "source": [
    "receipt[\"매장명\"].unique()"
   ]
  },
  {
   "cell_type": "code",
   "execution_count": 41,
   "metadata": {},
   "outputs": [
    {
     "name": "stdout",
     "output_type": "stream",
     "text": [
      "{'S23992': 31373000, 'S24077': 39171000, 'S35539': 41466500, 'T06644': 79926000, 'T18671': 36641500, 'T74630': 57980000, 'T78908': 6906000, 'S24101': 49894000, 'S24036': 19153500, 'S37219': 55398000, 'S95349': 50330500, 'T46063': 46406500, 'S24088': 47290500, 'T79908': 52728000, 'T50791': 12642500, 'T88625': 11746000, 'S48814': 14722500, 'S31130': 53636100, 'S41446': 19802500, 'S56417': 31402200, 'T00602': 65312000, 'S70964': 35203400, 'S36322': 45855000, 'T86552': 21857500, 'U06529': 14325500, 'T53532': 40543500, 'S24023': 38272500, 'S23991': 26125000, 'S24004': 15152000, 'S36329': 54300000, 'S54785': 27573800, 'S42681': 45593000, 'S49287': 52430000}\n"
     ]
    }
   ],
   "source": [
    "# 매장코드 33개 확인, 매장코드 dict 선언\n",
    "store_code = dict(set(receipt[[\"매장코드\",\"매장명\"]].itertuples(index=False)))\n",
    "sale = dict()\n",
    "\n",
    "# 각 매장별 월별 sale 집계\n",
    "for store_code in store_code.keys():\n",
    "    sale[store_code] = sum(receipt[receipt[\"매장코드\"]==store_code][\"판매단가\"] * receipt[receipt[\"매장코드\"]==store_code][\"판매수량\"])\n",
    "\n",
    "print(sale)    "
   ]
  },
  {
   "cell_type": "code",
   "execution_count": 84,
   "metadata": {},
   "outputs": [
    {
     "data": {
      "text/plain": [
       "'S49287'"
      ]
     },
     "execution_count": 84,
     "metadata": {},
     "output_type": "execute_result"
    }
   ],
   "source": [
    "store_code"
   ]
  },
  {
   "cell_type": "code",
   "execution_count": 60,
   "metadata": {},
   "outputs": [
    {
     "data": {
      "text/plain": [
       "<Figure size 720x432 with 0 Axes>"
      ]
     },
     "execution_count": 60,
     "metadata": {},
     "output_type": "execute_result"
    },
    {
     "data": {
      "image/png": "[encoded data removed]",
      "text/plain": [
       "<Figure size 432x288 with 1 Axes>"
      ]
     },
     "metadata": {
      "needs_background": "light"
     },
     "output_type": "display_data"
    },
    {
     "data": {
      "text/plain": [
       "<Figure size 720x432 with 0 Axes>"
      ]
     },
     "metadata": {},
     "output_type": "display_data"
    }
   ],
   "source": [
    "# 월별 지출 plot찍기\n",
    "myList = sale.items()\n",
    "myList = sorted(myList)\n",
    "x, y = zip(*myList)\n",
    "plt.plot(x, y)\n",
    "plt.title(\"Sum of monthly sales of stores\")\n",
    "plt.xticks(rotation = 90)\n",
    "plt.figure(figsize = (10,6))"
   ]
  },
  {
   "cell_type": "code",
   "execution_count": 82,
   "metadata": {},
   "outputs": [
    {
     "data": {
      "image/png": "[encoded data removed]",
      "text/plain": [
       "<Figure size 432x288 with 1 Axes>"
      ]
     },
     "metadata": {
      "needs_background": "light"
     },
     "output_type": "display_data"
    },
    {
     "data": {
      "image/png": "[encoded data removed]",
      "text/plain": [
       "<Figure size 432x288 with 1 Axes>"
      ]
     },
     "metadata": {
      "needs_background": "light"
     },
     "output_type": "display_data"
    }
   ],
   "source": [
    "## 월별 매출로 상,중,하 그룹으로 나누기\n",
    "# boxplot\n",
    "plt.boxplot(sale.values(), sym=\"bo\")\n",
    "plt.xticks([1],[\"Monthly Sales\"])\n",
    "plt.title(\"Sum of monthly sales of stores (boxplot)\")\n",
    "plt.show()\n",
    "\n",
    "# scatter\n",
    "plt.scatter(sale.keys(), sale.values())\n",
    "plt.xticks(rotation=90)\n",
    "plt.title(\"Sum of monthly sales of stores (scatter plot)\")\n",
    "plt.show()"
   ]
  },
  {
   "cell_type": "code",
   "execution_count": 78,
   "metadata": {},
   "outputs": [
    {
     "data": {
      "text/plain": [
       "<matplotlib.collections.PathCollection at 0x1e3e6577988>"
      ]
     },
     "execution_count": 78,
     "metadata": {},
     "output_type": "execute_result"
    },
    {
     "data": {
      "image/png": "[encoded data removed]",
      "text/plain": [
       "<Figure size 432x288 with 1 Axes>"
      ]
     },
     "metadata": {
      "needs_background": "light"
     },
     "output_type": "display_data"
    }
   ],
   "source": [
    "# clustering으로 군집으로 만들기\n"
   ]
  },
  {
   "cell_type": "code",
   "execution_count": null,
   "metadata": {},
   "outputs": [],
   "source": []
  }
 ],
 "metadata": {
  "interpreter": {
   "hash": "1939ccda06a3d239494968d2801e93c1bdce3bcfed749217da392be0f0137ae7"
  },
  "kernelspec": {
   "display_name": "Python 3.7.9 64-bit",
   "language": "python",
   "name": "python3"
  },
  "language_info": {
   "codemirror_mode": {
    "name": "ipython",
    "version": 3
   },
   "file_extension": ".py",
   "mimetype": "text/x-python",
   "name": "python",
   "nbconvert_exporter": "python",
   "pygments_lexer": "ipython3",
   "version": "3.7.9"
  },
  "orig_nbformat": 4
 },
 "nbformat": 4,
 "nbformat_minor": 2
}
