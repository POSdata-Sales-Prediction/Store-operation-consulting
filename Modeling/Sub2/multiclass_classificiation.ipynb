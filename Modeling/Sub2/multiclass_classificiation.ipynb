{
 "cells": [
  {
   "cell_type": "markdown",
   "metadata": {},
   "source": [
    "### MULTICLASS CLASSIFIACTION CODES\n",
    "* 사용 FEATURE: 주중/주말, 시간대구분, 상업지역 면적, 평균생활인구수\n",
    "* Y: 생활인구당 평균매출 군집 (0 - 하 , 1 - 중, 2 - 상)"
   ]
  },
  {
   "cell_type": "code",
   "execution_count": 1,
   "metadata": {},
   "outputs": [],
   "source": [
    "## import module\n",
    "import matplotlib.pyplot as plt\n",
    "import seaborn as sns\n",
    "import pandas as pd\n",
    "\n",
    "# 한글 폰트 사용을 위해서 세팅\n",
    "from matplotlib import font_manager, rc\n",
    "font_path = \"C:/Windows/Fonts/NGULIM.TTF\"\n",
    "font = font_manager.FontProperties(fname=font_path).get_name()\n",
    "rc('font', family=font)\n",
    "\n",
    "## Load Data\n",
    "mamm_feature = pd.read_csv(\"../../../resources/processedData/매머드_feature_clustered_y.csv\", index_col =False)"
   ]
  },
  {
   "cell_type": "code",
   "execution_count": 2,
   "metadata": {},
   "outputs": [
    {
     "data": {
      "text/html": [
       "<div>\n",
       "<style scoped>\n",
       "    .dataframe tbody tr th:only-of-type {\n",
       "        vertical-align: middle;\n",
       "    }\n",
       "\n",
       "    .dataframe tbody tr th {\n",
       "        vertical-align: top;\n",
       "    }\n",
       "\n",
       "    .dataframe thead th {\n",
       "        text-align: right;\n",
       "    }\n",
       "</style>\n",
       "<table border=\"1\" class=\"dataframe\">\n",
       "  <thead>\n",
       "    <tr style=\"text-align: right;\">\n",
       "      <th></th>\n",
       "      <th>매장코드_영업일자_시간대</th>\n",
       "      <th>주중/주말</th>\n",
       "      <th>시간대구분</th>\n",
       "      <th>상업지역 면적</th>\n",
       "      <th>평균생활인구수</th>\n",
       "      <th>생활인구당 평균매출_cl</th>\n",
       "    </tr>\n",
       "  </thead>\n",
       "  <tbody>\n",
       "    <tr>\n",
       "      <th>0</th>\n",
       "      <td>S53661_20190201_1</td>\n",
       "      <td>0</td>\n",
       "      <td>1.0</td>\n",
       "      <td>203448.20</td>\n",
       "      <td>102461.88</td>\n",
       "      <td>0</td>\n",
       "    </tr>\n",
       "    <tr>\n",
       "      <th>1</th>\n",
       "      <td>S53661_20190201_2</td>\n",
       "      <td>0</td>\n",
       "      <td>2.0</td>\n",
       "      <td>203448.20</td>\n",
       "      <td>149401.14</td>\n",
       "      <td>0</td>\n",
       "    </tr>\n",
       "    <tr>\n",
       "      <th>2</th>\n",
       "      <td>S53661_20190201_3</td>\n",
       "      <td>0</td>\n",
       "      <td>3.0</td>\n",
       "      <td>203448.20</td>\n",
       "      <td>130305.51</td>\n",
       "      <td>0</td>\n",
       "    </tr>\n",
       "    <tr>\n",
       "      <th>3</th>\n",
       "      <td>S53661_20190207_1</td>\n",
       "      <td>0</td>\n",
       "      <td>1.0</td>\n",
       "      <td>203448.20</td>\n",
       "      <td>94200.97</td>\n",
       "      <td>1</td>\n",
       "    </tr>\n",
       "    <tr>\n",
       "      <th>4</th>\n",
       "      <td>S53661_20190207_2</td>\n",
       "      <td>0</td>\n",
       "      <td>2.0</td>\n",
       "      <td>203448.20</td>\n",
       "      <td>144196.27</td>\n",
       "      <td>0</td>\n",
       "    </tr>\n",
       "    <tr>\n",
       "      <th>...</th>\n",
       "      <td>...</td>\n",
       "      <td>...</td>\n",
       "      <td>...</td>\n",
       "      <td>...</td>\n",
       "      <td>...</td>\n",
       "      <td>...</td>\n",
       "    </tr>\n",
       "    <tr>\n",
       "      <th>1425</th>\n",
       "      <td>T64222_20190227_4</td>\n",
       "      <td>0</td>\n",
       "      <td>4.0</td>\n",
       "      <td>103356.25</td>\n",
       "      <td>93636.11</td>\n",
       "      <td>0</td>\n",
       "    </tr>\n",
       "    <tr>\n",
       "      <th>1426</th>\n",
       "      <td>T64222_20190228_1</td>\n",
       "      <td>0</td>\n",
       "      <td>1.0</td>\n",
       "      <td>103356.25</td>\n",
       "      <td>100872.60</td>\n",
       "      <td>1</td>\n",
       "    </tr>\n",
       "    <tr>\n",
       "      <th>1427</th>\n",
       "      <td>T64222_20190228_2</td>\n",
       "      <td>0</td>\n",
       "      <td>2.0</td>\n",
       "      <td>103356.25</td>\n",
       "      <td>146583.15</td>\n",
       "      <td>2</td>\n",
       "    </tr>\n",
       "    <tr>\n",
       "      <th>1428</th>\n",
       "      <td>T64222_20190228_3</td>\n",
       "      <td>0</td>\n",
       "      <td>3.0</td>\n",
       "      <td>103356.25</td>\n",
       "      <td>138484.15</td>\n",
       "      <td>1</td>\n",
       "    </tr>\n",
       "    <tr>\n",
       "      <th>1429</th>\n",
       "      <td>T64222_20190228_4</td>\n",
       "      <td>0</td>\n",
       "      <td>4.0</td>\n",
       "      <td>103356.25</td>\n",
       "      <td>96675.47</td>\n",
       "      <td>0</td>\n",
       "    </tr>\n",
       "  </tbody>\n",
       "</table>\n",
       "<p>1430 rows × 6 columns</p>\n",
       "</div>"
      ],
      "text/plain": [
       "          매장코드_영업일자_시간대  주중/주말  시간대구분    상업지역 면적    평균생활인구수  생활인구당 평균매출_cl\n",
       "0     S53661_20190201_1      0    1.0  203448.20  102461.88              0\n",
       "1     S53661_20190201_2      0    2.0  203448.20  149401.14              0\n",
       "2     S53661_20190201_3      0    3.0  203448.20  130305.51              0\n",
       "3     S53661_20190207_1      0    1.0  203448.20   94200.97              1\n",
       "4     S53661_20190207_2      0    2.0  203448.20  144196.27              0\n",
       "...                 ...    ...    ...        ...        ...            ...\n",
       "1425  T64222_20190227_4      0    4.0  103356.25   93636.11              0\n",
       "1426  T64222_20190228_1      0    1.0  103356.25  100872.60              1\n",
       "1427  T64222_20190228_2      0    2.0  103356.25  146583.15              2\n",
       "1428  T64222_20190228_3      0    3.0  103356.25  138484.15              1\n",
       "1429  T64222_20190228_4      0    4.0  103356.25   96675.47              0\n",
       "\n",
       "[1430 rows x 6 columns]"
      ]
     },
     "execution_count": 2,
     "metadata": {},
     "output_type": "execute_result"
    }
   ],
   "source": [
    "mamm_feature"
   ]
  },
  {
   "cell_type": "code",
   "execution_count": 54,
   "metadata": {},
   "outputs": [],
   "source": [
    "## Prepare the dataset\n",
    "from sklearn.model_selection import train_test_split\n",
    "from sklearn.compose import ColumnTransformer\n",
    "from sklearn.preprocessing import OneHotEncoder, StandardScaler\n",
    "\n",
    "# 시간대구분, 주중/주말\t원핫인코딩\n",
    "X = mamm_feature.iloc[:,[1,2,3,4]]\n",
    "y = mamm_feature[\"생활인구당 평균매출_cl\"]\n",
    "\n",
    "# split into train/test set\n",
    "X_train, X_test, y_train, y_test = train_test_split(X, y, test_size=0.3, random_state=0)\n",
    "\n",
    "num_attributes = [\"상업지역 면적\", \"평균생활인구수\"]\n",
    "cat_attributes = [\"주중/주말\",\t\"시간대구분\"]\n",
    "\n",
    "feature_pipeline = ColumnTransformer([\n",
    "    (\"num\", StandardScaler(), num_attributes),\n",
    "    (\"cat\", OneHotEncoder(), cat_attributes),\n",
    "])\n",
    "\n",
    "feature_pipeline.fit(X_train)\n",
    "X_train_transformed = feature_pipeline.transform(X_train)\n",
    "X_test_transformed = feature_pipeline.transform(X_test)"
   ]
  },
  {
   "cell_type": "code",
   "execution_count": 33,
   "metadata": {},
   "outputs": [],
   "source": [
    "## plotting을 위한 함수 \n",
    "from sklearn.metrics import confusion_matrix\n",
    "\n",
    "# confusion matrix plotting 함수\n",
    "def plot_confusion_matrix(y_test, y_pred, algorithm_name):\n",
    "    # 혼동행렬 시각화\n",
    "    plt.figure(figsize =(60, 60))\n",
    "    cm = confusion_matrix(y_test, y_pred)\n",
    "    cm_df = pd.DataFrame(cm,\n",
    "                     columns = ['하','중','상'],\n",
    "                     index=['하','중','상'])\n",
    "\n",
    "    #Plotting the confusion matrix\n",
    "    plt.figure(figsize=(5,4))\n",
    "    sns.heatmap(cm_df, annot=True)\n",
    "    plt.title('Confusion Matrix - '+algorithm_name)\n",
    "    plt.ylabel('Actal Values')\n",
    "    plt.xlabel('Predicted Values')\n",
    "    plt.show()\n",
    "\n",
    "# roc curve plotting 함수\n",
    "def plot_roc_curve(n_classes, y_test, y_pred, algorithm_name):\n",
    "    # ROC & AUC\n",
    "    fpr = dict()\n",
    "    tpr = dict()\n",
    "    roc_auc = dict()\n",
    "    for i in range(n_classes):\n",
    "        fpr[i], tpr[i], _ = roc_curve(y_test[:, i], y_score[:, i])\n",
    "        roc_auc[i] = auc(fpr[i], tpr[i])\n",
    "\n",
    "    # Plot of a ROC curve for a specific class\n",
    "    plt.figure(figsize=(15, 5))\n",
    "    for idx, i in enumerate(range(n_classes)):\n",
    "        plt.subplot(131+idx)\n",
    "        plt.plot(fpr[i], tpr[i], label='ROC curve (area = %0.2f)' % roc_auc[i])\n",
    "        plt.plot([0, 1], [0, 1], 'k--')\n",
    "        plt.xlim([0.0, 1.0])\n",
    "        plt.ylim([0.0, 1.05])\n",
    "        plt.xlabel('False Positive Rate')\n",
    "        plt.ylabel('True Positive Rate')\n",
    "        plt.title('Class %0.0f' % idx)\n",
    "        plt.legend(loc=\"lower right\")\n",
    "    plt.show()"
   ]
  },
  {
   "cell_type": "code",
   "execution_count": 57,
   "metadata": {},
   "outputs": [],
   "source": [
    "import matplotlib.pyplot as plt\n",
    "from numpy import average\n",
    "import seaborn as sns\n",
    "import pandas as pd\n",
    "\n",
    "# 모델 평가를 위한 metrics\n",
    "from sklearn.metrics import accuracy_score, precision_score, recall_score, f1_score, roc_auc_score\n",
    "\n",
    "## 모델 수행 코드\n",
    "def model_execution(model, algorithm_name, x_train, y_train, x_test, y_test):\n",
    "\n",
    "    # 모델 학습\n",
    "    model.fit(x_train, y_train)\n",
    "    \n",
    "    # 최종 모델의 성능 평가\n",
    "    train_acc = model.score(x_train, y_train)\n",
    "    y_pred = model.predict(x_test)\n",
    "    \n",
    "    # 다중 분류이기 때문에 평균으로 냄\n",
    "    test_acc = accuracy_score(y_test, y_pred)\n",
    "    precision = precision_score(y_test, y_pred, average= \"macro\")\n",
    "    recall = recall_score(y_test, y_pred, average= \"macro\")\n",
    "    f1 = f1_score(y_test, y_pred, average='micro')\n",
    "    \n",
    "    print(f\"Train Accuracy: {train_acc:.3f}\")\n",
    "    print(f\"Test Accuracy: {test_acc:.3f}\") # 정확도\n",
    "    print(f\"Precision: {precision:.3f}\") # 정밀도\n",
    "    print(f\"Recall: {recall:.3f}\") # 재현율\n",
    "    print(f\"F1-score: {f1:.3f}\") # F1 스코어\n",
    "    \n",
    "    # confusion-matrix plot\n",
    "    plot_confusion_matrix(y_test, y_pred, algorithm_name)\n"
   ]
  },
  {
   "cell_type": "code",
   "execution_count": 58,
   "metadata": {},
   "outputs": [
    {
     "name": "stdout",
     "output_type": "stream",
     "text": [
      "Train Accuracy: 0.874\n",
      "Test Accuracy: 0.804\n",
      "Precision: 0.779\n",
      "Recall: 0.769\n",
      "F1-score: 0.804\n"
     ]
    },
    {
     "data": {
      "text/plain": [
       "<Figure size 4320x4320 with 0 Axes>"
      ]
     },
     "metadata": {},
     "output_type": "display_data"
    },
    {
     "data": {
      "image/png": "[encoded data removed]",
      "text/plain": [
       "<Figure size 360x288 with 2 Axes>"
      ]
     },
     "metadata": {
      "needs_background": "light"
     },
     "output_type": "display_data"
    }
   ],
   "source": [
    "## KNN\n",
    "from sklearn.neighbors import KNeighborsClassifier\n",
    "mamm_knn = KNeighborsClassifier(n_neighbors=3)\n",
    "model_execution(mamm_knn, \"KNN\", X_train_transformed, y_train, X_test_transformed, y_test)"
   ]
  },
  {
   "cell_type": "code",
   "execution_count": 59,
   "metadata": {},
   "outputs": [
    {
     "name": "stdout",
     "output_type": "stream",
     "text": [
      "Train Accuracy: 0.993\n",
      "Test Accuracy: 0.751\n",
      "Precision: 0.711\n",
      "Recall: 0.715\n",
      "F1-score: 0.751\n"
     ]
    },
    {
     "data": {
      "text/plain": [
       "<Figure size 4320x4320 with 0 Axes>"
      ]
     },
     "metadata": {},
     "output_type": "display_data"
    },
    {
     "data": {
      "image/png": "[encoded data removed]",
      "text/plain": [
       "<Figure size 360x288 with 2 Axes>"
      ]
     },
     "metadata": {
      "needs_background": "light"
     },
     "output_type": "display_data"
    }
   ],
   "source": [
    "## Decision Tree\n",
    "from sklearn.tree import DecisionTreeClassifier\n",
    "mamm_tree = DecisionTreeClassifier(criterion='entropy')\n",
    "model_execution(mamm_tree, \"Decision Tree\", X_train_transformed, y_train, X_test_transformed, y_test)\n"
   ]
  },
  {
   "cell_type": "code",
   "execution_count": 60,
   "metadata": {},
   "outputs": [
    {
     "name": "stdout",
     "output_type": "stream",
     "text": [
      "Train Accuracy: 0.993\n",
      "Test Accuracy: 0.788\n",
      "Precision: 0.750\n",
      "Recall: 0.751\n",
      "F1-score: 0.788\n"
     ]
    },
    {
     "data": {
      "text/plain": [
       "<Figure size 4320x4320 with 0 Axes>"
      ]
     },
     "metadata": {},
     "output_type": "display_data"
    },
    {
     "data": {
      "image/png": "[encoded data removed]",
      "text/plain": [
       "<Figure size 360x288 with 2 Axes>"
      ]
     },
     "metadata": {
      "needs_background": "light"
     },
     "output_type": "display_data"
    }
   ],
   "source": [
    "## Random Forest\n",
    "from sklearn.ensemble import RandomForestClassifier\n",
    "mamm_rf = RandomForestClassifier(criterion='entropy')\n",
    "model_execution(mamm_rf, \"Random Forest\", X_train_transformed, y_train, X_test_transformed, y_test)"
   ]
  },
  {
   "cell_type": "code",
   "execution_count": 65,
   "metadata": {},
   "outputs": [
    {
     "name": "stdout",
     "output_type": "stream",
     "text": [
      "Train Accuracy: 0.832\n",
      "Test Accuracy: 0.811\n",
      "Precision: 0.772\n",
      "Recall: 0.749\n",
      "F1-score: 0.811\n"
     ]
    },
    {
     "data": {
      "text/plain": [
       "<Figure size 4320x4320 with 0 Axes>"
      ]
     },
     "metadata": {},
     "output_type": "display_data"
    },
    {
     "data": {
      "image/png": "[encoded data removed]",
      "text/plain": [
       "<Figure size 360x288 with 2 Axes>"
      ]
     },
     "metadata": {
      "needs_background": "light"
     },
     "output_type": "display_data"
    }
   ],
   "source": [
    "## Support Vector Classifier\n",
    "from sklearn import svm\n",
    "mamm_svc = svm.SVC(kernel='rbf', gamma=6, C=4.5)\n",
    "model_execution(mamm_svc, \"Support Vector Classifier\", X_train_transformed, y_train, X_test_transformed, y_test)"
   ]
  },
  {
   "cell_type": "code",
   "execution_count": 66,
   "metadata": {},
   "outputs": [
    {
     "name": "stderr",
     "output_type": "stream",
     "text": [
      "c:\\Users\\dksle\\anaconda3\\envs\\tensorflow\\lib\\site-packages\\xgboost\\sklearn.py:1146: UserWarning: The use of label encoder in XGBClassifier is deprecated and will be removed in a future release. To remove this warning, do the following: 1) Pass option use_label_encoder=False when constructing XGBClassifier object; and 2) Encode your labels (y) as integers starting with 0, i.e. 0, 1, 2, ..., [num_class - 1].\n",
      "  warnings.warn(label_encoder_deprecation_msg, UserWarning)\n"
     ]
    },
    {
     "name": "stdout",
     "output_type": "stream",
     "text": [
      "[21:19:33] WARNING: C:/Users/Administrator/workspace/xgboost-win64_release_1.4.0/src/learner.cc:1095: Starting in XGBoost 1.3.0, the default evaluation metric used with the objective 'multi:softprob' was changed from 'merror' to 'mlogloss'. Explicitly set eval_metric if you'd like to restore the old behavior.\n",
      "Train Accuracy: 0.874\n",
      "Test Accuracy: 0.825\n",
      "Precision: 0.808\n",
      "Recall: 0.775\n",
      "F1-score: 0.825\n"
     ]
    },
    {
     "data": {
      "text/plain": [
       "<Figure size 4320x4320 with 0 Axes>"
      ]
     },
     "metadata": {},
     "output_type": "display_data"
    },
    {
     "data": {
      "image/png": "[encoded data removed]",
      "text/plain": [
       "<Figure size 360x288 with 2 Axes>"
      ]
     },
     "metadata": {
      "needs_background": "light"
     },
     "output_type": "display_data"
    }
   ],
   "source": [
    "## XGBOOST \n",
    "from xgboost import XGBClassifier\n",
    "mamm_xgb = XGBClassifier(n_estimators=200, learning_rate=0.05, max_depth=4)\n",
    "model_execution(mamm_xgb, \"XGBClassifier\", X_train_transformed, y_train, X_test_transformed, y_test)"
   ]
  },
  {
   "cell_type": "code",
   "execution_count": null,
   "metadata": {},
   "outputs": [],
   "source": [
    "## CATBOOST\n"
   ]
  }
 ],
 "metadata": {
  "kernelspec": {
   "display_name": "Python 3.7.10 ('tensorflow')",
   "language": "python",
   "name": "python3"
  },
  "language_info": {
   "codemirror_mode": {
    "name": "ipython",
    "version": 3
   },
   "file_extension": ".py",
   "mimetype": "text/x-python",
   "name": "python",
   "nbconvert_exporter": "python",
   "pygments_lexer": "ipython3",
   "version": "3.7.10"
  },
  "orig_nbformat": 4,
  "vscode": {
   "interpreter": {
    "hash": "9def8ea2d5a01422581d4eea917152176dd8d2a5fb8fc2d04ade9c46f806b086"
   }
  }
 },
 "nbformat": 4,
 "nbformat_minor": 2
}
