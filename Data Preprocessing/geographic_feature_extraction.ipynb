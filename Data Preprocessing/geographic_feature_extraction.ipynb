{
 "cells": [
  {
   "cell_type": "markdown",
   "metadata": {},
   "source": [
    "## Feature Extraction 코드\n",
    "### 주제 1: 머신러닝 기반 매출의 영향 요인 분석\n",
    "- feature: 입지, 인구 요인\n",
    "- target data: 깐부치킨, 생활맥주\n",
    "- y = 성공 or 실패"
   ]
  },
  {
   "cell_type": "code",
   "execution_count": 2,
   "metadata": {},
   "outputs": [],
   "source": [
    "## import module\n",
    "import pandas as pd\n",
    "\n",
    "## Load Data\n",
    "# 깐부치킨 매장별 행정동 데이터 Load\n",
    "store_dong = pd.read_csv(\"../../resources/processedData/깐부치킨_매장좌표_행정동 추가.csv\", encoding=\"utf8\")\n",
    "\n",
    "# 깐부치킨 거래데이터 Load\n",
    "sales = pd.read_csv(\"../../resources/processedData/깐부치킨_거래데이터.csv\", encoding=\"utf8\")\n",
    "\n",
    "# 행정동별 인구 feature Load\n",
    "people = pd.read_csv(\"../../resources/processedData/강남구 행정동별 인구 feature.csv\", encoding=\"utf8\")\n",
    "\n",
    "# 매장별 반경 500m 토지 피복 비율 데이터 Load\n",
    "store_landscape = pd.read_csv(\"../../resources/processedData/입지특성_매장별_매장반경 500m feature.csv\", encoding=\"utf8\")\n",
    "\n",
    "# 행정동별 토지 면적 데이터\n",
    "store_landarea = pd.read_csv(\"../../resources/processedData/입지특성_매장별_매장반경 500m 토지피복_면적.csv\", encoding=\"utf8\")"
   ]
  },
  {
   "cell_type": "code",
   "execution_count": null,
   "metadata": {},
   "outputs": [],
   "source": [
    "# 매장별 행정동 추출\n",
    "store_dong\n",
    "dong_list = list(store_dong[\"행정동\"].unique())\n",
    "dong = pd.DataFrame(dong_list, columns=[\"행정동\"])\n",
    "\n",
    "# 매장 이름 추출\n",
    "store_list = list(store_dong[\"매장명\"])\n",
    "store_list"
   ]
  },
  {
   "cell_type": "code",
   "execution_count": null,
   "metadata": {},
   "outputs": [],
   "source": [
    "## store feature 뽑기\n",
    "store_feature = pd.merge(store_dong[[\"매장코드\",\"행정동\"]], store_landscape.iloc[:,0:5], on= \"매장코드\", how=\"right\")\n",
    "store_feature = pd.merge(store_feature, people[[\"행정동\",\"인구수\",\"유동인구비율\"]], on = \"행정동\", how = \"left\")\n",
    "store_feature = pd.merge(store_feature, store_landarea.iloc[:,1:], on = \"매장명\", how = \"left\")\n",
    "store_feature[\"인구당매출\"] = 0\n",
    "\n",
    "for store in store_list:\n",
    "    idx = store_feature[store_feature[\"매장명\"] == store].index\n",
    "    sale = round(sales[sales[\"매장명\"] == store][\"총판매금액\"].sum() / store_feature[store_feature[\"매장명\"]==store][\"인구수\"].values[0], 3)\n",
    "    store_feature.iloc[idx,-1] = sale"
   ]
  },
  {
   "cell_type": "code",
   "execution_count": null,
   "metadata": {},
   "outputs": [],
   "source": [
    "# 데이터 확인\n",
    "store_feature"
   ]
  }
 ],
 "metadata": {
  "interpreter": {
   "hash": "9def8ea2d5a01422581d4eea917152176dd8d2a5fb8fc2d04ade9c46f806b086"
  },
  "kernelspec": {
   "display_name": "Python 3.7.10 ('tensorflow')",
   "language": "python",
   "name": "python3"
  },
  "language_info": {
   "codemirror_mode": {
    "name": "ipython",
    "version": 3
   },
   "file_extension": ".py",
   "mimetype": "text/x-python",
   "name": "python",
   "nbconvert_exporter": "python",
   "pygments_lexer": "ipython3",
   "version": "3.7.10"
  },
  "orig_nbformat": 4
 },
 "nbformat": 4,
 "nbformat_minor": 2
}
