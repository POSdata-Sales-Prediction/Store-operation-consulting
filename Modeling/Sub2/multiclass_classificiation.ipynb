{
 "cells": [
  {
   "cell_type": "code",
   "execution_count": 35,
   "metadata": {},
   "outputs": [],
   "source": [
    "## import module\n",
    "import matplotlib.pyplot as plt\n",
    "import seaborn as sns\n",
    "import pandas as pd\n",
    "\n",
    "# 한글 폰트 사용을 위해서 세팅\n",
    "from matplotlib import font_manager, rc\n",
    "font_path = \"C:/Windows/Fonts/NGULIM.TTF\"\n",
    "font = font_manager.FontProperties(fname=font_path).get_name()\n",
    "rc('font', family=font)\n",
    "\n",
    "## Load Data\n",
    "mamm_feature_clustered = pd.read_csv(\"../../../resources/processedData/매머드_feature_clustered.csv\", index_col =False)\n",
    "mamm_feature = pd.read_csv(\"../../../resources/processedData/매머드_feature_clustered2.csv\", index_col =False)"
   ]
  },
  {
   "cell_type": "code",
   "execution_count": 40,
   "metadata": {},
   "outputs": [
    {
     "data": {
      "text/html": [
       "<div>\n",
       "<style scoped>\n",
       "    .dataframe tbody tr th:only-of-type {\n",
       "        vertical-align: middle;\n",
       "    }\n",
       "\n",
       "    .dataframe tbody tr th {\n",
       "        vertical-align: top;\n",
       "    }\n",
       "\n",
       "    .dataframe thead th {\n",
       "        text-align: right;\n",
       "    }\n",
       "</style>\n",
       "<table border=\"1\" class=\"dataframe\">\n",
       "  <thead>\n",
       "    <tr style=\"text-align: right;\">\n",
       "      <th></th>\n",
       "      <th>매장코드_영업일자_시간대</th>\n",
       "      <th>주중/주말</th>\n",
       "      <th>시간대구분</th>\n",
       "      <th>상업지역 면적</th>\n",
       "      <th>평균생활인구수</th>\n",
       "      <th>생활인구당 평균매출_cl</th>\n",
       "    </tr>\n",
       "  </thead>\n",
       "  <tbody>\n",
       "    <tr>\n",
       "      <th>0</th>\n",
       "      <td>S53661_20190201_1</td>\n",
       "      <td>0</td>\n",
       "      <td>1.0</td>\n",
       "      <td>203448.20</td>\n",
       "      <td>102461.88</td>\n",
       "      <td>1</td>\n",
       "    </tr>\n",
       "    <tr>\n",
       "      <th>1</th>\n",
       "      <td>S53661_20190201_2</td>\n",
       "      <td>0</td>\n",
       "      <td>2.0</td>\n",
       "      <td>203448.20</td>\n",
       "      <td>149401.14</td>\n",
       "      <td>1</td>\n",
       "    </tr>\n",
       "    <tr>\n",
       "      <th>2</th>\n",
       "      <td>S53661_20190201_3</td>\n",
       "      <td>0</td>\n",
       "      <td>3.0</td>\n",
       "      <td>203448.20</td>\n",
       "      <td>130305.51</td>\n",
       "      <td>1</td>\n",
       "    </tr>\n",
       "    <tr>\n",
       "      <th>3</th>\n",
       "      <td>S53661_20190207_1</td>\n",
       "      <td>0</td>\n",
       "      <td>1.0</td>\n",
       "      <td>203448.20</td>\n",
       "      <td>94200.97</td>\n",
       "      <td>2</td>\n",
       "    </tr>\n",
       "    <tr>\n",
       "      <th>4</th>\n",
       "      <td>S53661_20190207_2</td>\n",
       "      <td>0</td>\n",
       "      <td>2.0</td>\n",
       "      <td>203448.20</td>\n",
       "      <td>144196.27</td>\n",
       "      <td>1</td>\n",
       "    </tr>\n",
       "    <tr>\n",
       "      <th>...</th>\n",
       "      <td>...</td>\n",
       "      <td>...</td>\n",
       "      <td>...</td>\n",
       "      <td>...</td>\n",
       "      <td>...</td>\n",
       "      <td>...</td>\n",
       "    </tr>\n",
       "    <tr>\n",
       "      <th>1426</th>\n",
       "      <td>T64222_20190227_4</td>\n",
       "      <td>0</td>\n",
       "      <td>4.0</td>\n",
       "      <td>103356.25</td>\n",
       "      <td>93636.11</td>\n",
       "      <td>1</td>\n",
       "    </tr>\n",
       "    <tr>\n",
       "      <th>1427</th>\n",
       "      <td>T64222_20190228_1</td>\n",
       "      <td>0</td>\n",
       "      <td>1.0</td>\n",
       "      <td>103356.25</td>\n",
       "      <td>100872.60</td>\n",
       "      <td>2</td>\n",
       "    </tr>\n",
       "    <tr>\n",
       "      <th>1428</th>\n",
       "      <td>T64222_20190228_2</td>\n",
       "      <td>0</td>\n",
       "      <td>2.0</td>\n",
       "      <td>103356.25</td>\n",
       "      <td>146583.15</td>\n",
       "      <td>0</td>\n",
       "    </tr>\n",
       "    <tr>\n",
       "      <th>1429</th>\n",
       "      <td>T64222_20190228_3</td>\n",
       "      <td>0</td>\n",
       "      <td>3.0</td>\n",
       "      <td>103356.25</td>\n",
       "      <td>138484.15</td>\n",
       "      <td>2</td>\n",
       "    </tr>\n",
       "    <tr>\n",
       "      <th>1430</th>\n",
       "      <td>T64222_20190228_4</td>\n",
       "      <td>0</td>\n",
       "      <td>4.0</td>\n",
       "      <td>103356.25</td>\n",
       "      <td>96675.47</td>\n",
       "      <td>1</td>\n",
       "    </tr>\n",
       "  </tbody>\n",
       "</table>\n",
       "<p>1431 rows × 6 columns</p>\n",
       "</div>"
      ],
      "text/plain": [
       "          매장코드_영업일자_시간대  주중/주말  시간대구분    상업지역 면적    평균생활인구수  생활인구당 평균매출_cl\n",
       "0     S53661_20190201_1      0    1.0  203448.20  102461.88              1\n",
       "1     S53661_20190201_2      0    2.0  203448.20  149401.14              1\n",
       "2     S53661_20190201_3      0    3.0  203448.20  130305.51              1\n",
       "3     S53661_20190207_1      0    1.0  203448.20   94200.97              2\n",
       "4     S53661_20190207_2      0    2.0  203448.20  144196.27              1\n",
       "...                 ...    ...    ...        ...        ...            ...\n",
       "1426  T64222_20190227_4      0    4.0  103356.25   93636.11              1\n",
       "1427  T64222_20190228_1      0    1.0  103356.25  100872.60              2\n",
       "1428  T64222_20190228_2      0    2.0  103356.25  146583.15              0\n",
       "1429  T64222_20190228_3      0    3.0  103356.25  138484.15              2\n",
       "1430  T64222_20190228_4      0    4.0  103356.25   96675.47              1\n",
       "\n",
       "[1431 rows x 6 columns]"
      ]
     },
     "execution_count": 40,
     "metadata": {},
     "output_type": "execute_result"
    }
   ],
   "source": [
    "mamm_feature"
   ]
  },
  {
   "cell_type": "code",
   "execution_count": 37,
   "metadata": {},
   "outputs": [],
   "source": [
    "## Prepare the dataset\n",
    "from sklearn.model_selection import train_test_split\n",
    "from sklearn.preprocessing import StandardScaler\n",
    "from sklearn.model_selection import StratifiedShuffleSplit\n",
    "import numpy as np\n",
    "mamm_feature_clustered = mamm_feature_clustered.astype(str)\n",
    "mamm_feature_clustered\n",
    "\n",
    "# 원핫인코딩\n",
    "X = pd.get_dummies(mamm_feature_clustered.iloc[:,[1,2,4,5]])\n",
    "y = mamm_feature[\"생활인구당 평균매출_cl\"]\n",
    "\n",
    "# split into train/test set\n",
    "X_train, X_test, y_train, y_test = train_test_split(X, y, test_size=0.3, random_state=0)"
   ]
  },
  {
   "cell_type": "code",
   "execution_count": 87,
   "metadata": {},
   "outputs": [],
   "source": [
    "## Prepare the dataset\n",
    "from sklearn.model_selection import train_test_split\n",
    "from sklearn.preprocessing import StandardScaler\n",
    "from sklearn.model_selection import StratifiedShuffleSplit\n",
    "import numpy as np\n",
    "\n",
    "X = mamm_feature.iloc[:,[1,2,3,4]]\n",
    "y = mamm_feature[\"생활인구당 평균매출_cl\"]\n",
    "\n",
    "# split into train/test set\n",
    "X_train, X_test, y_train, y_test = train_test_split(X, y, test_size=0.3, random_state=0)\n",
    "#X_train, X_test, y_train, y_test = StratifiedShuffleSplit(X, y, test_size=0.35, random_state=0)\n",
    "\n",
    "# Standardized data\n",
    "sc = StandardScaler()\n",
    "sc.fit(X_train)\n",
    "X_train_std = sc.transform(X_train)\n",
    "X_test_std = sc.transform(X_test)"
   ]
  },
  {
   "cell_type": "code",
   "execution_count": 47,
   "metadata": {},
   "outputs": [
    {
     "data": {
      "text/plain": [
       "array([[-0.52919859, -0.31749109, -0.18870289, -0.57694956],\n",
       "       [-0.52919859, -1.26054324, -0.2009724 , -0.8930696 ],\n",
       "       [-0.52919859, -1.26054324, -0.013791  , -0.811657  ],\n",
       "       ...,\n",
       "       [-0.52919859, -1.26054324, -1.05616846, -0.97575063],\n",
       "       [-0.52919859, -1.26054324, -0.4727601 , -0.64351784],\n",
       "       [-0.52919859,  0.62556107, -0.013791  , -0.32837912]])"
      ]
     },
     "execution_count": 47,
     "metadata": {},
     "output_type": "execute_result"
    }
   ],
   "source": [
    "X_train_std"
   ]
  },
  {
   "cell_type": "code",
   "execution_count": 42,
   "metadata": {},
   "outputs": [],
   "source": [
    "import matplotlib.pyplot as plt\n",
    "from numpy import average\n",
    "import seaborn as sns\n",
    "import pandas as pd\n",
    "\n",
    "# 모델 평가를 위한 metrics\n",
    "from sklearn.metrics import accuracy_score, precision_score, recall_score, f1_score, plot_confusion_matrix, plot_roc_curve\n",
    "\n",
    "def model_execution(model, algorithm_name, x_train, y_train, x_test, y_test):\n",
    "\n",
    "    # 모델 학습\n",
    "    model.fit(X_train_std, y_train)\n",
    "    \n",
    "    # 최종 모델의 성능 평가\n",
    "    train_acc = model.score(X_train_std, y_train)\n",
    "    y_pred = model.predict(X_test_std)\n",
    "    print(f\"Train Accuracy: {train_acc:.3f}\")\n",
    "    print(f\"Test Accuracy: {accuracy_score(y_test, y_pred, average='micro'):.3f}\") # 정확도\n",
    "    print(f\"Precision: {precision_score(y_test, y_pred, average='micro'):.3f}\") # 정밀도\n",
    "    print(f\"Recall: {recall_score(y_test, y_pred, average='micro'):.3f}\") # 재현율\n",
    "    print(f\"F1-score: {f1_score(y_test, y_pred, average='micro'):.3f}\") # F1 스코어\n",
    "    \n",
    "    # 혼동행렬 시각화\n",
    "    plt.figure(figsize =(30, 30))\n",
    "    plot_confusion_matrix(model, \n",
    "                         x_test, y_test,\n",
    "                         include_values = True,\n",
    "                         display_labels = y_label_name, # 목표변수 이름\n",
    "                         average='micro',\n",
    "                         cmap = 'Pastel1') # 컬러맵\n",
    "    #plt.savefig('../figure/' + algorithm_name + '_confusion_matrix.png') # 혼동행렬 자료 저장\n",
    "    plt.show()\n",
    "    \n",
    "    plot_roc_curve(model, X_test, y_test)\n",
    "    plt.show() "
   ]
  },
  {
   "cell_type": "code",
   "execution_count": 85,
   "metadata": {},
   "outputs": [
    {
     "name": "stdout",
     "output_type": "stream",
     "text": [
      "테스트 세트의 정확도: 0.81\n"
     ]
    }
   ],
   "source": [
    "from sklearn.neighbors import KNeighborsClassifier\n",
    "knn = KNeighborsClassifier(n_neighbors=3)\n",
    "knn.fit(X_train_std, y_train)\n",
    "y_pred = knn.predict(X_test_std)\n",
    "print(\"테스트 세트의 정확도: {:.2f}\".format(knn.score(X_test_std, y_test)))"
   ]
  },
  {
   "cell_type": "code",
   "execution_count": 49,
   "metadata": {},
   "outputs": [
    {
     "name": "stdout",
     "output_type": "stream",
     "text": [
      "0.7418604651162791\n",
      "0.6977314674989094 0.6967028443924524\n"
     ]
    },
    {
     "data": {
      "image/png": "[encoded data removed]",
      "text/plain": [
       "<Figure size 360x288 with 2 Axes>"
      ]
     },
     "metadata": {
      "needs_background": "light"
     },
     "output_type": "display_data"
    }
   ],
   "source": [
    "## Decision Tree\n",
    "from sklearn.tree import DecisionTreeClassifier\n",
    "from sklearn.tree import plot_tree\n",
    "from sklearn.metrics import accuracy_score\n",
    "from sklearn.metrics import confusion_matrix\n",
    "mamm_tree = DecisionTreeClassifier(criterion='entropy')\n",
    "mamm_tree.fit(X_train_std, y_train)\n",
    "y_pred = mamm_tree.predict(X_test_std)\n",
    "precision = precision_score(y_test, y_pred,average= \"macro\")\n",
    "recall = recall_score(y_test, y_pred,average= \"macro\")\n",
    "print(accuracy_score(y_test, y_pred))\n",
    "print(precision, recall)\n",
    "\n",
    "\n",
    "#plot_tree(mamm_tree)\n",
    "\n",
    "cm = confusion_matrix(y_test, y_pred)\n",
    "cm_df = pd.DataFrame(cm,\n",
    "                     columns = ['0','1','2'])\n",
    "\n",
    "#Plotting the confusion matrix\n",
    "plt.figure(figsize=(5,4))\n",
    "sns.heatmap(cm_df, annot=True)\n",
    "plt.title('Confusion Matrix')\n",
    "plt.ylabel('Actal Values')\n",
    "plt.xlabel('Predicted Values')\n",
    "plt.show()\n"
   ]
  },
  {
   "cell_type": "code",
   "execution_count": 50,
   "metadata": {},
   "outputs": [
    {
     "name": "stdout",
     "output_type": "stream",
     "text": [
      "0.7604651162790698\n",
      "0.722710251209237 0.7180953618855744\n"
     ]
    }
   ],
   "source": [
    "## Decision Tree\n",
    "from sklearn.ensemble import RandomForestClassifier\n",
    "from sklearn.metrics import accuracy_score\n",
    "mamm_rf = RandomForestClassifier()\n",
    "mamm_rf.fit(X_train_std, y_train)\n",
    "y_pred = mamm_rf.predict(X_test_std)\n",
    "precision = precision_score(y_test, y_pred,average= \"macro\")\n",
    "recall = recall_score(y_test, y_pred,average= \"macro\")\n",
    "print(accuracy_score(y_test, y_pred))\n",
    "print(precision, recall)"
   ]
  },
  {
   "cell_type": "code",
   "execution_count": null,
   "metadata": {},
   "outputs": [],
   "source": [
    "## XGBOOST \n"
   ]
  },
  {
   "cell_type": "code",
   "execution_count": 88,
   "metadata": {},
   "outputs": [
    {
     "name": "stdout",
     "output_type": "stream",
     "text": [
      "Accuracy (Polynomial Kernel):  63.02\n",
      "F1 (Polynomial Kernel):  61.67\n",
      "Accuracy (RBF Kernel):  81.63\n",
      "F1 (RBF Kernel):  81.27\n"
     ]
    }
   ],
   "source": [
    "from sklearn import svm\n",
    "import sklearn.model_selection as model_selection\n",
    "from sklearn.metrics import accuracy_score\n",
    "from sklearn.metrics import f1_score\n",
    "rbf = svm.SVC(kernel='rbf', gamma=6, C=5).fit(X_train_std, y_train)\n",
    "poly = svm.SVC(kernel='poly', degree=13, C=13.6).fit(X_train_std, y_train)\n",
    "\n",
    "poly_pred = poly.predict(X_test_std)\n",
    "rbf_pred = rbf.predict(X_test_std)\n",
    "\n",
    "poly_accuracy = accuracy_score(y_test, poly_pred)\n",
    "poly_f1 = f1_score(y_test, poly_pred, average='weighted')\n",
    "print('Accuracy (Polynomial Kernel): ', \"%.2f\" % (poly_accuracy*100))\n",
    "print('F1 (Polynomial Kernel): ', \"%.2f\" % (poly_f1*100))\n",
    "\n",
    "rbf_accuracy = accuracy_score(y_test, rbf_pred)\n",
    "rbf_f1 = f1_score(y_test, rbf_pred, average='weighted')\n",
    "print('Accuracy (RBF Kernel): ', \"%.2f\" % (rbf_accuracy*100))\n",
    "print('F1 (RBF Kernel): ', \"%.2f\" % (rbf_f1*100))"
   ]
  },
  {
   "cell_type": "code",
   "execution_count": null,
   "metadata": {},
   "outputs": [],
   "source": [
    "import xgboost as xgb\n"
   ]
  }
 ],
 "metadata": {
  "kernelspec": {
   "display_name": "Python 3.7.10 ('tensorflow')",
   "language": "python",
   "name": "python3"
  },
  "language_info": {
   "codemirror_mode": {
    "name": "ipython",
    "version": 3
   },
   "file_extension": ".py",
   "mimetype": "text/x-python",
   "name": "python",
   "nbconvert_exporter": "python",
   "pygments_lexer": "ipython3",
   "version": "3.7.10"
  },
  "orig_nbformat": 4,
  "vscode": {
   "interpreter": {
    "hash": "9def8ea2d5a01422581d4eea917152176dd8d2a5fb8fc2d04ade9c46f806b086"
   }
  }
 },
 "nbformat": 4,
 "nbformat_minor": 2
}
