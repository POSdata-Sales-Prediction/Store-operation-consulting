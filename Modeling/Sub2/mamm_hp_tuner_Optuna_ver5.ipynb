{
  "nbformat": 4,
  "nbformat_minor": 0,
  "metadata": {
    "colab": {
      "name": "mamm_hp_tuner_Optuna_ver5.ipynb",
      "provenance": [],
      "collapsed_sections": []
    },
    "kernelspec": {
      "name": "python3",
      "display_name": "Python 3"
    },
    "language_info": {
      "name": "python"
    },
    "accelerator": "GPU",
    "gpuClass": "standard"
  },
  "cells": [
    {
      "cell_type": "markdown",
      "source": [
        "* 코랩 한글 적용법: https://teddylee777.github.io/colab/colab-korean\n",
        "* 코랩 구글 드라이브 적용법: https://rfriend.tistory.com/564"
      ],
      "metadata": {
        "id": "tdY_uzh4f81j"
      }
    },
    {
      "cell_type": "code",
      "execution_count": 1,
      "metadata": {
        "colab": {
          "base_uri": "https://localhost:8080/"
        },
        "id": "BXm6cNX2dEbb",
        "outputId": "81fe2582-a91f-4ef3-ed3a-926a73fbccae"
      },
      "outputs": [
        {
          "output_type": "stream",
          "name": "stdout",
          "text": [
            "Drive already mounted at /content/drive; to attempt to forcibly remount, call drive.mount(\"/content/drive\", force_remount=True).\n",
            "Reading package lists... Done\n",
            "Building dependency tree       \n",
            "Reading state information... Done\n",
            "fonts-nanum is already the newest version (20170925-1).\n",
            "The following package was automatically installed and is no longer required:\n",
            "  libnvidia-common-460\n",
            "Use 'sudo apt autoremove' to remove it.\n",
            "0 upgraded, 0 newly installed, 0 to remove and 49 not upgraded.\n",
            "/usr/share/fonts: caching, new cache contents: 0 fonts, 1 dirs\n",
            "/usr/share/fonts/truetype: caching, new cache contents: 0 fonts, 3 dirs\n",
            "/usr/share/fonts/truetype/humor-sans: caching, new cache contents: 1 fonts, 0 dirs\n",
            "/usr/share/fonts/truetype/liberation: caching, new cache contents: 16 fonts, 0 dirs\n",
            "/usr/share/fonts/truetype/nanum: caching, new cache contents: 10 fonts, 0 dirs\n",
            "/usr/local/share/fonts: caching, new cache contents: 0 fonts, 0 dirs\n",
            "/root/.local/share/fonts: skipping, no such directory\n",
            "/root/.fonts: skipping, no such directory\n",
            "/var/cache/fontconfig: cleaning cache directory\n",
            "/root/.cache/fontconfig: not cleaning non-existent cache directory\n",
            "/root/.fontconfig: not cleaning non-existent cache directory\n",
            "fc-cache: succeeded\n"
          ]
        }
      ],
      "source": [
        "## Load Data from google drive\n",
        "from google.colab import drive\n",
        "drive.mount('/content/drive')\n",
        "\n",
        "## 한글 폰트 mount\n",
        "!sudo apt-get install -y fonts-nanum\n",
        "!sudo fc-cache -fv\n",
        "!rm ~/.cache/matplotlib -rf\n",
        "\n",
        "# 한글 폰트 사용을 위해서 세팅\n",
        "import matplotlib.pyplot as plt\n",
        "plt.rc('font', family='NanumBarunGothic') \n",
        "\n",
        "## 이후 런타임 다시 시작 필수~!"
      ]
    },
    {
      "cell_type": "code",
      "source": [
        "## import module\n",
        "import matplotlib.pyplot as plt\n",
        "import pandas as pd\n",
        "\n",
        "## Load Data\n",
        "mamm_feature_week = pd.read_csv(\"/content/drive/MyDrive/[AM.SWU] 강남구 POS 데이터 매출 예측/processedData/매머드_주중_feature_clustered_실패.csv\", index_col =False)\n",
        "\n",
        "print(mamm_feature_week.shape)"
      ],
      "metadata": {
        "colab": {
          "base_uri": "https://localhost:8080/"
        },
        "id": "B2-ARdvNeBUq",
        "outputId": "3c30949f-6948-4f61-85a2-79c8e908e7ba"
      },
      "execution_count": 2,
      "outputs": [
        {
          "output_type": "stream",
          "name": "stdout",
          "text": [
            "(1125, 13)\n"
          ]
        }
      ]
    },
    {
      "cell_type": "code",
      "source": [
        "mamm_feature_week[\"평균생활인구수\"].max(), mamm_feature_week[\"평균생활인구수\"].min()"
      ],
      "metadata": {
        "colab": {
          "base_uri": "https://localhost:8080/"
        },
        "id": "NlimHu6aBFlS",
        "outputId": "dca26544-7729-4927-8afc-23643529485e"
      },
      "execution_count": 342,
      "outputs": [
        {
          "output_type": "execute_result",
          "data": {
            "text/plain": [
              "(194179.53, 34224.16)"
            ]
          },
          "metadata": {},
          "execution_count": 342
        }
      ]
    },
    {
      "cell_type": "code",
      "source": [
        "mamm_feature_week"
      ],
      "metadata": {
        "colab": {
          "base_uri": "https://localhost:8080/",
          "height": 658
        },
        "id": "5WXMdWDl0YiP",
        "outputId": "96f8c801-7d6a-4cd9-adaa-6871f6ff81fb"
      },
      "execution_count": 3,
      "outputs": [
        {
          "output_type": "execute_result",
          "data": {
            "text/plain": [
              "          매장코드_영업일자_시간대    매장코드          매장명       기준일ID  주중/주말  시간대구분  \\\n",
              "0     S53661_20190201_1  S53661     MMTH 역삼점  2019-02-01      0    1.0   \n",
              "1     S53661_20190201_2  S53661     MMTH 역삼점  2019-02-01      0    2.0   \n",
              "2     S53661_20190201_3  S53661     MMTH 역삼점  2019-02-01      0    3.0   \n",
              "3     S53661_20190207_1  S53661     MMTH 역삼점  2019-02-07      0    1.0   \n",
              "4     S53661_20190207_2  S53661     MMTH 역삼점  2019-02-07      0    2.0   \n",
              "...                 ...     ...          ...         ...    ...    ...   \n",
              "1120  T64222_20190227_4  T64222  MMTH 역삼GFC점  2019-02-27      0    4.0   \n",
              "1121  T64222_20190228_1  T64222  MMTH 역삼GFC점  2019-02-28      0    1.0   \n",
              "1122  T64222_20190228_2  T64222  MMTH 역삼GFC점  2019-02-28      0    2.0   \n",
              "1123  T64222_20190228_3  T64222  MMTH 역삼GFC점  2019-02-28      0    3.0   \n",
              "1124  T64222_20190228_4  T64222  MMTH 역삼GFC점  2019-02-28      0    4.0   \n",
              "\n",
              "        상업지역 면적    평균생활인구수       평균매출  생활인구당 평균매출  실패여부 평균생활인구수_cl 상업지역 면적_cl  \n",
              "0     203448.20  102461.88   37033.33     3614.35     1          중          상  \n",
              "1     203448.20  149401.14   42600.00     2851.38     1          상          상  \n",
              "2     203448.20  130305.51   17400.00     1335.32     1          상          상  \n",
              "3     203448.20   94200.97   63225.00     6711.71     0          중          상  \n",
              "4     203448.20  144196.27   34325.00     2380.44     1          상          상  \n",
              "...         ...        ...        ...         ...   ...        ...        ...  \n",
              "1120  103356.25   93636.11   45325.00     4840.55     1          중          하  \n",
              "1121  103356.25  100872.60   70550.00     6993.97     0          중          하  \n",
              "1122  103356.25  146583.15  225000.00    15349.65     0          상          하  \n",
              "1123  103356.25  138484.15   83375.00     6020.54     0          상          하  \n",
              "1124  103356.25   96675.47   50800.00     5254.69     0          중          하  \n",
              "\n",
              "[1125 rows x 13 columns]"
            ],
            "text/html": [
              "\n",
              "  <div id=\"df-4f640347-1921-4556-bf9b-4b7128d9fe44\">\n",
              "    <div class=\"colab-df-container\">\n",
              "      <div>\n",
              "<style scoped>\n",
              "    .dataframe tbody tr th:only-of-type {\n",
              "        vertical-align: middle;\n",
              "    }\n",
              "\n",
              "    .dataframe tbody tr th {\n",
              "        vertical-align: top;\n",
              "    }\n",
              "\n",
              "    .dataframe thead th {\n",
              "        text-align: right;\n",
              "    }\n",
              "</style>\n",
              "<table border=\"1\" class=\"dataframe\">\n",
              "  <thead>\n",
              "    <tr style=\"text-align: right;\">\n",
              "      <th></th>\n",
              "      <th>매장코드_영업일자_시간대</th>\n",
              "      <th>매장코드</th>\n",
              "      <th>매장명</th>\n",
              "      <th>기준일ID</th>\n",
              "      <th>주중/주말</th>\n",
              "      <th>시간대구분</th>\n",
              "      <th>상업지역 면적</th>\n",
              "      <th>평균생활인구수</th>\n",
              "      <th>평균매출</th>\n",
              "      <th>생활인구당 평균매출</th>\n",
              "      <th>실패여부</th>\n",
              "      <th>평균생활인구수_cl</th>\n",
              "      <th>상업지역 면적_cl</th>\n",
              "    </tr>\n",
              "  </thead>\n",
              "  <tbody>\n",
              "    <tr>\n",
              "      <th>0</th>\n",
              "      <td>S53661_20190201_1</td>\n",
              "      <td>S53661</td>\n",
              "      <td>MMTH 역삼점</td>\n",
              "      <td>2019-02-01</td>\n",
              "      <td>0</td>\n",
              "      <td>1.0</td>\n",
              "      <td>203448.20</td>\n",
              "      <td>102461.88</td>\n",
              "      <td>37033.33</td>\n",
              "      <td>3614.35</td>\n",
              "      <td>1</td>\n",
              "      <td>중</td>\n",
              "      <td>상</td>\n",
              "    </tr>\n",
              "    <tr>\n",
              "      <th>1</th>\n",
              "      <td>S53661_20190201_2</td>\n",
              "      <td>S53661</td>\n",
              "      <td>MMTH 역삼점</td>\n",
              "      <td>2019-02-01</td>\n",
              "      <td>0</td>\n",
              "      <td>2.0</td>\n",
              "      <td>203448.20</td>\n",
              "      <td>149401.14</td>\n",
              "      <td>42600.00</td>\n",
              "      <td>2851.38</td>\n",
              "      <td>1</td>\n",
              "      <td>상</td>\n",
              "      <td>상</td>\n",
              "    </tr>\n",
              "    <tr>\n",
              "      <th>2</th>\n",
              "      <td>S53661_20190201_3</td>\n",
              "      <td>S53661</td>\n",
              "      <td>MMTH 역삼점</td>\n",
              "      <td>2019-02-01</td>\n",
              "      <td>0</td>\n",
              "      <td>3.0</td>\n",
              "      <td>203448.20</td>\n",
              "      <td>130305.51</td>\n",
              "      <td>17400.00</td>\n",
              "      <td>1335.32</td>\n",
              "      <td>1</td>\n",
              "      <td>상</td>\n",
              "      <td>상</td>\n",
              "    </tr>\n",
              "    <tr>\n",
              "      <th>3</th>\n",
              "      <td>S53661_20190207_1</td>\n",
              "      <td>S53661</td>\n",
              "      <td>MMTH 역삼점</td>\n",
              "      <td>2019-02-07</td>\n",
              "      <td>0</td>\n",
              "      <td>1.0</td>\n",
              "      <td>203448.20</td>\n",
              "      <td>94200.97</td>\n",
              "      <td>63225.00</td>\n",
              "      <td>6711.71</td>\n",
              "      <td>0</td>\n",
              "      <td>중</td>\n",
              "      <td>상</td>\n",
              "    </tr>\n",
              "    <tr>\n",
              "      <th>4</th>\n",
              "      <td>S53661_20190207_2</td>\n",
              "      <td>S53661</td>\n",
              "      <td>MMTH 역삼점</td>\n",
              "      <td>2019-02-07</td>\n",
              "      <td>0</td>\n",
              "      <td>2.0</td>\n",
              "      <td>203448.20</td>\n",
              "      <td>144196.27</td>\n",
              "      <td>34325.00</td>\n",
              "      <td>2380.44</td>\n",
              "      <td>1</td>\n",
              "      <td>상</td>\n",
              "      <td>상</td>\n",
              "    </tr>\n",
              "    <tr>\n",
              "      <th>...</th>\n",
              "      <td>...</td>\n",
              "      <td>...</td>\n",
              "      <td>...</td>\n",
              "      <td>...</td>\n",
              "      <td>...</td>\n",
              "      <td>...</td>\n",
              "      <td>...</td>\n",
              "      <td>...</td>\n",
              "      <td>...</td>\n",
              "      <td>...</td>\n",
              "      <td>...</td>\n",
              "      <td>...</td>\n",
              "      <td>...</td>\n",
              "    </tr>\n",
              "    <tr>\n",
              "      <th>1120</th>\n",
              "      <td>T64222_20190227_4</td>\n",
              "      <td>T64222</td>\n",
              "      <td>MMTH 역삼GFC점</td>\n",
              "      <td>2019-02-27</td>\n",
              "      <td>0</td>\n",
              "      <td>4.0</td>\n",
              "      <td>103356.25</td>\n",
              "      <td>93636.11</td>\n",
              "      <td>45325.00</td>\n",
              "      <td>4840.55</td>\n",
              "      <td>1</td>\n",
              "      <td>중</td>\n",
              "      <td>하</td>\n",
              "    </tr>\n",
              "    <tr>\n",
              "      <th>1121</th>\n",
              "      <td>T64222_20190228_1</td>\n",
              "      <td>T64222</td>\n",
              "      <td>MMTH 역삼GFC점</td>\n",
              "      <td>2019-02-28</td>\n",
              "      <td>0</td>\n",
              "      <td>1.0</td>\n",
              "      <td>103356.25</td>\n",
              "      <td>100872.60</td>\n",
              "      <td>70550.00</td>\n",
              "      <td>6993.97</td>\n",
              "      <td>0</td>\n",
              "      <td>중</td>\n",
              "      <td>하</td>\n",
              "    </tr>\n",
              "    <tr>\n",
              "      <th>1122</th>\n",
              "      <td>T64222_20190228_2</td>\n",
              "      <td>T64222</td>\n",
              "      <td>MMTH 역삼GFC점</td>\n",
              "      <td>2019-02-28</td>\n",
              "      <td>0</td>\n",
              "      <td>2.0</td>\n",
              "      <td>103356.25</td>\n",
              "      <td>146583.15</td>\n",
              "      <td>225000.00</td>\n",
              "      <td>15349.65</td>\n",
              "      <td>0</td>\n",
              "      <td>상</td>\n",
              "      <td>하</td>\n",
              "    </tr>\n",
              "    <tr>\n",
              "      <th>1123</th>\n",
              "      <td>T64222_20190228_3</td>\n",
              "      <td>T64222</td>\n",
              "      <td>MMTH 역삼GFC점</td>\n",
              "      <td>2019-02-28</td>\n",
              "      <td>0</td>\n",
              "      <td>3.0</td>\n",
              "      <td>103356.25</td>\n",
              "      <td>138484.15</td>\n",
              "      <td>83375.00</td>\n",
              "      <td>6020.54</td>\n",
              "      <td>0</td>\n",
              "      <td>상</td>\n",
              "      <td>하</td>\n",
              "    </tr>\n",
              "    <tr>\n",
              "      <th>1124</th>\n",
              "      <td>T64222_20190228_4</td>\n",
              "      <td>T64222</td>\n",
              "      <td>MMTH 역삼GFC점</td>\n",
              "      <td>2019-02-28</td>\n",
              "      <td>0</td>\n",
              "      <td>4.0</td>\n",
              "      <td>103356.25</td>\n",
              "      <td>96675.47</td>\n",
              "      <td>50800.00</td>\n",
              "      <td>5254.69</td>\n",
              "      <td>0</td>\n",
              "      <td>중</td>\n",
              "      <td>하</td>\n",
              "    </tr>\n",
              "  </tbody>\n",
              "</table>\n",
              "<p>1125 rows × 13 columns</p>\n",
              "</div>\n",
              "      <button class=\"colab-df-convert\" onclick=\"convertToInteractive('df-4f640347-1921-4556-bf9b-4b7128d9fe44')\"\n",
              "              title=\"Convert this dataframe to an interactive table.\"\n",
              "              style=\"display:none;\">\n",
              "        \n",
              "  <svg xmlns=\"http://www.w3.org/2000/svg\" height=\"24px\"viewBox=\"0 0 24 24\"\n",
              "       width=\"24px\">\n",
              "    <path d=\"M0 0h24v24H0V0z\" fill=\"none\"/>\n",
              "    <path d=\"M18.56 5.44l.94 2.06.94-2.06 2.06-.94-2.06-.94-.94-2.06-.94 2.06-2.06.94zm-11 1L8.5 8.5l.94-2.06 2.06-.94-2.06-.94L8.5 2.5l-.94 2.06-2.06.94zm10 10l.94 2.06.94-2.06 2.06-.94-2.06-.94-.94-2.06-.94 2.06-2.06.94z\"/><path d=\"M17.41 7.96l-1.37-1.37c-.4-.4-.92-.59-1.43-.59-.52 0-1.04.2-1.43.59L10.3 9.45l-7.72 7.72c-.78.78-.78 2.05 0 2.83L4 21.41c.39.39.9.59 1.41.59.51 0 1.02-.2 1.41-.59l7.78-7.78 2.81-2.81c.8-.78.8-2.07 0-2.86zM5.41 20L4 18.59l7.72-7.72 1.47 1.35L5.41 20z\"/>\n",
              "  </svg>\n",
              "      </button>\n",
              "      \n",
              "  <style>\n",
              "    .colab-df-container {\n",
              "      display:flex;\n",
              "      flex-wrap:wrap;\n",
              "      gap: 12px;\n",
              "    }\n",
              "\n",
              "    .colab-df-convert {\n",
              "      background-color: #E8F0FE;\n",
              "      border: none;\n",
              "      border-radius: 50%;\n",
              "      cursor: pointer;\n",
              "      display: none;\n",
              "      fill: #1967D2;\n",
              "      height: 32px;\n",
              "      padding: 0 0 0 0;\n",
              "      width: 32px;\n",
              "    }\n",
              "\n",
              "    .colab-df-convert:hover {\n",
              "      background-color: #E2EBFA;\n",
              "      box-shadow: 0px 1px 2px rgba(60, 64, 67, 0.3), 0px 1px 3px 1px rgba(60, 64, 67, 0.15);\n",
              "      fill: #174EA6;\n",
              "    }\n",
              "\n",
              "    [theme=dark] .colab-df-convert {\n",
              "      background-color: #3B4455;\n",
              "      fill: #D2E3FC;\n",
              "    }\n",
              "\n",
              "    [theme=dark] .colab-df-convert:hover {\n",
              "      background-color: #434B5C;\n",
              "      box-shadow: 0px 1px 3px 1px rgba(0, 0, 0, 0.15);\n",
              "      filter: drop-shadow(0px 1px 2px rgba(0, 0, 0, 0.3));\n",
              "      fill: #FFFFFF;\n",
              "    }\n",
              "  </style>\n",
              "\n",
              "      <script>\n",
              "        const buttonEl =\n",
              "          document.querySelector('#df-4f640347-1921-4556-bf9b-4b7128d9fe44 button.colab-df-convert');\n",
              "        buttonEl.style.display =\n",
              "          google.colab.kernel.accessAllowed ? 'block' : 'none';\n",
              "\n",
              "        async function convertToInteractive(key) {\n",
              "          const element = document.querySelector('#df-4f640347-1921-4556-bf9b-4b7128d9fe44');\n",
              "          const dataTable =\n",
              "            await google.colab.kernel.invokeFunction('convertToInteractive',\n",
              "                                                     [key], {});\n",
              "          if (!dataTable) return;\n",
              "\n",
              "          const docLinkHtml = 'Like what you see? Visit the ' +\n",
              "            '<a target=\"_blank\" href=https://colab.research.google.com/notebooks/data_table.ipynb>data table notebook</a>'\n",
              "            + ' to learn more about interactive tables.';\n",
              "          element.innerHTML = '';\n",
              "          dataTable['output_type'] = 'display_data';\n",
              "          await google.colab.output.renderOutput(dataTable, element);\n",
              "          const docLink = document.createElement('div');\n",
              "          docLink.innerHTML = docLinkHtml;\n",
              "          element.appendChild(docLink);\n",
              "        }\n",
              "      </script>\n",
              "    </div>\n",
              "  </div>\n",
              "  "
            ]
          },
          "metadata": {},
          "execution_count": 3
        }
      ]
    },
    {
      "cell_type": "code",
      "source": [
        "## Prepare the dataset\n",
        "from sklearn.model_selection import train_test_split\n",
        "from sklearn.compose import ColumnTransformer\n",
        "from sklearn.preprocessing import OneHotEncoder, StandardScaler, MinMaxScaler\n",
        "from sklearn.preprocessing import LabelEncoder\n",
        "\n",
        "feature_col = [\"시간대구분\",\"상업지역 면적\",\"평균생활인구수\"]\n",
        "rs = 42\n",
        "\n",
        "def prepare_data(data):\n",
        "\n",
        "  # 시간대구분, 주중/주말\t원핫인코딩\n",
        "  X = data.loc[:,feature_col]\n",
        "  y = data[\"실패여부\"]\n",
        "\n",
        "  # split into train/test set\n",
        "  X_train, X_test, y_train, y_test = train_test_split(X, y, test_size=0.25, random_state=rs ,stratify = y)\n",
        "\n",
        "  num_attributes = [\"상업지역 면적\",\"평균생활인구수\"]\n",
        "  cat_attributes = [\"시간대구분\"]\n",
        "\n",
        "  feature_pipeline = ColumnTransformer([\n",
        "      (\"num\", StandardScaler(), num_attributes),\n",
        "      (\"cat\", OneHotEncoder(), cat_attributes)\n",
        "  ])\n",
        "\n",
        "  feature_pipeline.fit(X_train)\n",
        "  X_train_transformed = feature_pipeline.transform(X_train)\n",
        "  X_test_transformed = feature_pipeline.transform(X_test)\n",
        "  return X_train_transformed, y_train, X_test_transformed, y_test"
      ],
      "metadata": {
        "id": "KpMmda_6eal4"
      },
      "execution_count": 327,
      "outputs": []
    },
    {
      "cell_type": "code",
      "source": [
        "## plotting을 위한 함수 \n",
        "from sklearn.metrics import confusion_matrix\n",
        "\n",
        "# confusion matrix plotting 함수\n",
        "def plot_confusion_matrix(y_test, y_pred, plot_title):\n",
        "    # 혼동행렬 시각화)\n",
        "    cm = confusion_matrix(y_test, y_pred)\n",
        "    cm_df = pd.DataFrame(cm, columns = [\"나머지\", \"실패\"], index = [\"나머지\", \"실패\"])\n",
        "\n",
        "    #Plotting the confusion matrix\n",
        "    plt.figure(figsize=(6,5))\n",
        "    sns.heatmap(cm_df, annot=True)\n",
        "    plt.title('Confusion Matrix - '+plot_title)\n",
        "    plt.ylabel('Actal Values')\n",
        "    plt.xlabel('Predicted Values')\n",
        "    plt.show()\n"
      ],
      "metadata": {
        "id": "NQwwEkOyehdt"
      },
      "execution_count": 37,
      "outputs": []
    },
    {
      "cell_type": "code",
      "source": [
        "import matplotlib.pyplot as plt\n",
        "from numpy import average\n",
        "import seaborn as sns\n",
        "import pandas as pd\n",
        "\n",
        "# 모델 평가를 위한 metrics\n",
        "\n",
        "from sklearn.metrics import accuracy_score, precision_score, recall_score, f1_score, roc_auc_score\n",
        "\n",
        "## 모델 수행 코드\n",
        "def model_execution(model, plot_title, x_train, y_train, x_test, y_test):\n",
        "\n",
        "    # 모델 학습\n",
        "    model.fit(x_train, y_train)\n",
        "    \n",
        "    # 최종 모델의 성능 평가\n",
        "    train_acc = model.score(x_train, y_train)\n",
        "    y_pred = model.predict(x_test)\n",
        "    \n",
        "    # 다중 분류이기 때문에 평균으로 냄\n",
        "    test_acc = accuracy_score(y_test, y_pred)\n",
        "    precision = precision_score(y_test, y_pred)\n",
        "    recall = recall_score(y_test, y_pred)\n",
        "    f1 = f1_score(y_test, y_pred)\n",
        "    \n",
        "    print(f\"Train Accuracy: {train_acc:.3f}\")\n",
        "    print(f\"Test Accuracy: {test_acc:.3f}\") # 정확도\n",
        "    print(f\"Precision: {precision:.3f}\") # 정밀도\n",
        "    print(f\"Recall: {recall:.3f}\") # 재현율\n",
        "    print(f\"F1-score: {f1:.3f}\") # F1 스코어\n",
        "    \n",
        "    # confusion-matrix plot\n",
        "    plot_confusion_matrix(y_test, y_pred, plot_title)\n",
        "    return model"
      ],
      "metadata": {
        "id": "aOksEfd9enHp"
      },
      "execution_count": 200,
      "outputs": []
    },
    {
      "cell_type": "code",
      "source": [
        "# Preprocessed and Split data into trainset, testset\n",
        "X_train, y_train, X_test, y_test = prepare_data(mamm_feature_week)\n",
        "print(X_train.shape, X_test.shape)"
      ],
      "metadata": {
        "id": "Ktf-gb7nPvUr",
        "colab": {
          "base_uri": "https://localhost:8080/"
        },
        "outputId": "88820036-399e-45b8-cdaf-fabad52582d1"
      },
      "execution_count": 328,
      "outputs": [
        {
          "output_type": "stream",
          "name": "stdout",
          "text": [
            "(843, 6) (282, 6)\n"
          ]
        }
      ]
    },
    {
      "cell_type": "code",
      "source": [
        "## 튜닝 전 Decision Tree - Full\n",
        "from sklearn.tree import DecisionTreeClassifier\n",
        "dt_model_week = model_execution(DecisionTreeClassifier(criterion='entropy'), \"Decision Tree - Full (Before HP Tuning)\",X_train, y_train, X_test, y_test)\n",
        "dt_model_week.tree_.max_depth"
      ],
      "metadata": {
        "colab": {
          "base_uri": "https://localhost:8080/",
          "height": 459
        },
        "id": "TAUDvbEeev45",
        "outputId": "89c5c9f3-62ea-49d1-fe25-2dc8ec34d0d5"
      },
      "execution_count": 329,
      "outputs": [
        {
          "output_type": "stream",
          "name": "stdout",
          "text": [
            "Train Accuracy: 0.988\n",
            "Test Accuracy: 0.865\n",
            "Precision: 0.873\n",
            "Recall: 0.817\n",
            "F1-score: 0.844\n"
          ]
        },
        {
          "output_type": "display_data",
          "data": {
            "text/plain": [
              "<Figure size 432x360 with 2 Axes>"
            ],
            "image/png": "[encoded data removed]"
          },
          "metadata": {
            "needs_background": "light"
          }
        },
        {
          "output_type": "execute_result",
          "data": {
            "text/plain": [
              "20"
            ]
          },
          "metadata": {},
          "execution_count": 329
        }
      ]
    },
    {
      "cell_type": "code",
      "source": [
        "## 튜닝 전 Random Forest - WEEKDAY\n",
        "from sklearn.ensemble import RandomForestClassifier\n",
        "model_execution(RandomForestClassifier(criterion='entropy'), \"Random Forest - Full (Before HP Tuning)\",X_train, y_train, X_test, y_test)"
      ],
      "metadata": {
        "colab": {
          "base_uri": "https://localhost:8080/",
          "height": 459
        },
        "id": "tRmju9VIjR1o",
        "outputId": "c6b1f877-5177-4ca3-c46e-f32bdf777ac0"
      },
      "execution_count": 330,
      "outputs": [
        {
          "output_type": "stream",
          "name": "stdout",
          "text": [
            "Train Accuracy: 0.988\n",
            "Test Accuracy: 0.872\n",
            "Precision: 0.875\n",
            "Recall: 0.833\n",
            "F1-score: 0.854\n"
          ]
        },
        {
          "output_type": "display_data",
          "data": {
            "text/plain": [
              "<Figure size 432x360 with 2 Axes>"
            ],
            "image/png": "[encoded data removed]"
          },
          "metadata": {
            "needs_background": "light"
          }
        },
        {
          "output_type": "execute_result",
          "data": {
            "text/plain": [
              "RandomForestClassifier(criterion='entropy')"
            ]
          },
          "metadata": {},
          "execution_count": 330
        }
      ]
    },
    {
      "cell_type": "code",
      "source": [
        "## Support Vector Classifier - Full\n",
        "from sklearn.svm import SVC\n",
        "model_execution(SVC(kernel='rbf'), \"Support Vector Classifier - Full (Before HP Tuning)\",X_train, y_train, X_test, y_test)\n",
        "model_execution(SVC(kernel='poly', decision_function_shape = 'ovo'), \"Support Vector Classifier - Full (Before HP Tuning)\",X_train, y_train, X_test, y_test)"
      ],
      "metadata": {
        "colab": {
          "base_uri": "https://localhost:8080/",
          "height": 883
        },
        "id": "veBYIhwIjXK2",
        "outputId": "7171a3f9-ee6e-455e-bc17-98ff43a24ce8"
      },
      "execution_count": 331,
      "outputs": [
        {
          "output_type": "stream",
          "name": "stdout",
          "text": [
            "Train Accuracy: 0.864\n",
            "Test Accuracy: 0.901\n",
            "Precision: 0.883\n",
            "Recall: 0.897\n",
            "F1-score: 0.890\n"
          ]
        },
        {
          "output_type": "display_data",
          "data": {
            "text/plain": [
              "<Figure size 432x360 with 2 Axes>"
            ],
            "image/png": "[encoded data removed]"
          },
          "metadata": {
            "needs_background": "light"
          }
        },
        {
          "output_type": "stream",
          "name": "stdout",
          "text": [
            "Train Accuracy: 0.861\n",
            "Test Accuracy: 0.883\n",
            "Precision: 0.860\n",
            "Recall: 0.881\n",
            "F1-score: 0.871\n"
          ]
        },
        {
          "output_type": "display_data",
          "data": {
            "text/plain": [
              "<Figure size 432x360 with 2 Axes>"
            ],
            "image/png": "[encoded data removed]"
          },
          "metadata": {
            "needs_background": "light"
          }
        },
        {
          "output_type": "execute_result",
          "data": {
            "text/plain": [
              "SVC(decision_function_shape='ovo', kernel='poly')"
            ]
          },
          "metadata": {},
          "execution_count": 331
        }
      ]
    },
    {
      "cell_type": "code",
      "source": [
        "## LGBM - Full\n",
        "from lightgbm import LGBMClassifier\n",
        "model_execution(LGBMClassifier(objective='binary', metric= 'binary_logloss'), \"LGBM Classifier - Full (Before HP Tuning)\",X_train, y_train, X_test, y_test)"
      ],
      "metadata": {
        "colab": {
          "base_uri": "https://localhost:8080/",
          "height": 459
        },
        "id": "c4G_NGrusiqW",
        "outputId": "3fb12d64-0c7c-4d46-cc99-6ddd8e8d3538"
      },
      "execution_count": 334,
      "outputs": [
        {
          "output_type": "stream",
          "name": "stdout",
          "text": [
            "Train Accuracy: 0.945\n",
            "Test Accuracy: 0.883\n",
            "Precision: 0.872\n",
            "Recall: 0.865\n",
            "F1-score: 0.869\n"
          ]
        },
        {
          "output_type": "display_data",
          "data": {
            "text/plain": [
              "<Figure size 432x360 with 2 Axes>"
            ],
            "image/png": "[encoded data removed]"
          },
          "metadata": {
            "needs_background": "light"
          }
        },
        {
          "output_type": "execute_result",
          "data": {
            "text/plain": [
              "LGBMClassifier(metric='binary_logloss', objective='binary')"
            ]
          },
          "metadata": {},
          "execution_count": 334
        }
      ]
    },
    {
      "cell_type": "code",
      "source": [
        "## XGBOOST  - Full\n",
        "from xgboost import XGBClassifier\n",
        "model_execution(XGBClassifier(), \"XGBClassifier - Full (Before HP Tuning)\",X_train, y_train, X_test, y_test)"
      ],
      "metadata": {
        "colab": {
          "base_uri": "https://localhost:8080/",
          "height": 459
        },
        "id": "Xd_PMSs7jeVm",
        "outputId": "a62c6514-2671-45e7-a365-a0d7514d3a56"
      },
      "execution_count": 338,
      "outputs": [
        {
          "output_type": "stream",
          "name": "stdout",
          "text": [
            "Train Accuracy: 0.904\n",
            "Test Accuracy: 0.908\n",
            "Precision: 0.868\n",
            "Recall: 0.937\n",
            "F1-score: 0.901\n"
          ]
        },
        {
          "output_type": "display_data",
          "data": {
            "text/plain": [
              "<Figure size 432x360 with 2 Axes>"
            ],
            "image/png": "[encoded data removed]"
          },
          "metadata": {
            "needs_background": "light"
          }
        },
        {
          "output_type": "execute_result",
          "data": {
            "text/plain": [
              "XGBClassifier()"
            ]
          },
          "metadata": {},
          "execution_count": 338
        }
      ]
    },
    {
      "cell_type": "code",
      "source": [
        "## StratifiedKFold cross-validaion 진행\n",
        "from sklearn.model_selection import StratifiedKFold\n",
        "import numpy as np\n",
        "\n",
        "# split 개수, 셔플 여부 및 seed 설정\n",
        "str_kf = StratifiedKFold(n_splits = 5, shuffle = True, random_state=rs)\n",
        "\n",
        "def SKFold_validation(model, data):\n",
        "  # 시간대구분, 주중/주말\t원핫인코딩\n",
        "  X = data.loc[:,feature_col]\n",
        "  y = data[\"실패여부\"]\n",
        "\n",
        "  num_attributes = [\"상업지역 면적\",\"평균생활인구수\"]\n",
        "  cat_attributes = [\"시간대구분\"]\n",
        "\n",
        "  feature_pipeline = ColumnTransformer([\n",
        "      (\"num\", StandardScaler(), num_attributes),\n",
        "      (\"cat\", OneHotEncoder(), cat_attributes)\n",
        "  ])\n",
        "\n",
        "\n",
        "  X = feature_pipeline.fit_transform(X)\n",
        "\n",
        "  test_acc_hist = []\n",
        "  train_acc_hist = []\n",
        "\n",
        "  # split 개수 스텝 만큼 train, test 데이터셋을 매번 분할\n",
        "  for train_index, test_index in str_kf.split(X, y):\n",
        "      X_train, X_test = X[train_index], X[test_index]\n",
        "      y_train, y_test = y[train_index], y[test_index]\n",
        "      \n",
        "\n",
        "      model.fit(X_train, y_train) # 모델 학습\n",
        "      train_acc_hist.append(model.score(X_train, y_train)) # train 정확도 측정 및 기록\n",
        "\n",
        "      y_pred = model.predict(X_test) # 예측 라벨\n",
        "      test_acc_hist.append(accuracy_score(y_pred, y_test)) # test 정확도 측정 및 기록\n",
        "\n",
        "  print(\"각 분할의 train 정확도 기록 :\", train_acc_hist)\n",
        "  print(\"평균 train 정확도 :\", np.mean(train_acc_hist))\n",
        "  print(\"각 분할의 test 정확도 기록 :\", test_acc_hist)\n",
        "  print(\"평균 test 정확도 :\", np.mean(test_acc_hist))"
      ],
      "metadata": {
        "id": "hLR8v2tdykPh"
      },
      "execution_count": 339,
      "outputs": []
    },
    {
      "cell_type": "code",
      "source": [
        "## StratifiedKFold cross-validaion 진행\n",
        "print(\"**** DT ****\")\n",
        "SKFold_validation(DecisionTreeClassifier(), mamm_feature_week)\n",
        "print(\"**** RF ****\")\n",
        "SKFold_validation(RandomForestClassifier(), mamm_feature_week)\n",
        "print(\"**** SVC ****\")\n",
        "SKFold_validation(SVC(kernel=\"rbf\", gamma=5, C=8), mamm_feature_week)\n",
        "print(\"**** LGBM ****\")\n",
        "SKFold_validation(LGBMClassifier(), mamm_feature_week)\n",
        "print(\"**** XGB ****\")\n",
        "SKFold_validation(XGBClassifier(), mamm_feature_week)"
      ],
      "metadata": {
        "colab": {
          "base_uri": "https://localhost:8080/"
        },
        "id": "FhYpZqgkC8UL",
        "outputId": "910447d0-424f-4345-d97b-aa9a038a0acb"
      },
      "execution_count": 340,
      "outputs": [
        {
          "output_type": "stream",
          "name": "stdout",
          "text": [
            "**** DT ****\n",
            "각 분할의 train 정확도 기록 : [0.9877777777777778, 0.9888888888888889, 0.9933333333333333, 0.9888888888888889, 0.9911111111111112]\n",
            "평균 train 정확도 : 0.99\n",
            "각 분할의 test 정확도 기록 : [0.8311111111111111, 0.8666666666666667, 0.88, 0.8755555555555555, 0.8622222222222222]\n",
            "평균 test 정확도 : 0.8631111111111112\n",
            "**** RF ****\n",
            "각 분할의 train 정확도 기록 : [0.9877777777777778, 0.9888888888888889, 0.9933333333333333, 0.9888888888888889, 0.9911111111111112]\n",
            "평균 train 정확도 : 0.99\n",
            "각 분할의 test 정확도 기록 : [0.8622222222222222, 0.8666666666666667, 0.8755555555555555, 0.8844444444444445, 0.8533333333333334]\n",
            "평균 test 정확도 : 0.8684444444444445\n",
            "**** SVC ****\n",
            "각 분할의 train 정확도 기록 : [0.9111111111111111, 0.8988888888888888, 0.9044444444444445, 0.9022222222222223, 0.9022222222222223]\n",
            "평균 train 정확도 : 0.9037777777777778\n",
            "각 분할의 test 정확도 기록 : [0.8711111111111111, 0.92, 0.8933333333333333, 0.8977777777777778, 0.8977777777777778]\n",
            "평균 test 정확도 : 0.8960000000000001\n",
            "**** LGBM ****\n",
            "각 분할의 train 정확도 기록 : [0.9466666666666667, 0.9455555555555556, 0.9477777777777778, 0.9466666666666667, 0.94]\n",
            "평균 train 정확도 : 0.9453333333333334\n",
            "각 분할의 test 정확도 기록 : [0.8755555555555555, 0.8977777777777778, 0.88, 0.8977777777777778, 0.8888888888888888]\n",
            "평균 test 정확도 : 0.8879999999999999\n",
            "**** XGB ****\n",
            "각 분할의 train 정확도 기록 : [0.9177777777777778, 0.91, 0.9088888888888889, 0.9077777777777778, 0.9111111111111111]\n",
            "평균 train 정확도 : 0.9111111111111112\n",
            "각 분할의 test 정확도 기록 : [0.8666666666666667, 0.9155555555555556, 0.8888888888888888, 0.9022222222222223, 0.9066666666666666]\n",
            "평균 test 정확도 : 0.8959999999999999\n"
          ]
        }
      ]
    },
    {
      "cell_type": "code",
      "source": [
        "! pip install optuna"
      ],
      "metadata": {
        "colab": {
          "base_uri": "https://localhost:8080/"
        },
        "id": "bhfWZRrImKfV",
        "outputId": "a3a8cfdc-a6f2-4d2a-a4af-dbc51b1defc7"
      },
      "execution_count": 28,
      "outputs": [
        {
          "output_type": "stream",
          "name": "stdout",
          "text": [
            "Looking in indexes: https://pypi.org/simple, https://us-python.pkg.dev/colab-wheels/public/simple/\n",
            "Collecting optuna\n",
            "  Downloading optuna-2.10.1-py3-none-any.whl (308 kB)\n",
            "\u001b[K     |████████████████████████████████| 308 kB 5.2 MB/s \n",
            "\u001b[?25hCollecting cliff\n",
            "  Downloading cliff-3.10.1-py3-none-any.whl (81 kB)\n",
            "\u001b[K     |████████████████████████████████| 81 kB 8.8 MB/s \n",
            "\u001b[?25hCollecting cmaes>=0.8.2\n",
            "  Downloading cmaes-0.8.2-py3-none-any.whl (15 kB)\n",
            "Requirement already satisfied: tqdm in /usr/local/lib/python3.7/dist-packages (from optuna) (4.64.0)\n",
            "Requirement already satisfied: numpy in /usr/local/lib/python3.7/dist-packages (from optuna) (1.21.6)\n",
            "Collecting colorlog\n",
            "  Downloading colorlog-6.6.0-py2.py3-none-any.whl (11 kB)\n",
            "Requirement already satisfied: sqlalchemy>=1.1.0 in /usr/local/lib/python3.7/dist-packages (from optuna) (1.4.39)\n",
            "Requirement already satisfied: packaging>=20.0 in /usr/local/lib/python3.7/dist-packages (from optuna) (21.3)\n",
            "Requirement already satisfied: scipy!=1.4.0 in /usr/local/lib/python3.7/dist-packages (from optuna) (1.7.3)\n",
            "Requirement already satisfied: PyYAML in /usr/local/lib/python3.7/dist-packages (from optuna) (3.13)\n",
            "Collecting alembic\n",
            "  Downloading alembic-1.8.1-py3-none-any.whl (209 kB)\n",
            "\u001b[K     |████████████████████████████████| 209 kB 60.9 MB/s \n",
            "\u001b[?25hRequirement already satisfied: pyparsing!=3.0.5,>=2.0.2 in /usr/local/lib/python3.7/dist-packages (from packaging>=20.0->optuna) (3.0.9)\n",
            "Requirement already satisfied: greenlet!=0.4.17 in /usr/local/lib/python3.7/dist-packages (from sqlalchemy>=1.1.0->optuna) (1.1.2)\n",
            "Requirement already satisfied: importlib-metadata in /usr/local/lib/python3.7/dist-packages (from sqlalchemy>=1.1.0->optuna) (4.12.0)\n",
            "Requirement already satisfied: importlib-resources in /usr/local/lib/python3.7/dist-packages (from alembic->optuna) (5.8.0)\n",
            "Collecting Mako\n",
            "  Downloading Mako-1.2.1-py3-none-any.whl (78 kB)\n",
            "\u001b[K     |████████████████████████████████| 78 kB 5.5 MB/s \n",
            "\u001b[?25hCollecting pbr!=2.1.0,>=2.0.0\n",
            "  Downloading pbr-5.9.0-py2.py3-none-any.whl (112 kB)\n",
            "\u001b[K     |████████████████████████████████| 112 kB 55.7 MB/s \n",
            "\u001b[?25hRequirement already satisfied: PrettyTable>=0.7.2 in /usr/local/lib/python3.7/dist-packages (from cliff->optuna) (3.3.0)\n",
            "Collecting stevedore>=2.0.1\n",
            "  Downloading stevedore-3.5.0-py3-none-any.whl (49 kB)\n",
            "\u001b[K     |████████████████████████████████| 49 kB 6.1 MB/s \n",
            "\u001b[?25hCollecting autopage>=0.4.0\n",
            "  Downloading autopage-0.5.1-py3-none-any.whl (29 kB)\n",
            "Collecting cmd2>=1.0.0\n",
            "  Downloading cmd2-2.4.2-py3-none-any.whl (147 kB)\n",
            "\u001b[K     |████████████████████████████████| 147 kB 53.0 MB/s \n",
            "\u001b[?25hRequirement already satisfied: attrs>=16.3.0 in /usr/local/lib/python3.7/dist-packages (from cmd2>=1.0.0->cliff->optuna) (21.4.0)\n",
            "Collecting pyperclip>=1.6\n",
            "  Downloading pyperclip-1.8.2.tar.gz (20 kB)\n",
            "Requirement already satisfied: typing-extensions in /usr/local/lib/python3.7/dist-packages (from cmd2>=1.0.0->cliff->optuna) (4.1.1)\n",
            "Requirement already satisfied: wcwidth>=0.1.7 in /usr/local/lib/python3.7/dist-packages (from cmd2>=1.0.0->cliff->optuna) (0.2.5)\n",
            "Requirement already satisfied: zipp>=0.5 in /usr/local/lib/python3.7/dist-packages (from importlib-metadata->sqlalchemy>=1.1.0->optuna) (3.8.1)\n",
            "Requirement already satisfied: MarkupSafe>=0.9.2 in /usr/local/lib/python3.7/dist-packages (from Mako->alembic->optuna) (2.0.1)\n",
            "Building wheels for collected packages: pyperclip\n",
            "  Building wheel for pyperclip (setup.py) ... \u001b[?25l\u001b[?25hdone\n",
            "  Created wheel for pyperclip: filename=pyperclip-1.8.2-py3-none-any.whl size=11137 sha256=76e5505c1149dcb093155298502734996af8289fa33d32ab5e5ca5db4f3294cd\n",
            "  Stored in directory: /root/.cache/pip/wheels/9f/18/84/8f69f8b08169c7bae2dde6bd7daf0c19fca8c8e500ee620a28\n",
            "Successfully built pyperclip\n",
            "Installing collected packages: pyperclip, pbr, stevedore, Mako, cmd2, autopage, colorlog, cmaes, cliff, alembic, optuna\n",
            "Successfully installed Mako-1.2.1 alembic-1.8.1 autopage-0.5.1 cliff-3.10.1 cmaes-0.8.2 cmd2-2.4.2 colorlog-6.6.0 optuna-2.10.1 pbr-5.9.0 pyperclip-1.8.2 stevedore-3.5.0\n"
          ]
        }
      ]
    },
    {
      "cell_type": "code",
      "source": [
        "## Optuna를 활용한 Hyper parameter tuning\n",
        "import optuna\n",
        "from optuna import Trial, visualization\n",
        "from optuna.samplers import TPESampler\n",
        "from sklearn.model_selection import KFold, StratifiedKFold\n",
        "from sklearn.metrics import accuracy_score, precision_score, recall_score, f1_score, roc_auc_score\n",
        "from sklearn.model_selection import cross_val_score\n",
        "from sklearn.tree import DecisionTreeClassifier\n",
        "from sklearn.svm import SVC\n",
        "\n",
        "# tuner, cross-validation 횟수 설정\n",
        "n_trials = 100\n",
        "k = 5\n",
        "\n",
        "# Stratified k-fold CV 진행\n",
        "#str_kf = StratifiedKFold(n_splits = k, shuffle = True, random_state=rs)\n",
        "kfolds = KFold(n_splits=k, shuffle=True, random_state=rs)\n",
        "\n",
        "## Decision Tree\n",
        "def decisionTree_objective(trial: Trial, X, y):\n",
        "  param = {\n",
        "      'max_depth' : trial.suggest_int(\"max_depth\", 2, 8),\n",
        "      'min_samples_split' : trial.suggest_int(\"min_samples_split\", 2, 50),\n",
        "      'min_samples_leaf' : trial.suggest_int(\"min_samples_leaf\", 2, 50),\n",
        "      'criterion' : 'entropy'\n",
        "    }\n",
        "  \n",
        "  # 학습 모델 생성\n",
        "  model = DecisionTreeClassifier(**param)\n",
        "\n",
        "  # Cross-validation 진행\n",
        "  scores = cross_val_score(model, X, y, cv=kfolds, scoring=\"accuracy\")\n",
        "\n",
        "  return scores.mean()\n",
        "\n",
        "## RandomForest\n",
        "def randomForest_objective(trial: Trial, X, y):\n",
        "  param = {\n",
        "      'n_estimators' : trial.suggest_int('n_estimators', 50, 500),\n",
        "      'max_depth' : trial.suggest_int('max_depth', 2, 8),\n",
        "      'max_features' : trial.suggest_float('max_features', .1, 1),\n",
        "      'min_samples_split' : trial.suggest_int('min_samples_leaf', 2, 20)\n",
        "    }\n",
        "  \n",
        "  # 학습 모델 생성\n",
        "  model = RandomForestClassifier(**param)\n",
        "\n",
        "  # Cross-validation 진행\n",
        "  scores = cross_val_score(model, X, y, cv=kfolds, scoring=\"accuracy\")\n",
        "\n",
        "  return scores.mean()\n",
        "\n",
        "## XGBoost\n",
        "def XGB_objective(trial: Trial, X, y):\n",
        "  param = {\n",
        "      'n_estimators' : trial.suggest_int('n_estimators', 50, 500),\n",
        "      'max_depth' : trial.suggest_int('max_depth', 2, 6),\n",
        "      'min_child_weight' : trial.suggest_int('min_child_weight', 1, 300),\n",
        "      'learning_rate' : trial.suggest_float('learning_rate', .001, 10)\n",
        "  }\n",
        "\n",
        "  # 학습 모델 생성\n",
        "  model = XGBClassifier(**param)\n",
        "  \n",
        "  # Cross-validation 진행\n",
        "  scores = cross_val_score(model, X, y, cv=kfolds, scoring=\"accuracy\")\n",
        "\n",
        "  return scores.mean()\n",
        "\n",
        "## LGBM\n",
        "def LGBM_objective(trial: Trial, X, y):\n",
        "  param = {\n",
        "      'n_estimators' : trial.suggest_int('n_estimators', 50, 500),\n",
        "      'num_leaves' : trial.suggest_int('num_leaves', 2, 6),\n",
        "      'max_depth' : trial.suggest_int('max_depth', 2, 8),\n",
        "      'min_child_samples' : trial.suggest_int('min_child_samples', 10, 30),\n",
        "      'learning_rate' : trial.suggest_float('learning_rate', .001, 10),\n",
        "      'objective' : 'binary', \n",
        "      'metric' : 'binary_logloss'\n",
        "  }\n",
        "\n",
        "  # 학습 모델 생성\n",
        "  model = LGBMClassifier(**param)\n",
        "  \n",
        "  # Cross-validation 진행\n",
        "  scores = cross_val_score(model, X, y, cv=kfolds, scoring=\"accuracy\")\n",
        "\n",
        "  return scores.mean()\n",
        "\n",
        "\n",
        "## SVC\n",
        "def SVC_objective(trial: Trial, X, y):\n",
        "  param = {\n",
        "      'gamma' : trial.suggest_float('gamma', 1, 2),\n",
        "      'C' : trial.suggest_float('C', 1, 2),\n",
        "      'kernel' : \"rbf\"\n",
        "  }\n",
        "\n",
        "  # 학습 모델 생성\n",
        "  model = SVC(**param)\n",
        "  \n",
        "  # Cross-validation 진행\n",
        "  scores = cross_val_score(model, X, y, cv=kfolds, scoring=\"accuracy\")\n",
        "\n",
        "  return scores.mean()\n"
      ],
      "metadata": {
        "id": "k7na31pTjklU"
      },
      "execution_count": 350,
      "outputs": []
    },
    {
      "cell_type": "code",
      "source": [
        "# Define the helper function so that it can be reused\n",
        "def optuna_execution(obj, X_train, y_train, X_test, y_test):\n",
        "  study = optuna.create_study(direction=\"maximize\", sampler= TPESampler())\n",
        "\n",
        "  title = obj.split()\n",
        "\n",
        "  # 모델 설정\n",
        "  if title[0] == \"DecisionTree\":\n",
        "    objective = decisionTree_objective\n",
        "    model = DecisionTreeClassifier\n",
        "  elif title[0] == \"RandomForest\":\n",
        "    objective = randomForest_objective\n",
        "    model = RandomForestClassifier\n",
        "  elif title[0] == \"LGBM\":\n",
        "    objective = LGBM_objective\n",
        "    model = LGBMClassifier\n",
        "  elif title[0] == \"XGBoost\":\n",
        "    objective = XGB_objective\n",
        "    model = XGBClassifier\n",
        "  elif title[0] == \"SVC\":\n",
        "    objective = SVC_objective\n",
        "    model = SVC\n",
        "\n",
        "  study.optimize(lambda trial : objective(trial, X_train, y_train), n_trials = n_trials)\n",
        "\n",
        "  params = study.best_params\n",
        "  best_score = study.best_value\n",
        "  print(f\"Best score: {best_score}\\n\")\n",
        "  print(f\"Optimized parameters: {params}\\n\")\n",
        "\n",
        "  \n",
        "  # 마지막으로 검증 진행\n",
        "  plot_title = obj+' (After HP Tuning)'\n",
        "  model_execution(model(**params), plot_title, X_train, y_train, X_test, y_test)\n"
      ],
      "metadata": {
        "id": "fPS2_2Yfc5Po"
      },
      "execution_count": 30,
      "outputs": []
    },
    {
      "cell_type": "code",
      "source": [
        "## Tuning Decision Tree - Full\n",
        "optuna_execution(\"DecisionTree Full\",X_train, y_train, X_test, y_test)"
      ],
      "metadata": {
        "colab": {
          "base_uri": "https://localhost:8080/",
          "height": 1000
        },
        "id": "wqNiJkgs0X9G",
        "outputId": "4064e979-bb5c-4386-81f5-d882584cf9f8"
      },
      "execution_count": 324,
      "outputs": [
        {
          "output_type": "stream",
          "name": "stderr",
          "text": [
            "\u001b[32m[I 2022-07-27 09:03:28,297]\u001b[0m A new study created in memory with name: no-name-97b6dd93-9123-4f78-ad6f-dfe221cbbb94\u001b[0m\n",
            "\u001b[32m[I 2022-07-27 09:03:28,322]\u001b[0m Trial 0 finished with value: 0.8090025359256128 and parameters: {'max_depth': 2, 'min_samples_split': 46, 'min_samples_leaf': 14}. Best is trial 0 with value: 0.8090025359256128.\u001b[0m\n",
            "\u001b[32m[I 2022-07-27 09:03:28,342]\u001b[0m Trial 1 finished with value: 0.8730980557903635 and parameters: {'max_depth': 8, 'min_samples_split': 39, 'min_samples_leaf': 11}. Best is trial 1 with value: 0.8730980557903635.\u001b[0m\n",
            "\u001b[32m[I 2022-07-27 09:03:28,362]\u001b[0m Trial 2 finished with value: 0.8802056917441533 and parameters: {'max_depth': 5, 'min_samples_split': 8, 'min_samples_leaf': 4}. Best is trial 2 with value: 0.8802056917441533.\u001b[0m\n",
            "\u001b[32m[I 2022-07-27 09:03:28,380]\u001b[0m Trial 3 finished with value: 0.8066356720202874 and parameters: {'max_depth': 2, 'min_samples_split': 40, 'min_samples_leaf': 15}. Best is trial 2 with value: 0.8802056917441533.\u001b[0m\n",
            "\u001b[32m[I 2022-07-27 09:03:28,399]\u001b[0m Trial 4 finished with value: 0.8505705832628909 and parameters: {'max_depth': 7, 'min_samples_split': 48, 'min_samples_leaf': 21}. Best is trial 2 with value: 0.8802056917441533.\u001b[0m\n",
            "\u001b[32m[I 2022-07-27 09:03:28,416]\u001b[0m Trial 5 finished with value: 0.8386799098337561 and parameters: {'max_depth': 8, 'min_samples_split': 8, 'min_samples_leaf': 43}. Best is trial 2 with value: 0.8802056917441533.\u001b[0m\n",
            "\u001b[32m[I 2022-07-27 09:03:28,432]\u001b[0m Trial 6 finished with value: 0.8066356720202874 and parameters: {'max_depth': 2, 'min_samples_split': 10, 'min_samples_leaf': 28}. Best is trial 2 with value: 0.8802056917441533.\u001b[0m\n",
            "\u001b[32m[I 2022-07-27 09:03:28,448]\u001b[0m Trial 7 finished with value: 0.8422302056917441 and parameters: {'max_depth': 4, 'min_samples_split': 21, 'min_samples_leaf': 49}. Best is trial 2 with value: 0.8802056917441533.\u001b[0m\n",
            "\u001b[32m[I 2022-07-27 09:03:28,465]\u001b[0m Trial 8 finished with value: 0.7912510566356719 and parameters: {'max_depth': 3, 'min_samples_split': 44, 'min_samples_leaf': 27}. Best is trial 2 with value: 0.8802056917441533.\u001b[0m\n",
            "\u001b[32m[I 2022-07-27 09:03:28,484]\u001b[0m Trial 9 finished with value: 0.8790222597914905 and parameters: {'max_depth': 5, 'min_samples_split': 43, 'min_samples_leaf': 10}. Best is trial 2 with value: 0.8802056917441533.\u001b[0m\n",
            "\u001b[32m[I 2022-07-27 09:03:28,515]\u001b[0m Trial 10 finished with value: 0.8695618484080023 and parameters: {'max_depth': 6, 'min_samples_split': 2, 'min_samples_leaf': 3}. Best is trial 2 with value: 0.8802056917441533.\u001b[0m\n",
            "\u001b[32m[I 2022-07-27 09:03:28,550]\u001b[0m Trial 11 finished with value: 0.8825725556494787 and parameters: {'max_depth': 5, 'min_samples_split': 26, 'min_samples_leaf': 3}. Best is trial 11 with value: 0.8825725556494787.\u001b[0m\n",
            "\u001b[32m[I 2022-07-27 09:03:28,591]\u001b[0m Trial 12 finished with value: 0.8813891236968161 and parameters: {'max_depth': 5, 'min_samples_split': 26, 'min_samples_leaf': 4}. Best is trial 11 with value: 0.8825725556494787.\u001b[0m\n",
            "\u001b[32m[I 2022-07-27 09:03:28,628]\u001b[0m Trial 13 finished with value: 0.8742885319808396 and parameters: {'max_depth': 6, 'min_samples_split': 29, 'min_samples_leaf': 2}. Best is trial 11 with value: 0.8825725556494787.\u001b[0m\n",
            "\u001b[32m[I 2022-07-27 09:03:28,663]\u001b[0m Trial 14 finished with value: 0.8303888419273034 and parameters: {'max_depth': 4, 'min_samples_split': 26, 'min_samples_leaf': 34}. Best is trial 11 with value: 0.8825725556494787.\u001b[0m\n",
            "\u001b[32m[I 2022-07-27 09:03:28,697]\u001b[0m Trial 15 finished with value: 0.8505283178360102 and parameters: {'max_depth': 6, 'min_samples_split': 32, 'min_samples_leaf': 21}. Best is trial 11 with value: 0.8825725556494787.\u001b[0m\n",
            "\u001b[32m[I 2022-07-27 09:03:28,730]\u001b[0m Trial 16 finished with value: 0.8410749506903352 and parameters: {'max_depth': 4, 'min_samples_split': 22, 'min_samples_leaf': 7}. Best is trial 11 with value: 0.8825725556494787.\u001b[0m\n",
            "\u001b[32m[I 2022-07-27 09:03:28,766]\u001b[0m Trial 17 finished with value: 0.8422302056917441 and parameters: {'max_depth': 5, 'min_samples_split': 16, 'min_samples_leaf': 19}. Best is trial 11 with value: 0.8825725556494787.\u001b[0m\n",
            "\u001b[32m[I 2022-07-27 09:03:28,800]\u001b[0m Trial 18 finished with value: 0.8256410256410257 and parameters: {'max_depth': 7, 'min_samples_split': 34, 'min_samples_leaf': 36}. Best is trial 11 with value: 0.8825725556494787.\u001b[0m\n",
            "\u001b[32m[I 2022-07-27 09:03:28,835]\u001b[0m Trial 19 finished with value: 0.8291983657368274 and parameters: {'max_depth': 3, 'min_samples_split': 18, 'min_samples_leaf': 8}. Best is trial 11 with value: 0.8825725556494787.\u001b[0m\n",
            "\u001b[32m[I 2022-07-27 09:03:28,868]\u001b[0m Trial 20 finished with value: 0.8552831783601015 and parameters: {'max_depth': 7, 'min_samples_split': 35, 'min_samples_leaf': 16}. Best is trial 11 with value: 0.8825725556494787.\u001b[0m\n",
            "\u001b[32m[I 2022-07-27 09:03:28,904]\u001b[0m Trial 21 finished with value: 0.8778388278388279 and parameters: {'max_depth': 5, 'min_samples_split': 12, 'min_samples_leaf': 5}. Best is trial 11 with value: 0.8825725556494787.\u001b[0m\n",
            "\u001b[32m[I 2022-07-27 09:03:28,940]\u001b[0m Trial 22 finished with value: 0.8825725556494787 and parameters: {'max_depth': 5, 'min_samples_split': 26, 'min_samples_leaf': 4}. Best is trial 11 with value: 0.8825725556494787.\u001b[0m\n",
            "\u001b[32m[I 2022-07-27 09:03:28,978]\u001b[0m Trial 23 finished with value: 0.8434488588334743 and parameters: {'max_depth': 4, 'min_samples_split': 27, 'min_samples_leaf': 11}. Best is trial 11 with value: 0.8825725556494787.\u001b[0m\n",
            "\u001b[32m[I 2022-07-27 09:03:29,009]\u001b[0m Trial 24 finished with value: 0.8695618484080023 and parameters: {'max_depth': 6, 'min_samples_split': 23, 'min_samples_leaf': 8}. Best is trial 11 with value: 0.8825725556494787.\u001b[0m\n",
            "\u001b[32m[I 2022-07-27 09:03:29,048]\u001b[0m Trial 25 finished with value: 0.8801916032685263 and parameters: {'max_depth': 5, 'min_samples_split': 30, 'min_samples_leaf': 2}. Best is trial 11 with value: 0.8825725556494787.\u001b[0m\n",
            "\u001b[32m[I 2022-07-27 09:03:29,078]\u001b[0m Trial 26 finished with value: 0.822069597069597 and parameters: {'max_depth': 3, 'min_samples_split': 16, 'min_samples_leaf': 12}. Best is trial 11 with value: 0.8825725556494787.\u001b[0m\n",
            "\u001b[32m[I 2022-07-27 09:03:29,110]\u001b[0m Trial 27 finished with value: 0.870745280360665 and parameters: {'max_depth': 6, 'min_samples_split': 25, 'min_samples_leaf': 7}. Best is trial 11 with value: 0.8825725556494787.\u001b[0m\n",
            "\u001b[32m[I 2022-07-27 09:03:29,141]\u001b[0m Trial 28 finished with value: 0.8292124542124542 and parameters: {'max_depth': 4, 'min_samples_split': 36, 'min_samples_leaf': 17}. Best is trial 11 with value: 0.8825725556494787.\u001b[0m\n",
            "\u001b[32m[I 2022-07-27 09:03:29,172]\u001b[0m Trial 29 finished with value: 0.8671245421245422 and parameters: {'max_depth': 5, 'min_samples_split': 19, 'min_samples_leaf': 13}. Best is trial 11 with value: 0.8825725556494787.\u001b[0m\n",
            "\u001b[32m[I 2022-07-27 09:03:29,208]\u001b[0m Trial 30 finished with value: 0.8778388278388279 and parameters: {'max_depth': 5, 'min_samples_split': 29, 'min_samples_leaf': 6}. Best is trial 11 with value: 0.8825725556494787.\u001b[0m\n",
            "\u001b[32m[I 2022-07-27 09:03:29,238]\u001b[0m Trial 31 finished with value: 0.8813891236968161 and parameters: {'max_depth': 5, 'min_samples_split': 14, 'min_samples_leaf': 4}. Best is trial 11 with value: 0.8825725556494787.\u001b[0m\n",
            "\u001b[32m[I 2022-07-27 09:03:29,271]\u001b[0m Trial 32 finished with value: 0.8730980557903635 and parameters: {'max_depth': 6, 'min_samples_split': 14, 'min_samples_leaf': 2}. Best is trial 11 with value: 0.8825725556494787.\u001b[0m\n",
            "\u001b[32m[I 2022-07-27 09:03:29,308]\u001b[0m Trial 33 finished with value: 0.8790222597914905 and parameters: {'max_depth': 5, 'min_samples_split': 4, 'min_samples_leaf': 10}. Best is trial 11 with value: 0.8825725556494787.\u001b[0m\n",
            "\u001b[32m[I 2022-07-27 09:03:29,347]\u001b[0m Trial 34 finished with value: 0.8410749506903352 and parameters: {'max_depth': 4, 'min_samples_split': 24, 'min_samples_leaf': 6}. Best is trial 11 with value: 0.8825725556494787.\u001b[0m\n",
            "\u001b[32m[I 2022-07-27 09:03:29,379]\u001b[0m Trial 35 finished with value: 0.8398774302620456 and parameters: {'max_depth': 4, 'min_samples_split': 20, 'min_samples_leaf': 14}. Best is trial 11 with value: 0.8825725556494787.\u001b[0m\n",
            "\u001b[32m[I 2022-07-27 09:03:29,410]\u001b[0m Trial 36 finished with value: 0.8825725556494787 and parameters: {'max_depth': 5, 'min_samples_split': 39, 'min_samples_leaf': 4}. Best is trial 11 with value: 0.8825725556494787.\u001b[0m\n",
            "\u001b[32m[I 2022-07-27 09:03:29,440]\u001b[0m Trial 37 finished with value: 0.8446463792617639 and parameters: {'max_depth': 7, 'min_samples_split': 50, 'min_samples_leaf': 24}. Best is trial 11 with value: 0.8825725556494787.\u001b[0m\n",
            "\u001b[32m[I 2022-07-27 09:03:29,470]\u001b[0m Trial 38 finished with value: 0.870745280360665 and parameters: {'max_depth': 6, 'min_samples_split': 39, 'min_samples_leaf': 10}. Best is trial 11 with value: 0.8825725556494787.\u001b[0m\n",
            "\u001b[32m[I 2022-07-27 09:03:29,498]\u001b[0m Trial 39 finished with value: 0.7912440123978585 and parameters: {'max_depth': 3, 'min_samples_split': 39, 'min_samples_leaf': 32}. Best is trial 11 with value: 0.8825725556494787.\u001b[0m\n",
            "\u001b[32m[I 2022-07-27 09:03:29,526]\u001b[0m Trial 40 finished with value: 0.8315793181177797 and parameters: {'max_depth': 5, 'min_samples_split': 32, 'min_samples_leaf': 40}. Best is trial 11 with value: 0.8825725556494787.\u001b[0m\n",
            "\u001b[32m[I 2022-07-27 09:03:29,555]\u001b[0m Trial 41 finished with value: 0.8813891236968161 and parameters: {'max_depth': 5, 'min_samples_split': 27, 'min_samples_leaf': 4}. Best is trial 11 with value: 0.8825725556494787.\u001b[0m\n",
            "\u001b[32m[I 2022-07-27 09:03:29,585]\u001b[0m Trial 42 finished with value: 0.8813891236968161 and parameters: {'max_depth': 5, 'min_samples_split': 42, 'min_samples_leaf': 4}. Best is trial 11 with value: 0.8825725556494787.\u001b[0m\n",
            "\u001b[32m[I 2022-07-27 09:03:29,613]\u001b[0m Trial 43 finished with value: 0.842258382642998 and parameters: {'max_depth': 4, 'min_samples_split': 45, 'min_samples_leaf': 9}. Best is trial 11 with value: 0.8825725556494787.\u001b[0m\n",
            "\u001b[32m[I 2022-07-27 09:03:29,647]\u001b[0m Trial 44 finished with value: 0.8731121442659905 and parameters: {'max_depth': 6, 'min_samples_split': 28, 'min_samples_leaf': 5}. Best is trial 11 with value: 0.8825725556494787.\u001b[0m\n",
            "\u001b[32m[I 2022-07-27 09:03:29,677]\u001b[0m Trial 45 finished with value: 0.8825725556494787 and parameters: {'max_depth': 5, 'min_samples_split': 37, 'min_samples_leaf': 2}. Best is trial 11 with value: 0.8825725556494787.\u001b[0m\n",
            "\u001b[32m[I 2022-07-27 09:03:29,707]\u001b[0m Trial 46 finished with value: 0.8825725556494787 and parameters: {'max_depth': 5, 'min_samples_split': 42, 'min_samples_leaf': 2}. Best is trial 11 with value: 0.8825725556494787.\u001b[0m\n",
            "\u001b[32m[I 2022-07-27 09:03:29,738]\u001b[0m Trial 47 finished with value: 0.8754860524091294 and parameters: {'max_depth': 6, 'min_samples_split': 41, 'min_samples_leaf': 2}. Best is trial 11 with value: 0.8825725556494787.\u001b[0m\n",
            "\u001b[32m[I 2022-07-27 09:03:29,769]\u001b[0m Trial 48 finished with value: 0.8410467737390814 and parameters: {'max_depth': 5, 'min_samples_split': 37, 'min_samples_leaf': 48}. Best is trial 11 with value: 0.8825725556494787.\u001b[0m\n",
            "\u001b[32m[I 2022-07-27 09:03:29,799]\u001b[0m Trial 49 finished with value: 0.842258382642998 and parameters: {'max_depth': 4, 'min_samples_split': 48, 'min_samples_leaf': 7}. Best is trial 11 with value: 0.8825725556494787.\u001b[0m\n",
            "\u001b[32m[I 2022-07-27 09:03:29,829]\u001b[0m Trial 50 finished with value: 0.8754719639335024 and parameters: {'max_depth': 6, 'min_samples_split': 37, 'min_samples_leaf': 12}. Best is trial 11 with value: 0.8825725556494787.\u001b[0m\n",
            "\u001b[32m[I 2022-07-27 09:03:29,865]\u001b[0m Trial 51 finished with value: 0.8825725556494787 and parameters: {'max_depth': 5, 'min_samples_split': 43, 'min_samples_leaf': 4}. Best is trial 11 with value: 0.8825725556494787.\u001b[0m\n",
            "\u001b[32m[I 2022-07-27 09:03:29,898]\u001b[0m Trial 52 finished with value: 0.8825725556494787 and parameters: {'max_depth': 5, 'min_samples_split': 46, 'min_samples_leaf': 2}. Best is trial 11 with value: 0.8825725556494787.\u001b[0m\n",
            "\u001b[32m[I 2022-07-27 09:03:29,934]\u001b[0m Trial 53 finished with value: 0.842258382642998 and parameters: {'max_depth': 4, 'min_samples_split': 46, 'min_samples_leaf': 5}. Best is trial 11 with value: 0.8825725556494787.\u001b[0m\n",
            "\u001b[32m[I 2022-07-27 09:03:29,968]\u001b[0m Trial 54 finished with value: 0.8837559876021415 and parameters: {'max_depth': 5, 'min_samples_split': 43, 'min_samples_leaf': 2}. Best is trial 54 with value: 0.8837559876021415.\u001b[0m\n",
            "\u001b[32m[I 2022-07-27 09:03:30,002]\u001b[0m Trial 55 finished with value: 0.8790222597914905 and parameters: {'max_depth': 5, 'min_samples_split': 49, 'min_samples_leaf': 8}. Best is trial 54 with value: 0.8837559876021415.\u001b[0m\n",
            "\u001b[32m[I 2022-07-27 09:03:30,034]\u001b[0m Trial 56 finished with value: 0.8790222597914905 and parameters: {'max_depth': 5, 'min_samples_split': 44, 'min_samples_leaf': 6}. Best is trial 54 with value: 0.8837559876021415.\u001b[0m\n",
            "\u001b[32m[I 2022-07-27 09:03:30,068]\u001b[0m Trial 57 finished with value: 0.8742955762186533 and parameters: {'max_depth': 6, 'min_samples_split': 40, 'min_samples_leaf': 4}. Best is trial 54 with value: 0.8837559876021415.\u001b[0m\n",
            "\u001b[32m[I 2022-07-27 09:03:30,099]\u001b[0m Trial 58 finished with value: 0.8434418145956608 and parameters: {'max_depth': 4, 'min_samples_split': 47, 'min_samples_leaf': 2}. Best is trial 54 with value: 0.8837559876021415.\u001b[0m\n",
            "\u001b[32m[I 2022-07-27 09:03:30,130]\u001b[0m Trial 59 finished with value: 0.8778388278388279 and parameters: {'max_depth': 5, 'min_samples_split': 43, 'min_samples_leaf': 8}. Best is trial 54 with value: 0.8837559876021415.\u001b[0m\n",
            "\u001b[32m[I 2022-07-27 09:03:30,164]\u001b[0m Trial 60 finished with value: 0.8422795153564385 and parameters: {'max_depth': 5, 'min_samples_split': 45, 'min_samples_leaf': 24}. Best is trial 54 with value: 0.8837559876021415.\u001b[0m\n",
            "\u001b[32m[I 2022-07-27 09:03:30,195]\u001b[0m Trial 61 finished with value: 0.8813891236968161 and parameters: {'max_depth': 5, 'min_samples_split': 33, 'min_samples_leaf': 3}. Best is trial 54 with value: 0.8837559876021415.\u001b[0m\n",
            "\u001b[32m[I 2022-07-27 09:03:30,226]\u001b[0m Trial 62 finished with value: 0.8837559876021415 and parameters: {'max_depth': 5, 'min_samples_split': 42, 'min_samples_leaf': 2}. Best is trial 54 with value: 0.8837559876021415.\u001b[0m\n",
            "\u001b[32m[I 2022-07-27 09:03:30,258]\u001b[0m Trial 63 finished with value: 0.8825725556494787 and parameters: {'max_depth': 5, 'min_samples_split': 42, 'min_samples_leaf': 2}. Best is trial 54 with value: 0.8837559876021415.\u001b[0m\n",
            "\u001b[32m[I 2022-07-27 09:03:30,296]\u001b[0m Trial 64 finished with value: 0.8742885319808398 and parameters: {'max_depth': 8, 'min_samples_split': 43, 'min_samples_leaf': 2}. Best is trial 54 with value: 0.8837559876021415.\u001b[0m\n",
            "\u001b[32m[I 2022-07-27 09:03:30,340]\u001b[0m Trial 65 finished with value: 0.870745280360665 and parameters: {'max_depth': 6, 'min_samples_split': 39, 'min_samples_leaf': 5}. Best is trial 54 with value: 0.8837559876021415.\u001b[0m\n",
            "\u001b[32m[I 2022-07-27 09:03:30,373]\u001b[0m Trial 66 finished with value: 0.842258382642998 and parameters: {'max_depth': 4, 'min_samples_split': 37, 'min_samples_leaf': 9}. Best is trial 54 with value: 0.8837559876021415.\u001b[0m\n",
            "\u001b[32m[I 2022-07-27 09:03:30,409]\u001b[0m Trial 67 finished with value: 0.8778388278388279 and parameters: {'max_depth': 5, 'min_samples_split': 31, 'min_samples_leaf': 6}. Best is trial 54 with value: 0.8837559876021415.\u001b[0m\n",
            "\u001b[32m[I 2022-07-27 09:03:30,443]\u001b[0m Trial 68 finished with value: 0.8790222597914905 and parameters: {'max_depth': 5, 'min_samples_split': 38, 'min_samples_leaf': 7}. Best is trial 54 with value: 0.8837559876021415.\u001b[0m\n",
            "\u001b[32m[I 2022-07-27 09:03:30,477]\u001b[0m Trial 69 finished with value: 0.8327627500704423 and parameters: {'max_depth': 6, 'min_samples_split': 47, 'min_samples_leaf': 30}. Best is trial 54 with value: 0.8837559876021415.\u001b[0m\n",
            "\u001b[32m[I 2022-07-27 09:03:30,510]\u001b[0m Trial 70 finished with value: 0.8813891236968161 and parameters: {'max_depth': 5, 'min_samples_split': 42, 'min_samples_leaf': 4}. Best is trial 54 with value: 0.8837559876021415.\u001b[0m\n",
            "\u001b[32m[I 2022-07-27 09:03:30,541]\u001b[0m Trial 71 finished with value: 0.8813891236968161 and parameters: {'max_depth': 5, 'min_samples_split': 34, 'min_samples_leaf': 3}. Best is trial 54 with value: 0.8837559876021415.\u001b[0m\n",
            "\u001b[32m[I 2022-07-27 09:03:30,576]\u001b[0m Trial 72 finished with value: 0.8813891236968161 and parameters: {'max_depth': 5, 'min_samples_split': 44, 'min_samples_leaf': 3}. Best is trial 54 with value: 0.8837559876021415.\u001b[0m\n",
            "\u001b[32m[I 2022-07-27 09:03:30,608]\u001b[0m Trial 73 finished with value: 0.8825725556494787 and parameters: {'max_depth': 5, 'min_samples_split': 41, 'min_samples_leaf': 2}. Best is trial 54 with value: 0.8837559876021415.\u001b[0m\n",
            "\u001b[32m[I 2022-07-27 09:03:30,639]\u001b[0m Trial 74 finished with value: 0.842258382642998 and parameters: {'max_depth': 4, 'min_samples_split': 41, 'min_samples_leaf': 6}. Best is trial 54 with value: 0.8837559876021415.\u001b[0m\n",
            "\u001b[32m[I 2022-07-27 09:03:30,671]\u001b[0m Trial 75 finished with value: 0.8825725556494787 and parameters: {'max_depth': 5, 'min_samples_split': 40, 'min_samples_leaf': 2}. Best is trial 54 with value: 0.8837559876021415.\u001b[0m\n",
            "\u001b[32m[I 2022-07-27 09:03:30,705]\u001b[0m Trial 76 finished with value: 0.8125739644970414 and parameters: {'max_depth': 2, 'min_samples_split': 40, 'min_samples_leaf': 5}. Best is trial 54 with value: 0.8837559876021415.\u001b[0m\n",
            "\u001b[32m[I 2022-07-27 09:03:30,742]\u001b[0m Trial 77 finished with value: 0.8790222597914905 and parameters: {'max_depth': 5, 'min_samples_split': 46, 'min_samples_leaf': 9}. Best is trial 54 with value: 0.8837559876021415.\u001b[0m\n",
            "\u001b[32m[I 2022-07-27 09:03:30,789]\u001b[0m Trial 78 finished with value: 0.8814032121724429 and parameters: {'max_depth': 6, 'min_samples_split': 35, 'min_samples_leaf': 11}. Best is trial 54 with value: 0.8837559876021415.\u001b[0m\n",
            "\u001b[32m[I 2022-07-27 09:03:30,827]\u001b[0m Trial 79 finished with value: 0.842258382642998 and parameters: {'max_depth': 4, 'min_samples_split': 50, 'min_samples_leaf': 3}. Best is trial 54 with value: 0.8837559876021415.\u001b[0m\n",
            "\u001b[32m[I 2022-07-27 09:03:30,865]\u001b[0m Trial 80 finished with value: 0.8825725556494787 and parameters: {'max_depth': 5, 'min_samples_split': 44, 'min_samples_leaf': 4}. Best is trial 54 with value: 0.8837559876021415.\u001b[0m\n",
            "\u001b[32m[I 2022-07-27 09:03:30,902]\u001b[0m Trial 81 finished with value: 0.8778388278388279 and parameters: {'max_depth': 5, 'min_samples_split': 41, 'min_samples_leaf': 7}. Best is trial 54 with value: 0.8837559876021415.\u001b[0m\n",
            "\u001b[32m[I 2022-07-27 09:03:30,936]\u001b[0m Trial 82 finished with value: 0.8778388278388279 and parameters: {'max_depth': 5, 'min_samples_split': 22, 'min_samples_leaf': 5}. Best is trial 54 with value: 0.8837559876021415.\u001b[0m\n",
            "\u001b[32m[I 2022-07-27 09:03:30,973]\u001b[0m Trial 83 finished with value: 0.8813891236968161 and parameters: {'max_depth': 5, 'min_samples_split': 44, 'min_samples_leaf': 4}. Best is trial 54 with value: 0.8837559876021415.\u001b[0m\n",
            "\u001b[32m[I 2022-07-27 09:03:31,010]\u001b[0m Trial 84 finished with value: 0.8813891236968161 and parameters: {'max_depth': 5, 'min_samples_split': 38, 'min_samples_leaf': 3}. Best is trial 54 with value: 0.8837559876021415.\u001b[0m\n",
            "\u001b[32m[I 2022-07-27 09:03:31,048]\u001b[0m Trial 85 finished with value: 0.873105100028177 and parameters: {'max_depth': 6, 'min_samples_split': 36, 'min_samples_leaf': 2}. Best is trial 54 with value: 0.8837559876021415.\u001b[0m\n",
            "\u001b[32m[I 2022-07-27 09:03:31,083]\u001b[0m Trial 86 finished with value: 0.8790222597914905 and parameters: {'max_depth': 5, 'min_samples_split': 40, 'min_samples_leaf': 6}. Best is trial 54 with value: 0.8837559876021415.\u001b[0m\n",
            "\u001b[32m[I 2022-07-27 09:03:31,116]\u001b[0m Trial 87 finished with value: 0.830395886165117 and parameters: {'max_depth': 4, 'min_samples_split': 25, 'min_samples_leaf': 37}. Best is trial 54 with value: 0.8837559876021415.\u001b[0m\n",
            "\u001b[32m[I 2022-07-27 09:03:31,158]\u001b[0m Trial 88 finished with value: 0.8837559876021415 and parameters: {'max_depth': 5, 'min_samples_split': 42, 'min_samples_leaf': 2}. Best is trial 54 with value: 0.8837559876021415.\u001b[0m\n",
            "\u001b[32m[I 2022-07-27 09:03:31,193]\u001b[0m Trial 89 finished with value: 0.870745280360665 and parameters: {'max_depth': 6, 'min_samples_split': 42, 'min_samples_leaf': 8}. Best is trial 54 with value: 0.8837559876021415.\u001b[0m\n",
            "\u001b[32m[I 2022-07-27 09:03:31,228]\u001b[0m Trial 90 finished with value: 0.8446745562130179 and parameters: {'max_depth': 5, 'min_samples_split': 48, 'min_samples_leaf': 18}. Best is trial 54 with value: 0.8837559876021415.\u001b[0m\n",
            "\u001b[32m[I 2022-07-27 09:03:31,263]\u001b[0m Trial 91 finished with value: 0.8825725556494787 and parameters: {'max_depth': 5, 'min_samples_split': 42, 'min_samples_leaf': 2}. Best is trial 54 with value: 0.8837559876021415.\u001b[0m\n",
            "\u001b[32m[I 2022-07-27 09:03:31,299]\u001b[0m Trial 92 finished with value: 0.8813891236968161 and parameters: {'max_depth': 5, 'min_samples_split': 45, 'min_samples_leaf': 3}. Best is trial 54 with value: 0.8837559876021415.\u001b[0m\n",
            "\u001b[32m[I 2022-07-27 09:03:31,346]\u001b[0m Trial 93 finished with value: 0.8778388278388279 and parameters: {'max_depth': 5, 'min_samples_split': 47, 'min_samples_leaf': 5}. Best is trial 54 with value: 0.8837559876021415.\u001b[0m\n",
            "\u001b[32m[I 2022-07-27 09:03:31,390]\u001b[0m Trial 94 finished with value: 0.8825725556494787 and parameters: {'max_depth': 5, 'min_samples_split': 45, 'min_samples_leaf': 2}. Best is trial 54 with value: 0.8837559876021415.\u001b[0m\n",
            "\u001b[32m[I 2022-07-27 09:03:31,428]\u001b[0m Trial 95 finished with value: 0.8825725556494787 and parameters: {'max_depth': 5, 'min_samples_split': 43, 'min_samples_leaf': 4}. Best is trial 54 with value: 0.8837559876021415.\u001b[0m\n",
            "\u001b[32m[I 2022-07-27 09:03:31,462]\u001b[0m Trial 96 finished with value: 0.842258382642998 and parameters: {'max_depth': 4, 'min_samples_split': 43, 'min_samples_leaf': 7}. Best is trial 54 with value: 0.8837559876021415.\u001b[0m\n",
            "\u001b[32m[I 2022-07-27 09:03:31,500]\u001b[0m Trial 97 finished with value: 0.8410749506903352 and parameters: {'max_depth': 4, 'min_samples_split': 28, 'min_samples_leaf': 5}. Best is trial 54 with value: 0.8837559876021415.\u001b[0m\n",
            "\u001b[32m[I 2022-07-27 09:03:31,536]\u001b[0m Trial 98 finished with value: 0.8813891236968161 and parameters: {'max_depth': 5, 'min_samples_split': 38, 'min_samples_leaf': 4}. Best is trial 54 with value: 0.8837559876021415.\u001b[0m\n",
            "\u001b[32m[I 2022-07-27 09:03:31,573]\u001b[0m Trial 99 finished with value: 0.8493448858833474 and parameters: {'max_depth': 6, 'min_samples_split': 30, 'min_samples_leaf': 21}. Best is trial 54 with value: 0.8837559876021415.\u001b[0m\n"
          ]
        },
        {
          "output_type": "stream",
          "name": "stdout",
          "text": [
            "Best score: 0.8837559876021415\n",
            "\n",
            "Optimized parameters: {'max_depth': 5, 'min_samples_split': 43, 'min_samples_leaf': 2}\n",
            "\n",
            "Train Accuracy: 0.894\n",
            "Test Accuracy: 0.872\n",
            "Precision: 0.857\n",
            "Recall: 0.857\n",
            "F1-score: 0.857\n"
          ]
        },
        {
          "output_type": "display_data",
          "data": {
            "text/plain": [
              "<Figure size 432x360 with 2 Axes>"
            ],
            "image/png": "[encoded data removed]"
          },
          "metadata": {
            "needs_background": "light"
          }
        }
      ]
    },
    {
      "cell_type": "code",
      "source": [
        "## Tuning XGB - Full\n",
        "optuna_execution(\"XGBoost Full\",X_train, y_train, X_test, y_test)"
      ],
      "metadata": {
        "id": "3Du4FFqV49Hy",
        "colab": {
          "base_uri": "https://localhost:8080/",
          "height": 1000
        },
        "outputId": "acc47cbf-b8f4-40c7-970e-8a63c59e85e8"
      },
      "execution_count": 354,
      "outputs": [
        {
          "output_type": "stream",
          "name": "stderr",
          "text": [
            "\u001b[32m[I 2022-07-27 10:25:42,771]\u001b[0m A new study created in memory with name: no-name-15e8a2ee-b131-4ba6-a7c7-0be2f01304f5\u001b[0m\n",
            "\u001b[32m[I 2022-07-27 10:25:43,212]\u001b[0m Trial 0 finished with value: 0.551577909270217 and parameters: {'n_estimators': 467, 'max_depth': 4, 'min_child_weight': 194, 'learning_rate': 0.5217947429315138}. Best is trial 0 with value: 0.551577909270217.\u001b[0m\n",
            "\u001b[32m[I 2022-07-27 10:25:43,565]\u001b[0m Trial 1 finished with value: 0.5862707805015498 and parameters: {'n_estimators': 383, 'max_depth': 6, 'min_child_weight': 46, 'learning_rate': 2.742138308384211}. Best is trial 1 with value: 0.5862707805015498.\u001b[0m\n",
            "\u001b[32m[I 2022-07-27 10:25:43,867]\u001b[0m Trial 2 finished with value: 0.551577909270217 and parameters: {'n_estimators': 323, 'max_depth': 3, 'min_child_weight': 19, 'learning_rate': 8.311545038451706}. Best is trial 1 with value: 0.5862707805015498.\u001b[0m\n",
            "\u001b[32m[I 2022-07-27 10:25:44,279]\u001b[0m Trial 3 finished with value: 0.5243589743589743 and parameters: {'n_estimators': 452, 'max_depth': 6, 'min_child_weight': 204, 'learning_rate': 7.058737687325854}. Best is trial 1 with value: 0.5862707805015498.\u001b[0m\n",
            "\u001b[32m[I 2022-07-27 10:25:44,605]\u001b[0m Trial 4 finished with value: 0.551577909270217 and parameters: {'n_estimators': 343, 'max_depth': 6, 'min_child_weight': 240, 'learning_rate': 0.5213043100301811}. Best is trial 1 with value: 0.5862707805015498.\u001b[0m\n",
            "\u001b[32m[I 2022-07-27 10:25:44,845]\u001b[0m Trial 5 finished with value: 0.48175542406311644 and parameters: {'n_estimators': 238, 'max_depth': 2, 'min_child_weight': 48, 'learning_rate': 3.9972699698454086}. Best is trial 1 with value: 0.5862707805015498.\u001b[0m\n",
            "\u001b[32m[I 2022-07-27 10:25:44,943]\u001b[0m Trial 6 finished with value: 0.5206255283178359 and parameters: {'n_estimators': 67, 'max_depth': 3, 'min_child_weight': 234, 'learning_rate': 4.666394355290497}. Best is trial 1 with value: 0.5862707805015498.\u001b[0m\n",
            "\u001b[32m[I 2022-07-27 10:25:45,079]\u001b[0m Trial 7 finished with value: 0.5219780219780219 and parameters: {'n_estimators': 100, 'max_depth': 4, 'min_child_weight': 87, 'learning_rate': 9.921245211479496}. Best is trial 1 with value: 0.5862707805015498.\u001b[0m\n",
            "\u001b[32m[I 2022-07-27 10:25:45,216]\u001b[0m Trial 8 finished with value: 0.5089743589743589 and parameters: {'n_estimators': 115, 'max_depth': 2, 'min_child_weight': 68, 'learning_rate': 3.38358149806901}. Best is trial 1 with value: 0.5862707805015498.\u001b[0m\n",
            "\u001b[32m[I 2022-07-27 10:25:45,470]\u001b[0m Trial 9 finished with value: 0.551577909270217 and parameters: {'n_estimators': 268, 'max_depth': 4, 'min_child_weight': 163, 'learning_rate': 0.24545941020334172}. Best is trial 1 with value: 0.5862707805015498.\u001b[0m\n",
            "\u001b[32m[I 2022-07-27 10:25:45,844]\u001b[0m Trial 10 finished with value: 0.5243589743589743 and parameters: {'n_estimators': 392, 'max_depth': 5, 'min_child_weight': 296, 'learning_rate': 2.222170401679967}. Best is trial 1 with value: 0.5862707805015498.\u001b[0m\n",
            "\u001b[32m[I 2022-07-27 10:25:46,310]\u001b[0m Trial 11 finished with value: 0.5219780219780219 and parameters: {'n_estimators': 499, 'max_depth': 5, 'min_child_weight': 128, 'learning_rate': 2.027189980813224}. Best is trial 1 with value: 0.5862707805015498.\u001b[0m\n",
            "\u001b[32m[I 2022-07-27 10:25:46,697]\u001b[0m Trial 12 finished with value: 0.551577909270217 and parameters: {'n_estimators': 424, 'max_depth': 5, 'min_child_weight': 131, 'learning_rate': 1.9548774373705848}. Best is trial 1 with value: 0.5862707805015498.\u001b[0m\n",
            "\u001b[32m[I 2022-07-27 10:25:47,170]\u001b[0m Trial 13 finished with value: 0.5908636235559312 and parameters: {'n_estimators': 498, 'max_depth': 3, 'min_child_weight': 4, 'learning_rate': 6.197608618484192}. Best is trial 13 with value: 0.5908636235559312.\u001b[0m\n",
            "\u001b[32m[I 2022-07-27 10:25:47,533]\u001b[0m Trial 14 finished with value: 0.5219780219780219 and parameters: {'n_estimators': 377, 'max_depth': 3, 'min_child_weight': 10, 'learning_rate': 6.190435859192897}. Best is trial 13 with value: 0.5908636235559312.\u001b[0m\n",
            "\u001b[32m[I 2022-07-27 10:25:47,751]\u001b[0m Trial 15 finished with value: 0.5077768385460694 and parameters: {'n_estimators': 196, 'max_depth': 6, 'min_child_weight': 102, 'learning_rate': 5.765381053960413}. Best is trial 13 with value: 0.5908636235559312.\u001b[0m\n",
            "\u001b[32m[I 2022-07-27 10:25:48,166]\u001b[0m Trial 16 finished with value: 0.5432516201746971 and parameters: {'n_estimators': 414, 'max_depth': 3, 'min_child_weight': 2, 'learning_rate': 7.388195557610283}. Best is trial 13 with value: 0.5908636235559312.\u001b[0m\n",
            "\u001b[32m[I 2022-07-27 10:25:48,493]\u001b[0m Trial 17 finished with value: 0.5648422090729783 and parameters: {'n_estimators': 326, 'max_depth': 5, 'min_child_weight': 43, 'learning_rate': 3.6302132286140805}. Best is trial 13 with value: 0.5908636235559312.\u001b[0m\n",
            "\u001b[32m[I 2022-07-27 10:25:48,929]\u001b[0m Trial 18 finished with value: 0.5207945900253593 and parameters: {'n_estimators': 471, 'max_depth': 2, 'min_child_weight': 45, 'learning_rate': 5.263067633456409}. Best is trial 13 with value: 0.5908636235559312.\u001b[0m\n",
            "\u001b[32m[I 2022-07-27 10:25:49,286]\u001b[0m Trial 19 finished with value: 0.5101577909270217 and parameters: {'n_estimators': 360, 'max_depth': 3, 'min_child_weight': 88, 'learning_rate': 8.654279900530579}. Best is trial 13 with value: 0.5908636235559312.\u001b[0m\n",
            "\u001b[32m[I 2022-07-27 10:25:49,744]\u001b[0m Trial 20 finished with value: 0.5491969568892646 and parameters: {'n_estimators': 500, 'max_depth': 4, 'min_child_weight': 40, 'learning_rate': 2.9347939401537335}. Best is trial 13 with value: 0.5908636235559312.\u001b[0m\n",
            "\u001b[32m[I 2022-07-27 10:25:50,058]\u001b[0m Trial 21 finished with value: 0.4756410256410256 and parameters: {'n_estimators': 306, 'max_depth': 5, 'min_child_weight': 29, 'learning_rate': 4.14543152582402}. Best is trial 13 with value: 0.5908636235559312.\u001b[0m\n",
            "\u001b[32m[I 2022-07-27 10:25:50,364]\u001b[0m Trial 22 finished with value: 0.48175542406311644 and parameters: {'n_estimators': 291, 'max_depth': 6, 'min_child_weight': 64, 'learning_rate': 2.898869125513995}. Best is trial 13 with value: 0.5908636235559312.\u001b[0m\n",
            "\u001b[32m[I 2022-07-27 10:25:50,621]\u001b[0m Trial 23 finished with value: 0.4863553113553113 and parameters: {'n_estimators': 244, 'max_depth': 5, 'min_child_weight': 1, 'learning_rate': 6.433876838862544}. Best is trial 13 with value: 0.5908636235559312.\u001b[0m\n",
            "\u001b[32m[I 2022-07-27 10:25:50,837]\u001b[0m Trial 24 finished with value: 0.4934065934065933 and parameters: {'n_estimators': 184, 'max_depth': 6, 'min_child_weight': 66, 'learning_rate': 5.022369913994549}. Best is trial 13 with value: 0.5908636235559312.\u001b[0m\n",
            "\u001b[32m[I 2022-07-27 10:25:51,332]\u001b[0m Trial 25 finished with value: 0.551577909270217 and parameters: {'n_estimators': 430, 'max_depth': 5, 'min_child_weight': 115, 'learning_rate': 1.1752480615285452}. Best is trial 13 with value: 0.5908636235559312.\u001b[0m\n",
            "\u001b[32m[I 2022-07-27 10:25:52,288]\u001b[0m Trial 26 finished with value: 0.5182445759368836 and parameters: {'n_estimators': 394, 'max_depth': 4, 'min_child_weight': 28, 'learning_rate': 3.7885620152632375}. Best is trial 13 with value: 0.5908636235559312.\u001b[0m\n",
            "\u001b[32m[I 2022-07-27 10:25:53,031]\u001b[0m Trial 27 finished with value: 0.5206255283178359 and parameters: {'n_estimators': 340, 'max_depth': 6, 'min_child_weight': 156, 'learning_rate': 4.452005828665606}. Best is trial 13 with value: 0.5908636235559312.\u001b[0m\n",
            "\u001b[32m[I 2022-07-27 10:25:53,558]\u001b[0m Trial 28 finished with value: 0.6358551704705551 and parameters: {'n_estimators': 180, 'max_depth': 5, 'min_child_weight': 76, 'learning_rate': 1.3759400698778}. Best is trial 28 with value: 0.6358551704705551.\u001b[0m\n",
            "\u001b[32m[I 2022-07-27 10:25:54,216]\u001b[0m Trial 29 finished with value: 0.551577909270217 and parameters: {'n_estimators': 161, 'max_depth': 4, 'min_child_weight': 89, 'learning_rate': 1.1212208393498562}. Best is trial 28 with value: 0.6358551704705551.\u001b[0m\n",
            "\u001b[32m[I 2022-07-27 10:25:54,761]\u001b[0m Trial 30 finished with value: 0.6418145956607495 and parameters: {'n_estimators': 142, 'max_depth': 6, 'min_child_weight': 68, 'learning_rate': 1.1906861927518078}. Best is trial 30 with value: 0.6418145956607495.\u001b[0m\n",
            "\u001b[32m[I 2022-07-27 10:25:55,193]\u001b[0m Trial 31 finished with value: 0.6417934629473091 and parameters: {'n_estimators': 150, 'max_depth': 6, 'min_child_weight': 61, 'learning_rate': 1.455777520107511}. Best is trial 30 with value: 0.6418145956607495.\u001b[0m\n",
            "\u001b[32m[I 2022-07-27 10:25:55,741]\u001b[0m Trial 32 finished with value: 0.6322978303747535 and parameters: {'n_estimators': 135, 'max_depth': 6, 'min_child_weight': 72, 'learning_rate': 1.3262940696066954}. Best is trial 30 with value: 0.6418145956607495.\u001b[0m\n",
            "\u001b[32m[I 2022-07-27 10:25:56,063]\u001b[0m Trial 33 finished with value: 0.6394054663285432 and parameters: {'n_estimators': 142, 'max_depth': 6, 'min_child_weight': 80, 'learning_rate': 1.3321278382241817}. Best is trial 30 with value: 0.6418145956607495.\u001b[0m\n",
            "\u001b[32m[I 2022-07-27 10:25:56,251]\u001b[0m Trial 34 finished with value: 0.551577909270217 and parameters: {'n_estimators': 58, 'max_depth': 6, 'min_child_weight': 111, 'learning_rate': 0.09594543551657098}. Best is trial 30 with value: 0.6418145956607495.\u001b[0m\n",
            "\u001b[32m[I 2022-07-27 10:25:56,740]\u001b[0m Trial 35 finished with value: 0.551577909270217 and parameters: {'n_estimators': 213, 'max_depth': 6, 'min_child_weight': 137, 'learning_rate': 0.9107156448531302}. Best is trial 30 with value: 0.6418145956607495.\u001b[0m\n",
            "\u001b[32m[I 2022-07-27 10:25:57,110]\u001b[0m Trial 36 finished with value: 0.551577909270217 and parameters: {'n_estimators': 154, 'max_depth': 6, 'min_child_weight': 173, 'learning_rate': 1.6197689984079777}. Best is trial 30 with value: 0.6418145956607495.\u001b[0m\n",
            "\u001b[32m[I 2022-07-27 10:25:57,415]\u001b[0m Trial 37 finished with value: 0.4792054099746407 and parameters: {'n_estimators': 89, 'max_depth': 5, 'min_child_weight': 57, 'learning_rate': 2.639553948342608}. Best is trial 30 with value: 0.6418145956607495.\u001b[0m\n",
            "\u001b[32m[I 2022-07-27 10:25:57,743]\u001b[0m Trial 38 finished with value: 0.6311214426599042 and parameters: {'n_estimators': 133, 'max_depth': 6, 'min_child_weight': 82, 'learning_rate': 0.6394515852549452}. Best is trial 30 with value: 0.6418145956607495.\u001b[0m\n",
            "\u001b[32m[I 2022-07-27 10:25:58,294]\u001b[0m Trial 39 finished with value: 0.5123415046491969 and parameters: {'n_estimators': 173, 'max_depth': 6, 'min_child_weight': 23, 'learning_rate': 2.46744535383115}. Best is trial 30 with value: 0.6418145956607495.\u001b[0m\n",
            "\u001b[32m[I 2022-07-27 10:25:58,848]\u001b[0m Trial 40 finished with value: 0.551577909270217 and parameters: {'n_estimators': 219, 'max_depth': 5, 'min_child_weight': 206, 'learning_rate': 1.7393902499908815}. Best is trial 30 with value: 0.6418145956607495.\u001b[0m\n",
            "\u001b[32m[I 2022-07-27 10:25:59,322]\u001b[0m Trial 41 finished with value: 0.6394054663285432 and parameters: {'n_estimators': 141, 'max_depth': 6, 'min_child_weight': 81, 'learning_rate': 1.356977513548854}. Best is trial 30 with value: 0.6418145956607495.\u001b[0m\n",
            "\u001b[32m[I 2022-07-27 10:25:59,558]\u001b[0m Trial 42 finished with value: 0.551577909270217 and parameters: {'n_estimators': 89, 'max_depth': 6, 'min_child_weight': 98, 'learning_rate': 0.7178879120903379}. Best is trial 30 with value: 0.6418145956607495.\u001b[0m\n",
            "\u001b[32m[I 2022-07-27 10:26:00,326]\u001b[0m Trial 43 finished with value: 0.6323048746125669 and parameters: {'n_estimators': 126, 'max_depth': 6, 'min_child_weight': 74, 'learning_rate': 1.4994986798383172}. Best is trial 30 with value: 0.6418145956607495.\u001b[0m\n",
            "\u001b[32m[I 2022-07-27 10:26:00,691]\u001b[0m Trial 44 finished with value: 0.6405818540433925 and parameters: {'n_estimators': 148, 'max_depth': 6, 'min_child_weight': 53, 'learning_rate': 0.45716920899590396}. Best is trial 30 with value: 0.6418145956607495.\u001b[0m\n",
            "\u001b[32m[I 2022-07-27 10:26:00,857]\u001b[0m Trial 45 finished with value: 0.6394125105663567 and parameters: {'n_estimators': 104, 'max_depth': 6, 'min_child_weight': 54, 'learning_rate': 0.2184728584935638}. Best is trial 30 with value: 0.6418145956607495.\u001b[0m\n",
            "\u001b[32m[I 2022-07-27 10:26:01,064]\u001b[0m Trial 46 finished with value: 0.8007819103972951 and parameters: {'n_estimators': 104, 'max_depth': 6, 'min_child_weight': 35, 'learning_rate': 0.040385111913150806}. Best is trial 46 with value: 0.8007819103972951.\u001b[0m\n",
            "\u001b[32m[I 2022-07-27 10:26:01,232]\u001b[0m Trial 47 finished with value: 0.6477317554240631 and parameters: {'n_estimators': 100, 'max_depth': 6, 'min_child_weight': 55, 'learning_rate': 0.060613566571728894}. Best is trial 46 with value: 0.8007819103972951.\u001b[0m\n",
            "\u001b[32m[I 2022-07-27 10:26:01,392]\u001b[0m Trial 48 finished with value: 0.8007748661594816 and parameters: {'n_estimators': 73, 'max_depth': 6, 'min_child_weight': 34, 'learning_rate': 0.41534359326632364}. Best is trial 46 with value: 0.8007819103972951.\u001b[0m\n",
            "\u001b[32m[I 2022-07-27 10:26:01,543]\u001b[0m Trial 49 finished with value: 0.8043322062552832 and parameters: {'n_estimators': 76, 'max_depth': 6, 'min_child_weight': 35, 'learning_rate': 0.7532489939199634}. Best is trial 49 with value: 0.8043322062552832.\u001b[0m\n",
            "\u001b[32m[I 2022-07-27 10:26:01,732]\u001b[0m Trial 50 finished with value: 0.8398633417864187 and parameters: {'n_estimators': 70, 'max_depth': 5, 'min_child_weight': 18, 'learning_rate': 0.021580634100200224}. Best is trial 50 with value: 0.8398633417864187.\u001b[0m\n",
            "\u001b[32m[I 2022-07-27 10:26:01,923]\u001b[0m Trial 51 finished with value: 0.8624260355029586 and parameters: {'n_estimators': 73, 'max_depth': 5, 'min_child_weight': 18, 'learning_rate': 0.10296028535270264}. Best is trial 51 with value: 0.8624260355029586.\u001b[0m\n",
            "\u001b[32m[I 2022-07-27 10:26:02,116]\u001b[0m Trial 52 finished with value: 0.8422372499295576 and parameters: {'n_estimators': 74, 'max_depth': 5, 'min_child_weight': 19, 'learning_rate': 0.03011528665601041}. Best is trial 51 with value: 0.8624260355029586.\u001b[0m\n",
            "\u001b[32m[I 2022-07-27 10:26:02,276]\u001b[0m Trial 53 finished with value: 0.8482037193575656 and parameters: {'n_estimators': 71, 'max_depth': 5, 'min_child_weight': 18, 'learning_rate': 0.6460940432550558}. Best is trial 51 with value: 0.8624260355029586.\u001b[0m\n",
            "\u001b[32m[I 2022-07-27 10:26:02,451]\u001b[0m Trial 54 finished with value: 0.8244716821639898 and parameters: {'n_estimators': 57, 'max_depth': 5, 'min_child_weight': 14, 'learning_rate': 0.007506039074176629}. Best is trial 51 with value: 0.8624260355029586.\u001b[0m\n",
            "\u001b[32m[I 2022-07-27 10:26:02,597]\u001b[0m Trial 55 finished with value: 0.864806987883911 and parameters: {'n_estimators': 55, 'max_depth': 5, 'min_child_weight': 18, 'learning_rate': 0.8443048563439612}. Best is trial 55 with value: 0.864806987883911.\u001b[0m\n",
            "\u001b[32m[I 2022-07-27 10:26:02,749]\u001b[0m Trial 56 finished with value: 0.8541208791208792 and parameters: {'n_estimators': 54, 'max_depth': 5, 'min_child_weight': 12, 'learning_rate': 0.8055870625943715}. Best is trial 55 with value: 0.864806987883911.\u001b[0m\n",
            "\u001b[32m[I 2022-07-27 10:26:02,889]\u001b[0m Trial 57 finished with value: 0.6176669484361792 and parameters: {'n_estimators': 81, 'max_depth': 5, 'min_child_weight': 16, 'learning_rate': 2.0388258115925084}. Best is trial 55 with value: 0.864806987883911.\u001b[0m\n",
            "\u001b[32m[I 2022-07-27 10:26:03,109]\u001b[0m Trial 58 finished with value: 0.8541279233586925 and parameters: {'n_estimators': 118, 'max_depth': 5, 'min_child_weight': 19, 'learning_rate': 0.8740994897284255}. Best is trial 55 with value: 0.864806987883911.\u001b[0m\n",
            "\u001b[32m[I 2022-07-27 10:26:03,274]\u001b[0m Trial 59 finished with value: 0.5682516201746971 and parameters: {'n_estimators': 119, 'max_depth': 4, 'min_child_weight': 7, 'learning_rate': 2.2886830377637812}. Best is trial 55 with value: 0.864806987883911.\u001b[0m\n",
            "\u001b[32m[I 2022-07-27 10:26:03,380]\u001b[0m Trial 60 finished with value: 0.5077768385460694 and parameters: {'n_estimators': 52, 'max_depth': 5, 'min_child_weight': 286, 'learning_rate': 3.229072271031175}. Best is trial 55 with value: 0.864806987883911.\u001b[0m\n",
            "\u001b[32m[I 2022-07-27 10:26:03,528]\u001b[0m Trial 61 finished with value: 0.8529374471682164 and parameters: {'n_estimators': 64, 'max_depth': 5, 'min_child_weight': 21, 'learning_rate': 0.9308974442354684}. Best is trial 55 with value: 0.864806987883911.\u001b[0m\n",
            "\u001b[32m[I 2022-07-27 10:26:03,674]\u001b[0m Trial 62 finished with value: 0.8434699915469146 and parameters: {'n_estimators': 53, 'max_depth': 5, 'min_child_weight': 24, 'learning_rate': 0.8944335174417224}. Best is trial 55 with value: 0.864806987883911.\u001b[0m\n",
            "\u001b[32m[I 2022-07-27 10:26:03,802]\u001b[0m Trial 63 finished with value: 0.8422865595942518 and parameters: {'n_estimators': 50, 'max_depth': 5, 'min_child_weight': 25, 'learning_rate': 0.9457449298875744}. Best is trial 55 with value: 0.864806987883911.\u001b[0m\n",
            "\u001b[32m[I 2022-07-27 10:26:04,065]\u001b[0m Trial 64 finished with value: 0.8339250493096648 and parameters: {'n_estimators': 113, 'max_depth': 5, 'min_child_weight': 7, 'learning_rate': 1.8765490388363433}. Best is trial 55 with value: 0.864806987883911.\u001b[0m\n",
            "\u001b[32m[I 2022-07-27 10:26:04,222]\u001b[0m Trial 65 finished with value: 0.7746548323471399 and parameters: {'n_estimators': 89, 'max_depth': 5, 'min_child_weight': 42, 'learning_rate': 0.5046185124529083}. Best is trial 55 with value: 0.864806987883911.\u001b[0m\n",
            "\u001b[32m[I 2022-07-27 10:26:04,357]\u001b[0m Trial 66 finished with value: 0.7130881938574246 and parameters: {'n_estimators': 63, 'max_depth': 4, 'min_child_weight': 46, 'learning_rate': 0.7409721550366786}. Best is trial 55 with value: 0.864806987883911.\u001b[0m\n",
            "\u001b[32m[I 2022-07-27 10:26:04,523]\u001b[0m Trial 67 finished with value: 0.8434699915469146 and parameters: {'n_estimators': 89, 'max_depth': 5, 'min_child_weight': 27, 'learning_rate': 0.9501512796261896}. Best is trial 55 with value: 0.864806987883911.\u001b[0m\n",
            "\u001b[32m[I 2022-07-27 10:26:04,785]\u001b[0m Trial 68 finished with value: 0.869512538743308 and parameters: {'n_estimators': 86, 'max_depth': 5, 'min_child_weight': 2, 'learning_rate': 0.4367720554409508}. Best is trial 68 with value: 0.869512538743308.\u001b[0m\n",
            "\u001b[32m[I 2022-07-27 10:26:04,926]\u001b[0m Trial 69 finished with value: 0.45315581854043396 and parameters: {'n_estimators': 96, 'max_depth': 4, 'min_child_weight': 1, 'learning_rate': 9.694011519643446}. Best is trial 68 with value: 0.869512538743308.\u001b[0m\n",
            "\u001b[32m[I 2022-07-27 10:26:05,245]\u001b[0m Trial 70 finished with value: 0.8695618484080022 and parameters: {'n_estimators': 115, 'max_depth': 5, 'min_child_weight': 7, 'learning_rate': 0.48503636649057513}. Best is trial 70 with value: 0.8695618484080022.\u001b[0m\n",
            "\u001b[32m[I 2022-07-27 10:26:05,496]\u001b[0m Trial 71 finished with value: 0.8529374471682164 and parameters: {'n_estimators': 113, 'max_depth': 5, 'min_child_weight': 12, 'learning_rate': 0.3985792853352627}. Best is trial 70 with value: 0.8695618484080022.\u001b[0m\n",
            "\u001b[32m[I 2022-07-27 10:26:05,773]\u001b[0m Trial 72 finished with value: 0.8588686954071569 and parameters: {'n_estimators': 117, 'max_depth': 5, 'min_child_weight': 11, 'learning_rate': 0.36631015180580573}. Best is trial 70 with value: 0.8695618484080022.\u001b[0m\n",
            "\u001b[32m[I 2022-07-27 10:26:06,080]\u001b[0m Trial 73 finished with value: 0.8529163144547759 and parameters: {'n_estimators': 125, 'max_depth': 5, 'min_child_weight': 9, 'learning_rate': 0.3947533620466275}. Best is trial 70 with value: 0.8695618484080022.\u001b[0m\n",
            "\u001b[32m[I 2022-07-27 10:26:06,339]\u001b[0m Trial 74 finished with value: 0.8541138348830657 and parameters: {'n_estimators': 116, 'max_depth': 5, 'min_child_weight': 12, 'learning_rate': 0.38803865255579084}. Best is trial 70 with value: 0.8695618484080022.\u001b[0m\n",
            "\u001b[32m[I 2022-07-27 10:26:06,734]\u001b[0m Trial 75 finished with value: 0.8517117497886728 and parameters: {'n_estimators': 160, 'max_depth': 5, 'min_child_weight': 2, 'learning_rate': 1.6931377162723398}. Best is trial 70 with value: 0.8695618484080022.\u001b[0m\n",
            "\u001b[32m[I 2022-07-27 10:26:06,912]\u001b[0m Trial 76 finished with value: 0.7806213017751478 and parameters: {'n_estimators': 110, 'max_depth': 5, 'min_child_weight': 35, 'learning_rate': 1.2137069496441342}. Best is trial 70 with value: 0.8695618484080022.\u001b[0m\n",
            "\u001b[32m[I 2022-07-27 10:26:07,109]\u001b[0m Trial 77 finished with value: 0.49102564102564095 and parameters: {'n_estimators': 170, 'max_depth': 4, 'min_child_weight': 12, 'learning_rate': 7.2401172404661285}. Best is trial 70 with value: 0.8695618484080022.\u001b[0m\n",
            "\u001b[32m[I 2022-07-27 10:26:07,321]\u001b[0m Trial 78 finished with value: 0.47937447168216407 and parameters: {'n_estimators': 192, 'max_depth': 5, 'min_child_weight': 33, 'learning_rate': 7.764119310297563}. Best is trial 70 with value: 0.8695618484080022.\u001b[0m\n",
            "\u001b[32m[I 2022-07-27 10:26:07,465]\u001b[0m Trial 79 finished with value: 0.7604747816286277 and parameters: {'n_estimators': 80, 'max_depth': 4, 'min_child_weight': 44, 'learning_rate': 0.4826754892589459}. Best is trial 70 with value: 0.8695618484080022.\u001b[0m\n",
            "\u001b[32m[I 2022-07-27 10:26:07,700]\u001b[0m Trial 80 finished with value: 0.8434629473091011 and parameters: {'n_estimators': 126, 'max_depth': 5, 'min_child_weight': 27, 'learning_rate': 0.2898917334705191}. Best is trial 70 with value: 0.8695618484080022.\u001b[0m\n",
            "\u001b[32m[I 2022-07-27 10:26:07,959]\u001b[0m Trial 81 finished with value: 0.8517187940264863 and parameters: {'n_estimators': 116, 'max_depth': 5, 'min_child_weight': 11, 'learning_rate': 1.0217649348217728}. Best is trial 70 with value: 0.8695618484080022.\u001b[0m\n",
            "\u001b[32m[I 2022-07-27 10:26:08,143]\u001b[0m Trial 82 finished with value: 0.8541208791208792 and parameters: {'n_estimators': 93, 'max_depth': 5, 'min_child_weight': 21, 'learning_rate': 1.103868623408717}. Best is trial 70 with value: 0.8695618484080022.\u001b[0m\n",
            "\u001b[32m[I 2022-07-27 10:26:08,309]\u001b[0m Trial 83 finished with value: 0.7924908424908426 and parameters: {'n_estimators': 97, 'max_depth': 5, 'min_child_weight': 39, 'learning_rate': 0.6634030870159003}. Best is trial 70 with value: 0.8695618484080022.\u001b[0m\n",
            "\u001b[32m[I 2022-07-27 10:26:08,551]\u001b[0m Trial 84 finished with value: 0.8600098619329388 and parameters: {'n_estimators': 80, 'max_depth': 5, 'min_child_weight': 2, 'learning_rate': 1.1701872707763705}. Best is trial 70 with value: 0.8695618484080022.\u001b[0m\n",
            "\u001b[32m[I 2022-07-27 10:26:09,039]\u001b[0m Trial 85 finished with value: 0.8304099746407438 and parameters: {'n_estimators': 261, 'max_depth': 5, 'min_child_weight': 3, 'learning_rate': 2.02421486727929}. Best is trial 70 with value: 0.8695618484080022.\u001b[0m\n",
            "\u001b[32m[I 2022-07-27 10:26:09,285]\u001b[0m Trial 86 finished with value: 0.8540715694561849 and parameters: {'n_estimators': 82, 'max_depth': 5, 'min_child_weight': 1, 'learning_rate': 1.458273186390937}. Best is trial 70 with value: 0.8695618484080022.\u001b[0m\n",
            "\u001b[32m[I 2022-07-27 10:26:09,460]\u001b[0m Trial 87 finished with value: 0.8493730628346012 and parameters: {'n_estimators': 95, 'max_depth': 2, 'min_child_weight': 20, 'learning_rate': 1.1443325063266874}. Best is trial 70 with value: 0.8695618484080022.\u001b[0m\n",
            "\u001b[32m[I 2022-07-27 10:26:09,660]\u001b[0m Trial 88 finished with value: 0.658403775711468 and parameters: {'n_estimators': 133, 'max_depth': 5, 'min_child_weight': 50, 'learning_rate': 1.691004301039234}. Best is trial 70 with value: 0.8695618484080022.\u001b[0m\n",
            "\u001b[32m[I 2022-07-27 10:26:09,812]\u001b[0m Trial 89 finished with value: 0.8434699915469146 and parameters: {'n_estimators': 63, 'max_depth': 5, 'min_child_weight': 28, 'learning_rate': 0.7414069496099343}. Best is trial 70 with value: 0.8695618484080022.\u001b[0m\n",
            "\u001b[32m[I 2022-07-27 10:26:09,969]\u001b[0m Trial 90 finished with value: 0.5243589743589743 and parameters: {'n_estimators': 103, 'max_depth': 5, 'min_child_weight': 16, 'learning_rate': 2.2968417140792505}. Best is trial 70 with value: 0.8695618484080022.\u001b[0m\n",
            "\u001b[32m[I 2022-07-27 10:26:10,191]\u001b[0m Trial 91 finished with value: 0.8636094674556214 and parameters: {'n_estimators': 83, 'max_depth': 5, 'min_child_weight': 10, 'learning_rate': 0.31184714459481633}. Best is trial 70 with value: 0.8695618484080022.\u001b[0m\n",
            "\u001b[32m[I 2022-07-27 10:26:10,409]\u001b[0m Trial 92 finished with value: 0.8541138348830657 and parameters: {'n_estimators': 84, 'max_depth': 5, 'min_child_weight': 9, 'learning_rate': 1.150307243173943}. Best is trial 70 with value: 0.8695618484080022.\u001b[0m\n",
            "\u001b[32m[I 2022-07-27 10:26:10,521]\u001b[0m Trial 93 finished with value: 0.551577909270217 and parameters: {'n_estimators': 66, 'max_depth': 5, 'min_child_weight': 228, 'learning_rate': 0.3277227758245358}. Best is trial 70 with value: 0.8695618484080022.\u001b[0m\n",
            "\u001b[32m[I 2022-07-27 10:26:10,684]\u001b[0m Trial 94 finished with value: 0.8363553113553113 and parameters: {'n_estimators': 74, 'max_depth': 5, 'min_child_weight': 29, 'learning_rate': 0.22075941466279503}. Best is trial 70 with value: 0.8695618484080022.\u001b[0m\n",
            "\u001b[32m[I 2022-07-27 10:26:10,895]\u001b[0m Trial 95 finished with value: 0.8541349675965062 and parameters: {'n_estimators': 104, 'max_depth': 5, 'min_child_weight': 21, 'learning_rate': 0.7789666356014368}. Best is trial 70 with value: 0.8695618484080022.\u001b[0m\n",
            "\u001b[32m[I 2022-07-27 10:26:11,055]\u001b[0m Trial 96 finished with value: 0.551577909270217 and parameters: {'n_estimators': 106, 'max_depth': 5, 'min_child_weight': 178, 'learning_rate': 0.6782244018635308}. Best is trial 70 with value: 0.8695618484080022.\u001b[0m\n",
            "\u001b[32m[I 2022-07-27 10:26:11,251]\u001b[0m Trial 97 finished with value: 0.8600309946463792 and parameters: {'n_estimators': 60, 'max_depth': 5, 'min_child_weight': 7, 'learning_rate': 0.8155181175996911}. Best is trial 70 with value: 0.8695618484080022.\u001b[0m\n",
            "\u001b[32m[I 2022-07-27 10:26:11,556]\u001b[0m Trial 98 finished with value: 0.8564595660749508 and parameters: {'n_estimators': 130, 'max_depth': 5, 'min_child_weight': 6, 'learning_rate': 1.5194534126927508}. Best is trial 70 with value: 0.8695618484080022.\u001b[0m\n",
            "\u001b[32m[I 2022-07-27 10:26:11,789]\u001b[0m Trial 99 finished with value: 0.8588193857424626 and parameters: {'n_estimators': 81, 'max_depth': 5, 'min_child_weight': 6, 'learning_rate': 1.559419129341474}. Best is trial 70 with value: 0.8695618484080022.\u001b[0m\n"
          ]
        },
        {
          "output_type": "stream",
          "name": "stdout",
          "text": [
            "Best score: 0.8695618484080022\n",
            "\n",
            "Optimized parameters: {'n_estimators': 115, 'max_depth': 5, 'min_child_weight': 7, 'learning_rate': 0.48503636649057513}\n",
            "\n",
            "Train Accuracy: 0.931\n",
            "Test Accuracy: 0.894\n",
            "Precision: 0.881\n",
            "Recall: 0.881\n",
            "F1-score: 0.881\n"
          ]
        },
        {
          "output_type": "display_data",
          "data": {
            "text/plain": [
              "<Figure size 432x360 with 2 Axes>"
            ],
            "image/png": "[encoded data removed]"
          },
          "metadata": {
            "needs_background": "light"
          }
        }
      ]
    },
    {
      "cell_type": "code",
      "source": [
        "## Tuning Random Forest - Full\n",
        "optuna_execution(\"RandomForest Full\",X_train, y_train, X_test, y_test)"
      ],
      "metadata": {
        "colab": {
          "base_uri": "https://localhost:8080/",
          "height": 1000
        },
        "id": "8vMREkxxwPwS",
        "outputId": "a5e35da1-6453-46c0-920f-736c83714d91"
      },
      "execution_count": 304,
      "outputs": [
        {
          "output_type": "stream",
          "name": "stderr",
          "text": [
            "\u001b[32m[I 2022-07-27 08:51:58,546]\u001b[0m A new study created in memory with name: no-name-27f4e24c-2d7e-4ad0-835b-a57e70cca4e7\u001b[0m\n",
            "\u001b[32m[I 2022-07-27 08:51:59,044]\u001b[0m Trial 0 finished with value: 0.8280571992110455 and parameters: {'n_estimators': 60, 'max_depth': 2, 'max_features': 0.1825088959083319, 'min_samples_leaf': 17}. Best is trial 0 with value: 0.8280571992110455.\u001b[0m\n",
            "\u001b[32m[I 2022-07-27 08:52:00,336]\u001b[0m Trial 1 finished with value: 0.884967596506058 and parameters: {'n_estimators': 134, 'max_depth': 7, 'max_features': 0.9875772657705402, 'min_samples_leaf': 5}. Best is trial 1 with value: 0.884967596506058.\u001b[0m\n",
            "\u001b[32m[I 2022-07-27 08:52:03,743]\u001b[0m Trial 2 finished with value: 0.8837912087912088 and parameters: {'n_estimators': 391, 'max_depth': 7, 'max_features': 0.4038659244463525, 'min_samples_leaf': 3}. Best is trial 1 with value: 0.884967596506058.\u001b[0m\n",
            "\u001b[32m[I 2022-07-27 08:52:07,369]\u001b[0m Trial 3 finished with value: 0.8671597633136093 and parameters: {'n_estimators': 460, 'max_depth': 3, 'max_features': 0.14181104655207163, 'min_samples_leaf': 13}. Best is trial 1 with value: 0.884967596506058.\u001b[0m\n",
            "\u001b[32m[I 2022-07-27 08:52:09,862]\u001b[0m Trial 4 finished with value: 0.8837912087912088 and parameters: {'n_estimators': 298, 'max_depth': 8, 'max_features': 0.23764380281162734, 'min_samples_leaf': 13}. Best is trial 1 with value: 0.884967596506058.\u001b[0m\n",
            "\u001b[32m[I 2022-07-27 08:52:12,672]\u001b[0m Trial 5 finished with value: 0.884967596506058 and parameters: {'n_estimators': 329, 'max_depth': 4, 'max_features': 0.8250818844221097, 'min_samples_leaf': 10}. Best is trial 1 with value: 0.884967596506058.\u001b[0m\n",
            "\u001b[32m[I 2022-07-27 08:52:13,734]\u001b[0m Trial 6 finished with value: 0.8885178923640462 and parameters: {'n_estimators': 123, 'max_depth': 8, 'max_features': 0.21175871644032251, 'min_samples_leaf': 9}. Best is trial 6 with value: 0.8885178923640462.\u001b[0m\n",
            "\u001b[32m[I 2022-07-27 08:52:15,590]\u001b[0m Trial 7 finished with value: 0.8861651169343476 and parameters: {'n_estimators': 209, 'max_depth': 8, 'max_features': 0.6543523826417774, 'min_samples_leaf': 7}. Best is trial 6 with value: 0.8885178923640462.\u001b[0m\n",
            "\u001b[32m[I 2022-07-27 08:52:19,494]\u001b[0m Trial 8 finished with value: 0.8837912087912088 and parameters: {'n_estimators': 462, 'max_depth': 8, 'max_features': 0.16695870938472968, 'min_samples_leaf': 9}. Best is trial 6 with value: 0.8885178923640462.\u001b[0m\n",
            "\u001b[32m[I 2022-07-27 08:52:21,091]\u001b[0m Trial 9 finished with value: 0.8802268244575936 and parameters: {'n_estimators': 179, 'max_depth': 5, 'max_features': 0.8054428347246204, 'min_samples_leaf': 5}. Best is trial 6 with value: 0.8885178923640462.\u001b[0m\n",
            "\u001b[32m[I 2022-07-27 08:52:21,622]\u001b[0m Trial 10 finished with value: 0.8837700760777685 and parameters: {'n_estimators': 58, 'max_depth': 6, 'max_features': 0.3752042774712872, 'min_samples_leaf': 20}. Best is trial 6 with value: 0.8885178923640462.\u001b[0m\n",
            "\u001b[32m[I 2022-07-27 08:52:23,413]\u001b[0m Trial 11 finished with value: 0.8849816849816851 and parameters: {'n_estimators': 200, 'max_depth': 8, 'max_features': 0.6084019050140379, 'min_samples_leaf': 8}. Best is trial 6 with value: 0.8885178923640462.\u001b[0m\n",
            "\u001b[32m[I 2022-07-27 08:52:25,361]\u001b[0m Trial 12 finished with value: 0.8837912087912088 and parameters: {'n_estimators': 221, 'max_depth': 6, 'max_features': 0.5694611128335261, 'min_samples_leaf': 7}. Best is trial 6 with value: 0.8885178923640462.\u001b[0m\n",
            "\u001b[32m[I 2022-07-27 08:52:26,529]\u001b[0m Trial 13 finished with value: 0.8838052972668358 and parameters: {'n_estimators': 123, 'max_depth': 7, 'max_features': 0.6791487453838022, 'min_samples_leaf': 12}. Best is trial 6 with value: 0.8885178923640462.\u001b[0m\n",
            "\u001b[32m[I 2022-07-27 08:52:28,720]\u001b[0m Trial 14 finished with value: 0.8861580726965343 and parameters: {'n_estimators': 255, 'max_depth': 6, 'max_features': 0.4237349439719745, 'min_samples_leaf': 2}. Best is trial 6 with value: 0.8885178923640462.\u001b[0m\n",
            "\u001b[32m[I 2022-07-27 08:52:29,904]\u001b[0m Trial 15 finished with value: 0.8814032121724429 and parameters: {'n_estimators': 129, 'max_depth': 5, 'max_features': 0.7342024279859269, 'min_samples_leaf': 7}. Best is trial 6 with value: 0.8885178923640462.\u001b[0m\n",
            "\u001b[32m[I 2022-07-27 08:52:32,976]\u001b[0m Trial 16 finished with value: 0.8849746407438716 and parameters: {'n_estimators': 363, 'max_depth': 8, 'max_features': 0.303020173866453, 'min_samples_leaf': 11}. Best is trial 6 with value: 0.8885178923640462.\u001b[0m\n",
            "\u001b[32m[I 2022-07-27 08:52:34,459]\u001b[0m Trial 17 finished with value: 0.8825936883629192 and parameters: {'n_estimators': 166, 'max_depth': 7, 'max_features': 0.532748845074906, 'min_samples_leaf': 15}. Best is trial 6 with value: 0.8885178923640462.\u001b[0m\n",
            "\u001b[32m[I 2022-07-27 08:52:36,555]\u001b[0m Trial 18 finished with value: 0.883777120315582 and parameters: {'n_estimators': 253, 'max_depth': 4, 'max_features': 0.4905762811925747, 'min_samples_leaf': 5}. Best is trial 6 with value: 0.8885178923640462.\u001b[0m\n",
            "\u001b[32m[I 2022-07-27 08:52:37,599]\u001b[0m Trial 19 finished with value: 0.8873415046491969 and parameters: {'n_estimators': 108, 'max_depth': 6, 'max_features': 0.9302145625402931, 'min_samples_leaf': 15}. Best is trial 6 with value: 0.8885178923640462.\u001b[0m\n",
            "\u001b[32m[I 2022-07-27 08:52:38,342]\u001b[0m Trial 20 finished with value: 0.8861580726965343 and parameters: {'n_estimators': 77, 'max_depth': 6, 'max_features': 0.852832481489915, 'min_samples_leaf': 16}. Best is trial 6 with value: 0.8885178923640462.\u001b[0m\n",
            "\u001b[32m[I 2022-07-27 08:52:39,402]\u001b[0m Trial 21 finished with value: 0.8897154127923359 and parameters: {'n_estimators': 109, 'max_depth': 7, 'max_features': 0.9751304368483534, 'min_samples_leaf': 20}. Best is trial 21 with value: 0.8897154127923359.\u001b[0m\n",
            "\u001b[32m[I 2022-07-27 08:52:40,512]\u001b[0m Trial 22 finished with value: 0.8837982530290223 and parameters: {'n_estimators': 115, 'max_depth': 7, 'max_features': 0.9518166196280392, 'min_samples_leaf': 20}. Best is trial 21 with value: 0.8897154127923359.\u001b[0m\n",
            "\u001b[32m[I 2022-07-27 08:52:41,444]\u001b[0m Trial 23 finished with value: 0.8849605522682445 and parameters: {'n_estimators': 97, 'max_depth': 6, 'max_features': 0.9102119795701269, 'min_samples_leaf': 17}. Best is trial 21 with value: 0.8897154127923359.\u001b[0m\n",
            "\u001b[32m[I 2022-07-27 08:52:42,917]\u001b[0m Trial 24 finished with value: 0.8861721611721611 and parameters: {'n_estimators': 157, 'max_depth': 7, 'max_features': 0.8953504971881967, 'min_samples_leaf': 19}. Best is trial 21 with value: 0.8897154127923359.\u001b[0m\n",
            "\u001b[32m[I 2022-07-27 08:52:43,752]\u001b[0m Trial 25 finished with value: 0.8813961679346296 and parameters: {'n_estimators': 90, 'max_depth': 5, 'max_features': 0.7531111514047956, 'min_samples_leaf': 15}. Best is trial 21 with value: 0.8897154127923359.\u001b[0m\n",
            "\u001b[32m[I 2022-07-27 08:52:45,228]\u001b[0m Trial 26 finished with value: 0.8873696816004509 and parameters: {'n_estimators': 155, 'max_depth': 7, 'max_features': 0.9782354941746605, 'min_samples_leaf': 19}. Best is trial 21 with value: 0.8897154127923359.\u001b[0m\n",
            "\u001b[32m[I 2022-07-27 08:52:46,681]\u001b[0m Trial 27 finished with value: 0.8837912087912088 and parameters: {'n_estimators': 171, 'max_depth': 8, 'max_features': 0.2751492890745512, 'min_samples_leaf': 18}. Best is trial 21 with value: 0.8897154127923359.\u001b[0m\n",
            "\u001b[32m[I 2022-07-27 08:52:48,682]\u001b[0m Trial 28 finished with value: 0.8814032121724431 and parameters: {'n_estimators': 236, 'max_depth': 7, 'max_features': 0.1067387377344274, 'min_samples_leaf': 18}. Best is trial 21 with value: 0.8897154127923359.\u001b[0m\n",
            "\u001b[32m[I 2022-07-27 08:52:49,310]\u001b[0m Trial 29 finished with value: 0.7995914342068188 and parameters: {'n_estimators': 72, 'max_depth': 2, 'max_features': 0.9926785059819877, 'min_samples_leaf': 19}. Best is trial 21 with value: 0.8897154127923359.\u001b[0m\n",
            "\u001b[32m[I 2022-07-27 08:52:49,805]\u001b[0m Trial 30 finished with value: 0.8849816849816851 and parameters: {'n_estimators': 51, 'max_depth': 8, 'max_features': 0.7697610389874205, 'min_samples_leaf': 17}. Best is trial 21 with value: 0.8897154127923359.\u001b[0m\n",
            "\u001b[32m[I 2022-07-27 08:52:51,194]\u001b[0m Trial 31 finished with value: 0.8885390250774867 and parameters: {'n_estimators': 148, 'max_depth': 6, 'max_features': 0.9162706280495613, 'min_samples_leaf': 14}. Best is trial 21 with value: 0.8897154127923359.\u001b[0m\n",
            "\u001b[32m[I 2022-07-27 08:52:52,545]\u001b[0m Trial 32 finished with value: 0.8849887292194986 and parameters: {'n_estimators': 142, 'max_depth': 7, 'max_features': 0.8667320036124011, 'min_samples_leaf': 14}. Best is trial 21 with value: 0.8897154127923359.\u001b[0m\n",
            "\u001b[32m[I 2022-07-27 08:52:54,407]\u001b[0m Trial 33 finished with value: 0.8873344604113834 and parameters: {'n_estimators': 194, 'max_depth': 7, 'max_features': 0.9389942438933732, 'min_samples_leaf': 11}. Best is trial 21 with value: 0.8897154127923359.\u001b[0m\n",
            "\u001b[32m[I 2022-07-27 08:52:55,846]\u001b[0m Trial 34 finished with value: 0.8837982530290223 and parameters: {'n_estimators': 151, 'max_depth': 7, 'max_features': 0.9976802957573303, 'min_samples_leaf': 20}. Best is trial 21 with value: 0.8897154127923359.\u001b[0m\n",
            "\u001b[32m[I 2022-07-27 08:52:58,488]\u001b[0m Trial 35 finished with value: 0.883777120315582 and parameters: {'n_estimators': 283, 'max_depth': 6, 'max_features': 0.8740240726471131, 'min_samples_leaf': 18}. Best is trial 21 with value: 0.8897154127923359.\u001b[0m\n",
            "\u001b[32m[I 2022-07-27 08:52:59,380]\u001b[0m Trial 36 finished with value: 0.883777120315582 and parameters: {'n_estimators': 100, 'max_depth': 4, 'max_features': 0.9559796558093253, 'min_samples_leaf': 13}. Best is trial 21 with value: 0.8897154127923359.\u001b[0m\n",
            "\u001b[32m[I 2022-07-27 08:53:02,946]\u001b[0m Trial 37 finished with value: 0.8814102564102564 and parameters: {'n_estimators': 407, 'max_depth': 5, 'max_features': 0.8117414141169657, 'min_samples_leaf': 9}. Best is trial 21 with value: 0.8897154127923359.\u001b[0m\n",
            "\u001b[32m[I 2022-07-27 08:53:04,067]\u001b[0m Trial 38 finished with value: 0.8790363482671175 and parameters: {'n_estimators': 131, 'max_depth': 8, 'max_features': 0.2264608991865961, 'min_samples_leaf': 16}. Best is trial 21 with value: 0.8897154127923359.\u001b[0m\n",
            "\u001b[32m[I 2022-07-27 08:53:08,506]\u001b[0m Trial 39 finished with value: 0.8849887292194983 and parameters: {'n_estimators': 496, 'max_depth': 7, 'max_features': 0.7154294346986764, 'min_samples_leaf': 12}. Best is trial 21 with value: 0.8897154127923359.\u001b[0m\n",
            "\u001b[32m[I 2022-07-27 08:53:11,211]\u001b[0m Trial 40 finished with value: 0.8790363482671175 and parameters: {'n_estimators': 319, 'max_depth': 8, 'max_features': 0.34434525988602693, 'min_samples_leaf': 19}. Best is trial 21 with value: 0.8897154127923359.\u001b[0m\n",
            "\u001b[32m[I 2022-07-27 08:53:12,224]\u001b[0m Trial 41 finished with value: 0.8826148210763595 and parameters: {'n_estimators': 107, 'max_depth': 6, 'max_features': 0.9303154976277945, 'min_samples_leaf': 14}. Best is trial 21 with value: 0.8897154127923359.\u001b[0m\n",
            "\u001b[32m[I 2022-07-27 08:53:13,956]\u001b[0m Trial 42 finished with value: 0.883777120315582 and parameters: {'n_estimators': 185, 'max_depth': 6, 'max_features': 0.8417897914681958, 'min_samples_leaf': 15}. Best is trial 21 with value: 0.8897154127923359.\u001b[0m\n",
            "\u001b[32m[I 2022-07-27 08:53:14,692]\u001b[0m Trial 43 finished with value: 0.8849816849816851 and parameters: {'n_estimators': 76, 'max_depth': 7, 'max_features': 0.9614081219810785, 'min_samples_leaf': 16}. Best is trial 21 with value: 0.8897154127923359.\u001b[0m\n",
            "\u001b[32m[I 2022-07-27 08:53:16,076]\u001b[0m Trial 44 finished with value: 0.8826007326007327 and parameters: {'n_estimators': 151, 'max_depth': 5, 'max_features': 0.9031428153264666, 'min_samples_leaf': 10}. Best is trial 21 with value: 0.8897154127923359.\u001b[0m\n",
            "\u001b[32m[I 2022-07-27 08:53:17,090]\u001b[0m Trial 45 finished with value: 0.8861369399830938 and parameters: {'n_estimators': 116, 'max_depth': 6, 'max_features': 0.4660066360266803, 'min_samples_leaf': 14}. Best is trial 21 with value: 0.8897154127923359.\u001b[0m\n",
            "\u001b[32m[I 2022-07-27 08:53:19,175]\u001b[0m Trial 46 finished with value: 0.8873555931248239 and parameters: {'n_estimators': 228, 'max_depth': 8, 'max_features': 0.7793826394662362, 'min_samples_leaf': 12}. Best is trial 21 with value: 0.8897154127923359.\u001b[0m\n",
            "\u001b[32m[I 2022-07-27 08:53:21,270]\u001b[0m Trial 47 finished with value: 0.8838052972668358 and parameters: {'n_estimators': 226, 'max_depth': 8, 'max_features': 0.8026827250394387, 'min_samples_leaf': 10}. Best is trial 21 with value: 0.8897154127923359.\u001b[0m\n",
            "\u001b[32m[I 2022-07-27 08:53:23,165]\u001b[0m Trial 48 finished with value: 0.8897224570301494 and parameters: {'n_estimators': 213, 'max_depth': 8, 'max_features': 0.6194273317124899, 'min_samples_leaf': 12}. Best is trial 48 with value: 0.8897224570301494.\u001b[0m\n",
            "\u001b[32m[I 2022-07-27 08:53:25,076]\u001b[0m Trial 49 finished with value: 0.88732741617357 and parameters: {'n_estimators': 206, 'max_depth': 8, 'max_features': 0.6782983343164876, 'min_samples_leaf': 6}. Best is trial 48 with value: 0.8897224570301494.\u001b[0m\n",
            "\u001b[32m[I 2022-07-27 08:53:26,730]\u001b[0m Trial 50 finished with value: 0.8861580726965343 and parameters: {'n_estimators': 183, 'max_depth': 7, 'max_features': 0.5659102597824345, 'min_samples_leaf': 9}. Best is trial 48 with value: 0.8897224570301494.\u001b[0m\n",
            "\u001b[32m[I 2022-07-27 08:53:28,975]\u001b[0m Trial 51 finished with value: 0.8873485488870104 and parameters: {'n_estimators': 251, 'max_depth': 8, 'max_features': 0.6199305776216792, 'min_samples_leaf': 12}. Best is trial 48 with value: 0.8897224570301494.\u001b[0m\n",
            "\u001b[32m[I 2022-07-27 08:53:31,584]\u001b[0m Trial 52 finished with value: 0.8897154127923358 and parameters: {'n_estimators': 280, 'max_depth': 8, 'max_features': 0.7878542684026902, 'min_samples_leaf': 10}. Best is trial 48 with value: 0.8897224570301494.\u001b[0m\n",
            "\u001b[32m[I 2022-07-27 08:53:34,078]\u001b[0m Trial 53 finished with value: 0.8873415046491969 and parameters: {'n_estimators': 280, 'max_depth': 8, 'max_features': 0.6219785242439864, 'min_samples_leaf': 8}. Best is trial 48 with value: 0.8897224570301494.\u001b[0m\n",
            "\u001b[32m[I 2022-07-27 08:53:37,120]\u001b[0m Trial 54 finished with value: 0.8837982530290223 and parameters: {'n_estimators': 344, 'max_depth': 7, 'max_features': 0.5231763981297752, 'min_samples_leaf': 11}. Best is trial 48 with value: 0.8897224570301494.\u001b[0m\n",
            "\u001b[32m[I 2022-07-27 08:53:39,953]\u001b[0m Trial 55 finished with value: 0.8861651169343476 and parameters: {'n_estimators': 310, 'max_depth': 8, 'max_features': 0.7109534250705124, 'min_samples_leaf': 8}. Best is trial 48 with value: 0.8897224570301494.\u001b[0m\n",
            "\u001b[32m[I 2022-07-27 08:53:41,413]\u001b[0m Trial 56 finished with value: 0.8885249366018597 and parameters: {'n_estimators': 166, 'max_depth': 7, 'max_features': 0.4212643632365471, 'min_samples_leaf': 10}. Best is trial 48 with value: 0.8897224570301494.\u001b[0m\n",
            "\u001b[32m[I 2022-07-27 08:53:43,224]\u001b[0m Trial 57 finished with value: 0.8849816849816851 and parameters: {'n_estimators': 212, 'max_depth': 8, 'max_features': 0.20478939501644525, 'min_samples_leaf': 10}. Best is trial 48 with value: 0.8897224570301494.\u001b[0m\n",
            "\u001b[32m[I 2022-07-27 08:53:44,370]\u001b[0m Trial 58 finished with value: 0.8825936883629192 and parameters: {'n_estimators': 130, 'max_depth': 7, 'max_features': 0.40949177139948884, 'min_samples_leaf': 4}. Best is trial 48 with value: 0.8897224570301494.\u001b[0m\n",
            "\u001b[32m[I 2022-07-27 08:53:46,936]\u001b[0m Trial 59 finished with value: 0.884967596506058 and parameters: {'n_estimators': 295, 'max_depth': 8, 'max_features': 0.336064794551629, 'min_samples_leaf': 11}. Best is trial 48 with value: 0.8897224570301494.\u001b[0m\n",
            "\u001b[32m[I 2022-07-27 08:53:49,166]\u001b[0m Trial 60 finished with value: 0.8908918005071852 and parameters: {'n_estimators': 264, 'max_depth': 7, 'max_features': 0.14933807162995436, 'min_samples_leaf': 8}. Best is trial 60 with value: 0.8908918005071852.\u001b[0m\n",
            "\u001b[32m[I 2022-07-27 08:53:50,647]\u001b[0m Trial 61 finished with value: 0.8885249366018597 and parameters: {'n_estimators': 174, 'max_depth': 7, 'max_features': 0.25126385253119365, 'min_samples_leaf': 6}. Best is trial 60 with value: 0.8908918005071852.\u001b[0m\n",
            "\u001b[32m[I 2022-07-27 08:53:52,860]\u001b[0m Trial 62 finished with value: 0.8873344604113834 and parameters: {'n_estimators': 260, 'max_depth': 7, 'max_features': 0.13482355406537827, 'min_samples_leaf': 6}. Best is trial 60 with value: 0.8908918005071852.\u001b[0m\n",
            "\u001b[32m[I 2022-07-27 08:53:54,905]\u001b[0m Trial 63 finished with value: 0.8861439842209073 and parameters: {'n_estimators': 169, 'max_depth': 6, 'max_features': 0.27563285702720386, 'min_samples_leaf': 8}. Best is trial 60 with value: 0.8908918005071852.\u001b[0m\n",
            "\u001b[32m[I 2022-07-27 08:53:57,596]\u001b[0m Trial 64 finished with value: 0.8873344604113834 and parameters: {'n_estimators': 194, 'max_depth': 7, 'max_features': 0.3740471823748371, 'min_samples_leaf': 7}. Best is trial 60 with value: 0.8908918005071852.\u001b[0m\n",
            "\u001b[32m[I 2022-07-27 08:53:59,838]\u001b[0m Trial 65 finished with value: 0.8849746407438716 and parameters: {'n_estimators': 267, 'max_depth': 7, 'max_features': 0.18033825694240235, 'min_samples_leaf': 6}. Best is trial 60 with value: 0.8908918005071852.\u001b[0m\n",
            "\u001b[32m[I 2022-07-27 08:54:01,920]\u001b[0m Trial 66 finished with value: 0.8837841645533955 and parameters: {'n_estimators': 244, 'max_depth': 6, 'max_features': 0.4569296594631269, 'min_samples_leaf': 9}. Best is trial 60 with value: 0.8908918005071852.\u001b[0m\n",
            "\u001b[32m[I 2022-07-27 08:54:03,793]\u001b[0m Trial 67 finished with value: 0.8837912087912088 and parameters: {'n_estimators': 220, 'max_depth': 7, 'max_features': 0.25405827214926424, 'min_samples_leaf': 4}. Best is trial 60 with value: 0.8908918005071852.\u001b[0m\n",
            "\u001b[32m[I 2022-07-27 08:54:04,908]\u001b[0m Trial 68 finished with value: 0.8351718794026486 and parameters: {'n_estimators': 140, 'max_depth': 2, 'max_features': 0.10127852054220868, 'min_samples_leaf': 10}. Best is trial 60 with value: 0.8908918005071852.\u001b[0m\n",
            "\u001b[32m[I 2022-07-27 08:54:06,376]\u001b[0m Trial 69 finished with value: 0.8837982530290223 and parameters: {'n_estimators': 164, 'max_depth': 7, 'max_features': 0.5926281090816847, 'min_samples_leaf': 13}. Best is trial 60 with value: 0.8908918005071852.\u001b[0m\n",
            "\u001b[32m[I 2022-07-27 08:54:08,772]\u001b[0m Trial 70 finished with value: 0.8837700760777685 and parameters: {'n_estimators': 295, 'max_depth': 5, 'max_features': 0.14667395615493217, 'min_samples_leaf': 7}. Best is trial 60 with value: 0.8908918005071852.\u001b[0m\n",
            "\u001b[32m[I 2022-07-27 08:54:10,301]\u001b[0m Trial 71 finished with value: 0.8837841645533955 and parameters: {'n_estimators': 178, 'max_depth': 8, 'max_features': 0.18797047583544982, 'min_samples_leaf': 9}. Best is trial 60 with value: 0.8908918005071852.\u001b[0m\n",
            "\u001b[32m[I 2022-07-27 08:54:11,256]\u001b[0m Trial 72 finished with value: 0.8671597633136094 and parameters: {'n_estimators': 116, 'max_depth': 3, 'max_features': 0.23569986346068977, 'min_samples_leaf': 11}. Best is trial 60 with value: 0.8908918005071852.\u001b[0m\n",
            "\u001b[32m[I 2022-07-27 08:54:12,019]\u001b[0m Trial 73 finished with value: 0.8885108481262327 and parameters: {'n_estimators': 83, 'max_depth': 8, 'max_features': 0.21858840857914066, 'min_samples_leaf': 8}. Best is trial 60 with value: 0.8908918005071852.\u001b[0m\n",
            "\u001b[32m[I 2022-07-27 08:54:13,234]\u001b[0m Trial 74 finished with value: 0.8861580726965343 and parameters: {'n_estimators': 143, 'max_depth': 7, 'max_features': 0.3006981459170733, 'min_samples_leaf': 9}. Best is trial 60 with value: 0.8908918005071852.\u001b[0m\n",
            "\u001b[32m[I 2022-07-27 08:54:14,913]\u001b[0m Trial 75 finished with value: 0.8849746407438716 and parameters: {'n_estimators': 198, 'max_depth': 8, 'max_features': 0.1430359303975384, 'min_samples_leaf': 5}. Best is trial 60 with value: 0.8908918005071852.\u001b[0m\n",
            "\u001b[32m[I 2022-07-27 08:54:15,850]\u001b[0m Trial 76 finished with value: 0.8861721611721611 and parameters: {'n_estimators': 97, 'max_depth': 6, 'max_features': 0.8842407598962868, 'min_samples_leaf': 10}. Best is trial 60 with value: 0.8908918005071852.\u001b[0m\n",
            "\u001b[32m[I 2022-07-27 08:54:17,223]\u001b[0m Trial 77 finished with value: 0.8873415046491969 and parameters: {'n_estimators': 156, 'max_depth': 8, 'max_features': 0.2572298163764656, 'min_samples_leaf': 7}. Best is trial 60 with value: 0.8908918005071852.\u001b[0m\n",
            "\u001b[32m[I 2022-07-27 08:54:19,618]\u001b[0m Trial 78 finished with value: 0.8861580726965343 and parameters: {'n_estimators': 271, 'max_depth': 7, 'max_features': 0.522807809546397, 'min_samples_leaf': 12}. Best is trial 60 with value: 0.8908918005071852.\u001b[0m\n",
            "\u001b[32m[I 2022-07-27 08:54:20,918]\u001b[0m Trial 79 finished with value: 0.8849816849816851 and parameters: {'n_estimators': 125, 'max_depth': 8, 'max_features': 0.6480927460292959, 'min_samples_leaf': 11}. Best is trial 60 with value: 0.8908918005071852.\u001b[0m\n",
            "\u001b[32m[I 2022-07-27 08:54:21,581]\u001b[0m Trial 80 finished with value: 0.8802197802197803 and parameters: {'n_estimators': 67, 'max_depth': 7, 'max_features': 0.9191801422699846, 'min_samples_leaf': 9}. Best is trial 60 with value: 0.8908918005071852.\u001b[0m\n",
            "\u001b[32m[I 2022-07-27 08:54:22,297]\u001b[0m Trial 81 finished with value: 0.883777120315582 and parameters: {'n_estimators': 80, 'max_depth': 8, 'max_features': 0.2089671876480913, 'min_samples_leaf': 8}. Best is trial 60 with value: 0.8908918005071852.\u001b[0m\n",
            "\u001b[32m[I 2022-07-27 08:54:23,100]\u001b[0m Trial 82 finished with value: 0.883777120315582 and parameters: {'n_estimators': 87, 'max_depth': 8, 'max_features': 0.16754625287091252, 'min_samples_leaf': 8}. Best is trial 60 with value: 0.8908918005071852.\u001b[0m\n",
            "\u001b[32m[I 2022-07-27 08:54:23,572]\u001b[0m Trial 83 finished with value: 0.8873415046491969 and parameters: {'n_estimators': 51, 'max_depth': 8, 'max_features': 0.20935173782200958, 'min_samples_leaf': 2}. Best is trial 60 with value: 0.8908918005071852.\u001b[0m\n",
            "\u001b[32m[I 2022-07-27 08:54:25,604]\u001b[0m Trial 84 finished with value: 0.8885249366018597 and parameters: {'n_estimators': 237, 'max_depth': 8, 'max_features': 0.3024903775844099, 'min_samples_leaf': 6}. Best is trial 60 with value: 0.8908918005071852.\u001b[0m\n",
            "\u001b[32m[I 2022-07-27 08:54:27,695]\u001b[0m Trial 85 finished with value: 0.8861510284587208 and parameters: {'n_estimators': 239, 'max_depth': 7, 'max_features': 0.3407196918424211, 'min_samples_leaf': 6}. Best is trial 60 with value: 0.8908918005071852.\u001b[0m\n",
            "\u001b[32m[I 2022-07-27 08:54:29,608]\u001b[0m Trial 86 finished with value: 0.8826007326007327 and parameters: {'n_estimators': 219, 'max_depth': 8, 'max_features': 0.3647263006218909, 'min_samples_leaf': 3}. Best is trial 60 with value: 0.8908918005071852.\u001b[0m\n",
            "\u001b[32m[I 2022-07-27 08:54:31,223]\u001b[0m Trial 87 finished with value: 0.8837912087912088 and parameters: {'n_estimators': 188, 'max_depth': 7, 'max_features': 0.3012028720198203, 'min_samples_leaf': 5}. Best is trial 60 with value: 0.8908918005071852.\u001b[0m\n",
            "\u001b[32m[I 2022-07-27 08:54:33,443]\u001b[0m Trial 88 finished with value: 0.8885249366018597 and parameters: {'n_estimators': 234, 'max_depth': 8, 'max_features': 0.9718743521503804, 'min_samples_leaf': 10}. Best is trial 60 with value: 0.8908918005071852.\u001b[0m\n",
            "\u001b[32m[I 2022-07-27 08:54:35,411]\u001b[0m Trial 89 finished with value: 0.8861510284587208 and parameters: {'n_estimators': 205, 'max_depth': 8, 'max_features': 0.9630093987239771, 'min_samples_leaf': 10}. Best is trial 60 with value: 0.8908918005071852.\u001b[0m\n",
            "\u001b[32m[I 2022-07-27 08:54:37,581]\u001b[0m Trial 90 finished with value: 0.8849816849816851 and parameters: {'n_estimators': 231, 'max_depth': 6, 'max_features': 0.981031866901277, 'min_samples_leaf': 12}. Best is trial 60 with value: 0.8908918005071852.\u001b[0m\n",
            "\u001b[32m[I 2022-07-27 08:54:39,745]\u001b[0m Trial 91 finished with value: 0.8861580726965343 and parameters: {'n_estimators': 249, 'max_depth': 8, 'max_features': 0.4345238581150707, 'min_samples_leaf': 11}. Best is trial 60 with value: 0.8908918005071852.\u001b[0m\n",
            "\u001b[32m[I 2022-07-27 08:54:42,203]\u001b[0m Trial 92 finished with value: 0.8861580726965343 and parameters: {'n_estimators': 261, 'max_depth': 8, 'max_features': 0.8560886072289705, 'min_samples_leaf': 10}. Best is trial 60 with value: 0.8908918005071852.\u001b[0m\n",
            "\u001b[32m[I 2022-07-27 08:54:44,633]\u001b[0m Trial 93 finished with value: 0.8885249366018597 and parameters: {'n_estimators': 286, 'max_depth': 8, 'max_features': 0.2784818929725327, 'min_samples_leaf': 9}. Best is trial 60 with value: 0.8908918005071852.\u001b[0m\n",
            "\u001b[32m[I 2022-07-27 08:54:47,311]\u001b[0m Trial 94 finished with value: 0.8873415046491969 and parameters: {'n_estimators': 319, 'max_depth': 7, 'max_features': 0.3203918276928426, 'min_samples_leaf': 7}. Best is trial 60 with value: 0.8908918005071852.\u001b[0m\n",
            "\u001b[32m[I 2022-07-27 08:54:49,983]\u001b[0m Trial 95 finished with value: 0.8897365455057763 and parameters: {'n_estimators': 285, 'max_depth': 8, 'max_features': 0.9421860178431928, 'min_samples_leaf': 13}. Best is trial 60 with value: 0.8908918005071852.\u001b[0m\n",
            "\u001b[32m[I 2022-07-27 08:54:51,982]\u001b[0m Trial 96 finished with value: 0.8837982530290223 and parameters: {'n_estimators': 213, 'max_depth': 8, 'max_features': 0.9380157065564358, 'min_samples_leaf': 13}. Best is trial 60 with value: 0.8908918005071852.\u001b[0m\n",
            "\u001b[32m[I 2022-07-27 08:54:54,536]\u001b[0m Trial 97 finished with value: 0.8849887292194983 and parameters: {'n_estimators': 271, 'max_depth': 7, 'max_features': 0.9036354252581492, 'min_samples_leaf': 14}. Best is trial 60 with value: 0.8908918005071852.\u001b[0m\n",
            "\u001b[32m[I 2022-07-27 08:54:57,450]\u001b[0m Trial 98 finished with value: 0.8802197802197803 and parameters: {'n_estimators': 307, 'max_depth': 8, 'max_features': 0.9720342638303777, 'min_samples_leaf': 4}. Best is trial 60 with value: 0.8908918005071852.\u001b[0m\n",
            "\u001b[32m[I 2022-07-27 08:54:59,844]\u001b[0m Trial 99 finished with value: 0.8849746407438716 and parameters: {'n_estimators': 281, 'max_depth': 7, 'max_features': 0.4028005885320974, 'min_samples_leaf': 13}. Best is trial 60 with value: 0.8908918005071852.\u001b[0m\n"
          ]
        },
        {
          "output_type": "stream",
          "name": "stdout",
          "text": [
            "Best score: 0.8908918005071852\n",
            "\n",
            "Optimized parameters: {'n_estimators': 264, 'max_depth': 7, 'max_features': 0.14933807162995436, 'min_samples_leaf': 8}\n",
            "\n",
            "Train Accuracy: 0.894\n",
            "Test Accuracy: 0.883\n",
            "Precision: 0.860\n",
            "Recall: 0.881\n",
            "F1-score: 0.871\n"
          ]
        },
        {
          "output_type": "display_data",
          "data": {
            "text/plain": [
              "<Figure size 432x360 with 2 Axes>"
            ],
            "image/png": "[encoded data removed]"
          },
          "metadata": {
            "needs_background": "light"
          }
        }
      ]
    },
    {
      "cell_type": "code",
      "source": [
        "## Tuning LGBM - Full\n",
        "optuna_execution(\"LGBM Full\",X_train, y_train, X_test, y_test)"
      ],
      "metadata": {
        "id": "ZZLuLy4nwiYq",
        "colab": {
          "base_uri": "https://localhost:8080/",
          "height": 1000
        },
        "outputId": "91446979-21fb-4a2c-96cf-26df934e7681"
      },
      "execution_count": 325,
      "outputs": [
        {
          "output_type": "stream",
          "name": "stderr",
          "text": [
            "\u001b[32m[I 2022-07-27 09:03:44,612]\u001b[0m A new study created in memory with name: no-name-57e6600e-4882-458d-b9f8-05e74321951f\u001b[0m\n",
            "\u001b[32m[I 2022-07-27 09:03:44,670]\u001b[0m Trial 0 finished with value: 0.5051211608903917 and parameters: {'n_estimators': 126, 'num_leaves': 4, 'max_depth': 5, 'min_child_samples': 17, 'learning_rate': 4.554348779956557}. Best is trial 0 with value: 0.5051211608903917.\u001b[0m\n",
            "\u001b[32m[I 2022-07-27 09:03:44,937]\u001b[0m Trial 1 finished with value: 0.8564736545505776 and parameters: {'n_estimators': 488, 'num_leaves': 6, 'max_depth': 2, 'min_child_samples': 11, 'learning_rate': 0.3681073569454967}. Best is trial 1 with value: 0.8564736545505776.\u001b[0m\n",
            "\u001b[32m[I 2022-07-27 09:03:45,134]\u001b[0m Trial 2 finished with value: 0.7034939419554804 and parameters: {'n_estimators': 490, 'num_leaves': 5, 'max_depth': 2, 'min_child_samples': 30, 'learning_rate': 1.3714596710251938}. Best is trial 1 with value: 0.8564736545505776.\u001b[0m\n",
            "\u001b[32m[I 2022-07-27 09:03:45,227]\u001b[0m Trial 3 finished with value: 0.5622921949845027 and parameters: {'n_estimators': 335, 'num_leaves': 2, 'max_depth': 7, 'min_child_samples': 13, 'learning_rate': 3.5750020235347035}. Best is trial 1 with value: 0.8564736545505776.\u001b[0m\n",
            "\u001b[32m[I 2022-07-27 09:03:45,452]\u001b[0m Trial 4 finished with value: 0.5217314736545505 and parameters: {'n_estimators': 273, 'num_leaves': 4, 'max_depth': 3, 'min_child_samples': 12, 'learning_rate': 3.7619953023440926}. Best is trial 1 with value: 0.8564736545505776.\u001b[0m\n",
            "\u001b[32m[I 2022-07-27 09:03:45,516]\u001b[0m Trial 5 finished with value: 0.3710834037757115 and parameters: {'n_estimators': 191, 'num_leaves': 3, 'max_depth': 3, 'min_child_samples': 16, 'learning_rate': 6.073547120531918}. Best is trial 1 with value: 0.8564736545505776.\u001b[0m\n",
            "\u001b[32m[I 2022-07-27 09:03:45,666]\u001b[0m Trial 6 finished with value: 0.6395533953226262 and parameters: {'n_estimators': 475, 'num_leaves': 6, 'max_depth': 7, 'min_child_samples': 23, 'learning_rate': 1.5374492347765727}. Best is trial 1 with value: 0.8564736545505776.\u001b[0m\n",
            "\u001b[32m[I 2022-07-27 09:03:45,741]\u001b[0m Trial 7 finished with value: 0.635897435897436 and parameters: {'n_estimators': 252, 'num_leaves': 3, 'max_depth': 2, 'min_child_samples': 16, 'learning_rate': 8.383485187093365}. Best is trial 1 with value: 0.8564736545505776.\u001b[0m\n",
            "\u001b[32m[I 2022-07-27 09:03:45,836]\u001b[0m Trial 8 finished with value: 0.5622921949845027 and parameters: {'n_estimators': 345, 'num_leaves': 2, 'max_depth': 3, 'min_child_samples': 30, 'learning_rate': 3.5068712429398197}. Best is trial 1 with value: 0.8564736545505776.\u001b[0m\n",
            "\u001b[32m[I 2022-07-27 09:03:45,914]\u001b[0m Trial 9 finished with value: 0.2799591434206819 and parameters: {'n_estimators': 265, 'num_leaves': 2, 'max_depth': 8, 'min_child_samples': 14, 'learning_rate': 6.777907736730296}. Best is trial 1 with value: 0.8564736545505776.\u001b[0m\n",
            "\u001b[32m[I 2022-07-27 09:03:46,000]\u001b[0m Trial 10 finished with value: 0.8849816849816851 and parameters: {'n_estimators': 53, 'num_leaves': 6, 'max_depth': 5, 'min_child_samples': 10, 'learning_rate': 0.1883903746345611}. Best is trial 10 with value: 0.8849816849816851.\u001b[0m\n",
            "\u001b[32m[I 2022-07-27 09:03:46,097]\u001b[0m Trial 11 finished with value: 0.8636235559312482 and parameters: {'n_estimators': 61, 'num_leaves': 6, 'max_depth': 5, 'min_child_samples': 10, 'learning_rate': 0.5166616680426319}. Best is trial 10 with value: 0.8849816849816851.\u001b[0m\n",
            "\u001b[32m[I 2022-07-27 09:03:46,192]\u001b[0m Trial 12 finished with value: 0.8897224570301493 and parameters: {'n_estimators': 51, 'num_leaves': 5, 'max_depth': 5, 'min_child_samples': 10, 'learning_rate': 0.06954136700525182}. Best is trial 12 with value: 0.8897224570301493.\u001b[0m\n",
            "\u001b[32m[I 2022-07-27 09:03:46,267]\u001b[0m Trial 13 finished with value: 0.577704987320372 and parameters: {'n_estimators': 53, 'num_leaves': 5, 'max_depth': 6, 'min_child_samples': 21, 'learning_rate': 1.846450728594143}. Best is trial 12 with value: 0.8897224570301493.\u001b[0m\n",
            "\u001b[32m[I 2022-07-27 09:03:46,406]\u001b[0m Trial 14 finished with value: 0.8873485488870104 and parameters: {'n_estimators': 133, 'num_leaves': 5, 'max_depth': 4, 'min_child_samples': 10, 'learning_rate': 0.028406868338296642}. Best is trial 12 with value: 0.8897224570301493.\u001b[0m\n",
            "\u001b[32m[I 2022-07-27 09:03:46,482]\u001b[0m Trial 15 finished with value: 0.5540081713158636 and parameters: {'n_estimators': 137, 'num_leaves': 5, 'max_depth': 4, 'min_child_samples': 19, 'learning_rate': 2.4854921024800616}. Best is trial 12 with value: 0.8897224570301493.\u001b[0m\n",
            "\u001b[32m[I 2022-07-27 09:03:46,554]\u001b[0m Trial 16 finished with value: 0.46263031839954916 and parameters: {'n_estimators': 137, 'num_leaves': 5, 'max_depth': 4, 'min_child_samples': 26, 'learning_rate': 8.9662509933658}. Best is trial 12 with value: 0.8897224570301493.\u001b[0m\n",
            "\u001b[32m[I 2022-07-27 09:03:46,648]\u001b[0m Trial 17 finished with value: 0.5173217807833193 and parameters: {'n_estimators': 190, 'num_leaves': 4, 'max_depth': 6, 'min_child_samples': 14, 'learning_rate': 2.6075962839276703}. Best is trial 12 with value: 0.8897224570301493.\u001b[0m\n",
            "\u001b[32m[I 2022-07-27 09:03:46,724]\u001b[0m Trial 18 finished with value: 0.4509157509157509 and parameters: {'n_estimators': 106, 'num_leaves': 5, 'max_depth': 4, 'min_child_samples': 19, 'learning_rate': 5.521253985624147}. Best is trial 12 with value: 0.8897224570301493.\u001b[0m\n",
            "\u001b[32m[I 2022-07-27 09:03:46,866]\u001b[0m Trial 19 finished with value: 0.8576570865032404 and parameters: {'n_estimators': 187, 'num_leaves': 3, 'max_depth': 6, 'min_child_samples': 26, 'learning_rate': 1.091785349624221}. Best is trial 12 with value: 0.8897224570301493.\u001b[0m\n",
            "\u001b[32m[I 2022-07-27 09:03:46,932]\u001b[0m Trial 20 finished with value: 0.5645322626091857 and parameters: {'n_estimators': 92, 'num_leaves': 5, 'max_depth': 4, 'min_child_samples': 13, 'learning_rate': 9.999460831001759}. Best is trial 12 with value: 0.8897224570301493.\u001b[0m\n",
            "\u001b[32m[I 2022-07-27 09:03:47,028]\u001b[0m Trial 21 finished with value: 0.8719287123133277 and parameters: {'n_estimators': 57, 'num_leaves': 6, 'max_depth': 5, 'min_child_samples': 10, 'learning_rate': 0.41377556053480297}. Best is trial 12 with value: 0.8897224570301493.\u001b[0m\n",
            "\u001b[32m[I 2022-07-27 09:03:47,195]\u001b[0m Trial 22 finished with value: 0.8778599605522682 and parameters: {'n_estimators': 166, 'num_leaves': 6, 'max_depth': 5, 'min_child_samples': 10, 'learning_rate': 0.122780358236508}. Best is trial 12 with value: 0.8897224570301493.\u001b[0m\n",
            "\u001b[32m[I 2022-07-27 09:03:47,262]\u001b[0m Trial 23 finished with value: 0.5398210763595379 and parameters: {'n_estimators': 93, 'num_leaves': 4, 'max_depth': 6, 'min_child_samples': 12, 'learning_rate': 2.388419056021606}. Best is trial 12 with value: 0.8897224570301493.\u001b[0m\n",
            "\u001b[32m[I 2022-07-27 09:03:47,369]\u001b[0m Trial 24 finished with value: 0.8600450831220062 and parameters: {'n_estimators': 83, 'num_leaves': 6, 'max_depth': 4, 'min_child_samples': 14, 'learning_rate': 1.0223728945952018}. Best is trial 12 with value: 0.8897224570301493.\u001b[0m\n",
            "\u001b[32m[I 2022-07-27 09:03:47,559]\u001b[0m Trial 25 finished with value: 0.879043392504931 and parameters: {'n_estimators': 224, 'num_leaves': 5, 'max_depth': 5, 'min_child_samples': 12, 'learning_rate': 0.12812977928441904}. Best is trial 12 with value: 0.8897224570301493.\u001b[0m\n",
            "\u001b[32m[I 2022-07-27 09:03:47,688]\u001b[0m Trial 26 finished with value: 0.64530853761623 and parameters: {'n_estimators': 319, 'num_leaves': 6, 'max_depth': 7, 'min_child_samples': 10, 'learning_rate': 2.0138757511981598}. Best is trial 12 with value: 0.8897224570301493.\u001b[0m\n",
            "\u001b[32m[I 2022-07-27 09:03:47,966]\u001b[0m Trial 27 finished with value: 0.8207382361228515 and parameters: {'n_estimators': 408, 'num_leaves': 5, 'max_depth': 3, 'min_child_samples': 16, 'learning_rate': 0.9839011088411155}. Best is trial 12 with value: 0.8897224570301493.\u001b[0m\n",
            "\u001b[32m[I 2022-07-27 09:03:48,054]\u001b[0m Trial 28 finished with value: 0.5706466610312764 and parameters: {'n_estimators': 147, 'num_leaves': 4, 'max_depth': 4, 'min_child_samples': 15, 'learning_rate': 3.0363466691180996}. Best is trial 12 with value: 0.8897224570301493.\u001b[0m\n",
            "\u001b[32m[I 2022-07-27 09:03:48,127]\u001b[0m Trial 29 finished with value: 0.41168639053254436 and parameters: {'n_estimators': 114, 'num_leaves': 5, 'max_depth': 5, 'min_child_samples': 17, 'learning_rate': 4.506890681120187}. Best is trial 12 with value: 0.8897224570301493.\u001b[0m\n",
            "\u001b[32m[I 2022-07-27 09:03:48,191]\u001b[0m Trial 30 finished with value: 0.5053536207382361 and parameters: {'n_estimators': 50, 'num_leaves': 6, 'max_depth': 6, 'min_child_samples': 12, 'learning_rate': 4.432232440557966}. Best is trial 12 with value: 0.8897224570301493.\u001b[0m\n",
            "\u001b[32m[I 2022-07-27 09:03:48,387]\u001b[0m Trial 31 finished with value: 0.873119188503804 and parameters: {'n_estimators': 223, 'num_leaves': 5, 'max_depth': 5, 'min_child_samples': 11, 'learning_rate': 0.13415241560039973}. Best is trial 12 with value: 0.8897224570301493.\u001b[0m\n",
            "\u001b[32m[I 2022-07-27 09:03:48,561]\u001b[0m Trial 32 finished with value: 0.8897224570301493 and parameters: {'n_estimators': 213, 'num_leaves': 4, 'max_depth': 5, 'min_child_samples': 11, 'learning_rate': 0.06658458190032784}. Best is trial 12 with value: 0.8897224570301493.\u001b[0m\n",
            "\u001b[32m[I 2022-07-27 09:03:48,714]\u001b[0m Trial 33 finished with value: 0.8540856579318119 and parameters: {'n_estimators': 162, 'num_leaves': 4, 'max_depth': 5, 'min_child_samples': 11, 'learning_rate': 0.8458117235075088}. Best is trial 12 with value: 0.8897224570301493.\u001b[0m\n",
            "\u001b[32m[I 2022-07-27 09:03:48,808]\u001b[0m Trial 34 finished with value: 0.5861580726965343 and parameters: {'n_estimators': 117, 'num_leaves': 4, 'max_depth': 4, 'min_child_samples': 13, 'learning_rate': 1.6625908924946913}. Best is trial 12 with value: 0.8897224570301493.\u001b[0m\n",
            "\u001b[32m[I 2022-07-27 09:03:48,897]\u001b[0m Trial 35 finished with value: 0.8730980557903635 and parameters: {'n_estimators': 81, 'num_leaves': 3, 'max_depth': 6, 'min_child_samples': 11, 'learning_rate': 0.7215437273908425}. Best is trial 12 with value: 0.8897224570301493.\u001b[0m\n",
            "\u001b[32m[I 2022-07-27 09:03:49,024]\u001b[0m Trial 36 finished with value: 0.5267540152155537 and parameters: {'n_estimators': 222, 'num_leaves': 4, 'max_depth': 5, 'min_child_samples': 10, 'learning_rate': 1.4766810623179725}. Best is trial 12 with value: 0.8897224570301493.\u001b[0m\n",
            "\u001b[32m[I 2022-07-27 09:03:49,162]\u001b[0m Trial 37 finished with value: 0.861200338123415 and parameters: {'n_estimators': 165, 'num_leaves': 4, 'max_depth': 3, 'min_child_samples': 12, 'learning_rate': 0.6858885661379801}. Best is trial 12 with value: 0.8897224570301493.\u001b[0m\n",
            "\u001b[32m[I 2022-07-27 09:03:49,415]\u001b[0m Trial 38 finished with value: 0.8778599605522682 and parameters: {'n_estimators': 296, 'num_leaves': 6, 'max_depth': 4, 'min_child_samples': 15, 'learning_rate': 0.06744032879918921}. Best is trial 12 with value: 0.8897224570301493.\u001b[0m\n",
            "\u001b[32m[I 2022-07-27 09:03:49,503]\u001b[0m Trial 39 finished with value: 0.6878346012961398 and parameters: {'n_estimators': 82, 'num_leaves': 3, 'max_depth': 7, 'min_child_samples': 11, 'learning_rate': 1.3126493392205107}. Best is trial 12 with value: 0.8897224570301493.\u001b[0m\n",
            "\u001b[32m[I 2022-07-27 09:03:49,576]\u001b[0m Trial 40 finished with value: 0.6605804451958297 and parameters: {'n_estimators': 119, 'num_leaves': 5, 'max_depth': 3, 'min_child_samples': 13, 'learning_rate': 3.084088889960634}. Best is trial 12 with value: 0.8897224570301493.\u001b[0m\n",
            "\u001b[32m[I 2022-07-27 09:03:49,787]\u001b[0m Trial 41 finished with value: 0.861228515074669 and parameters: {'n_estimators': 241, 'num_leaves': 5, 'max_depth': 5, 'min_child_samples': 12, 'learning_rate': 0.2503229690722261}. Best is trial 12 with value: 0.8897224570301493.\u001b[0m\n",
            "\u001b[32m[I 2022-07-27 09:03:49,962]\u001b[0m Trial 42 finished with value: 0.8647788109326571 and parameters: {'n_estimators': 212, 'num_leaves': 5, 'max_depth': 5, 'min_child_samples': 11, 'learning_rate': 0.00489048229982653}. Best is trial 12 with value: 0.8897224570301493.\u001b[0m\n",
            "\u001b[32m[I 2022-07-27 09:03:50,061]\u001b[0m Trial 43 finished with value: 0.5003733446041139 and parameters: {'n_estimators': 201, 'num_leaves': 5, 'max_depth': 6, 'min_child_samples': 10, 'learning_rate': 7.2400389222952}. Best is trial 12 with value: 0.8897224570301493.\u001b[0m\n",
            "\u001b[32m[I 2022-07-27 09:03:50,165]\u001b[0m Trial 44 finished with value: 0.6001620174697098 and parameters: {'n_estimators': 241, 'num_leaves': 6, 'max_depth': 5, 'min_child_samples': 12, 'learning_rate': 1.959412543827606}. Best is trial 12 with value: 0.8897224570301493.\u001b[0m\n",
            "\u001b[32m[I 2022-07-27 09:03:50,363]\u001b[0m Trial 45 finished with value: 0.8564736545505776 and parameters: {'n_estimators': 283, 'num_leaves': 4, 'max_depth': 4, 'min_child_samples': 13, 'learning_rate': 0.6444698106050206}. Best is trial 12 with value: 0.8897224570301493.\u001b[0m\n",
            "\u001b[32m[I 2022-07-27 09:03:50,514]\u001b[0m Trial 46 finished with value: 0.6677867004790081 and parameters: {'n_estimators': 358, 'num_leaves': 3, 'max_depth': 5, 'min_child_samples': 17, 'learning_rate': 1.35743507669227}. Best is trial 12 with value: 0.8897224570301493.\u001b[0m\n",
            "\u001b[32m[I 2022-07-27 09:03:50,594]\u001b[0m Trial 47 finished with value: 0.8707100591715976 and parameters: {'n_estimators': 69, 'num_leaves': 4, 'max_depth': 2, 'min_child_samples': 22, 'learning_rate': 0.5682541386562981}. Best is trial 12 with value: 0.8897224570301493.\u001b[0m\n",
            "\u001b[32m[I 2022-07-27 09:03:50,682]\u001b[0m Trial 48 finished with value: 0.4507959988729219 and parameters: {'n_estimators': 138, 'num_leaves': 5, 'max_depth': 6, 'min_child_samples': 25, 'learning_rate': 3.956392272236143}. Best is trial 12 with value: 0.8897224570301493.\u001b[0m\n",
            "\u001b[32m[I 2022-07-27 09:03:50,757]\u001b[0m Trial 49 finished with value: 0.6655043674274443 and parameters: {'n_estimators': 102, 'num_leaves': 6, 'max_depth': 4, 'min_child_samples': 14, 'learning_rate': 2.0289190593169093}. Best is trial 12 with value: 0.8897224570301493.\u001b[0m\n",
            "\u001b[32m[I 2022-07-27 09:03:50,919]\u001b[0m Trial 50 finished with value: 0.8576500422654268 and parameters: {'n_estimators': 182, 'num_leaves': 5, 'max_depth': 7, 'min_child_samples': 28, 'learning_rate': 1.246221206464234}. Best is trial 12 with value: 0.8897224570301493.\u001b[0m\n",
            "\u001b[32m[I 2022-07-27 09:03:51,098]\u001b[0m Trial 51 finished with value: 0.8826007326007327 and parameters: {'n_estimators': 165, 'num_leaves': 6, 'max_depth': 5, 'min_child_samples': 10, 'learning_rate': 0.012413055553475077}. Best is trial 12 with value: 0.8897224570301493.\u001b[0m\n",
            "\u001b[32m[I 2022-07-27 09:03:51,250]\u001b[0m Trial 52 finished with value: 0.861214426599042 and parameters: {'n_estimators': 154, 'num_leaves': 6, 'max_depth': 5, 'min_child_samples': 11, 'learning_rate': 0.3808254626113876}. Best is trial 12 with value: 0.8897224570301493.\u001b[0m\n",
            "\u001b[32m[I 2022-07-27 09:03:51,440]\u001b[0m Trial 53 finished with value: 0.8802197802197803 and parameters: {'n_estimators': 181, 'num_leaves': 6, 'max_depth': 5, 'min_child_samples': 10, 'learning_rate': 0.010681958076254472}. Best is trial 12 with value: 0.8897224570301493.\u001b[0m\n",
            "\u001b[32m[I 2022-07-27 09:03:51,608]\u001b[0m Trial 54 finished with value: 0.8529233586925894 and parameters: {'n_estimators': 176, 'num_leaves': 6, 'max_depth': 5, 'min_child_samples': 10, 'learning_rate': 0.9176713682844443}. Best is trial 12 with value: 0.8897224570301493.\u001b[0m\n",
            "\u001b[32m[I 2022-07-27 09:03:51,753]\u001b[0m Trial 55 finished with value: 0.8612355593124825 and parameters: {'n_estimators': 130, 'num_leaves': 6, 'max_depth': 6, 'min_child_samples': 10, 'learning_rate': 0.46526666200915145}. Best is trial 12 with value: 0.8897224570301493.\u001b[0m\n",
            "\u001b[32m[I 2022-07-27 09:03:51,840]\u001b[0m Trial 56 finished with value: 0.5136235559312483 and parameters: {'n_estimators': 202, 'num_leaves': 6, 'max_depth': 4, 'min_child_samples': 11, 'learning_rate': 5.94541394904504}. Best is trial 12 with value: 0.8897224570301493.\u001b[0m\n",
            "\u001b[32m[I 2022-07-27 09:03:51,947]\u001b[0m Trial 57 finished with value: 0.8826007326007327 and parameters: {'n_estimators': 68, 'num_leaves': 6, 'max_depth': 8, 'min_child_samples': 10, 'learning_rate': 0.018186804154681994}. Best is trial 12 with value: 0.8897224570301493.\u001b[0m\n",
            "\u001b[32m[I 2022-07-27 09:03:52,053]\u001b[0m Trial 58 finished with value: 0.851697661313046 and parameters: {'n_estimators': 74, 'num_leaves': 6, 'max_depth': 8, 'min_child_samples': 12, 'learning_rate': 1.034050436112288}. Best is trial 12 with value: 0.8897224570301493.\u001b[0m\n",
            "\u001b[32m[I 2022-07-27 09:03:52,148]\u001b[0m Trial 59 finished with value: 0.6680050718512257 and parameters: {'n_estimators': 66, 'num_leaves': 6, 'max_depth': 8, 'min_child_samples': 13, 'learning_rate': 1.5737202039505909}. Best is trial 12 with value: 0.8897224570301493.\u001b[0m\n",
            "\u001b[32m[I 2022-07-27 09:03:52,224]\u001b[0m Trial 60 finished with value: 0.6145604395604396 and parameters: {'n_estimators': 100, 'num_leaves': 6, 'max_depth': 3, 'min_child_samples': 15, 'learning_rate': 2.361867262739714}. Best is trial 12 with value: 0.8897224570301493.\u001b[0m\n",
            "\u001b[32m[I 2022-07-27 09:03:52,311]\u001b[0m Trial 61 finished with value: 0.8683713722175261 and parameters: {'n_estimators': 52, 'num_leaves': 6, 'max_depth': 6, 'min_child_samples': 10, 'learning_rate': 0.4444599582703952}. Best is trial 12 with value: 0.8897224570301493.\u001b[0m\n",
            "\u001b[32m[I 2022-07-27 09:03:52,481]\u001b[0m Trial 62 finished with value: 0.8908988447449986 and parameters: {'n_estimators': 143, 'num_leaves': 6, 'max_depth': 5, 'min_child_samples': 10, 'learning_rate': 0.06700956080926035}. Best is trial 62 with value: 0.8908988447449986.\u001b[0m\n",
            "\u001b[32m[I 2022-07-27 09:03:52,635]\u001b[0m Trial 63 finished with value: 0.8647858551704705 and parameters: {'n_estimators': 127, 'num_leaves': 6, 'max_depth': 5, 'min_child_samples': 19, 'learning_rate': 0.3961251230677603}. Best is trial 62 with value: 0.8908988447449986.\u001b[0m\n",
            "\u001b[32m[I 2022-07-27 09:03:52,800]\u001b[0m Trial 64 finished with value: 0.8576570865032404 and parameters: {'n_estimators': 145, 'num_leaves': 6, 'max_depth': 4, 'min_child_samples': 11, 'learning_rate': 0.7279470178590604}. Best is trial 62 with value: 0.8908988447449986.\u001b[0m\n",
            "\u001b[32m[I 2022-07-27 09:03:52,911]\u001b[0m Trial 65 finished with value: 0.7487249929557621 and parameters: {'n_estimators': 92, 'num_leaves': 6, 'max_depth': 5, 'min_child_samples': 10, 'learning_rate': 1.1847723642951637}. Best is trial 62 with value: 0.8908988447449986.\u001b[0m\n",
            "\u001b[32m[I 2022-07-27 09:03:53,269]\u001b[0m Trial 66 finished with value: 0.8861580726965343 and parameters: {'n_estimators': 466, 'num_leaves': 5, 'max_depth': 6, 'min_child_samples': 11, 'learning_rate': 0.029918770603706867}. Best is trial 62 with value: 0.8908988447449986.\u001b[0m\n",
            "\u001b[32m[I 2022-07-27 09:03:53,424]\u001b[0m Trial 67 finished with value: 0.5112707805015497 and parameters: {'n_estimators': 418, 'num_leaves': 5, 'max_depth': 7, 'min_child_samples': 14, 'learning_rate': 5.13730949764592}. Best is trial 62 with value: 0.8908988447449986.\u001b[0m\n",
            "\u001b[32m[I 2022-07-27 09:03:53,734]\u001b[0m Trial 68 finished with value: 0.7663074105381797 and parameters: {'n_estimators': 494, 'num_leaves': 5, 'max_depth': 8, 'min_child_samples': 11, 'learning_rate': 0.8261222291154938}. Best is trial 62 with value: 0.8908988447449986.\u001b[0m\n",
            "\u001b[32m[I 2022-07-27 09:03:53,877]\u001b[0m Trial 69 finished with value: 0.3758100873485489 and parameters: {'n_estimators': 385, 'num_leaves': 4, 'max_depth': 6, 'min_child_samples': 12, 'learning_rate': 7.286247456629021}. Best is trial 62 with value: 0.8908988447449986.\u001b[0m\n",
            "\u001b[32m[I 2022-07-27 09:03:54,047]\u001b[0m Trial 70 finished with value: 0.5407227387996618 and parameters: {'n_estimators': 478, 'num_leaves': 5, 'max_depth': 7, 'min_child_samples': 13, 'learning_rate': 1.7084879227337813}. Best is trial 62 with value: 0.8908988447449986.\u001b[0m\n",
            "\u001b[32m[I 2022-07-27 09:03:54,178]\u001b[0m Trial 71 finished with value: 0.8719075795998872 and parameters: {'n_estimators': 109, 'num_leaves': 6, 'max_depth': 5, 'min_child_samples': 11, 'learning_rate': 0.23004699061792372}. Best is trial 62 with value: 0.8908988447449986.\u001b[0m\n",
            "\u001b[32m[I 2022-07-27 09:03:54,277]\u001b[0m Trial 72 finished with value: 0.870745280360665 and parameters: {'n_estimators': 69, 'num_leaves': 5, 'max_depth': 4, 'min_child_samples': 10, 'learning_rate': 0.4393113543308033}. Best is trial 62 with value: 0.8908988447449986.\u001b[0m\n",
            "\u001b[32m[I 2022-07-27 09:03:54,671]\u001b[0m Trial 73 finished with value: 0.8826148210763595 and parameters: {'n_estimators': 463, 'num_leaves': 6, 'max_depth': 6, 'min_child_samples': 11, 'learning_rate': 0.0221118278543212}. Best is trial 62 with value: 0.8908988447449986.\u001b[0m\n",
            "\u001b[32m[I 2022-07-27 09:03:54,955]\u001b[0m Trial 74 finished with value: 0.7756903353057198 and parameters: {'n_estimators': 456, 'num_leaves': 4, 'max_depth': 6, 'min_child_samples': 12, 'learning_rate': 0.9542738311657489}. Best is trial 62 with value: 0.8908988447449986.\u001b[0m\n",
            "\u001b[32m[I 2022-07-27 09:03:55,275]\u001b[0m Trial 75 finished with value: 0.8564736545505776 and parameters: {'n_estimators': 425, 'num_leaves': 5, 'max_depth': 6, 'min_child_samples': 11, 'learning_rate': 0.28372858551643465}. Best is trial 62 with value: 0.8908988447449986.\u001b[0m\n",
            "\u001b[32m[I 2022-07-27 09:03:55,602]\u001b[0m Trial 76 finished with value: 0.8552972668357283 and parameters: {'n_estimators': 453, 'num_leaves': 5, 'max_depth': 6, 'min_child_samples': 11, 'learning_rate': 0.6645804635959373}. Best is trial 62 with value: 0.8908988447449986.\u001b[0m\n",
            "\u001b[32m[I 2022-07-27 09:03:55,750]\u001b[0m Trial 77 finished with value: 0.8861510284587208 and parameters: {'n_estimators': 266, 'num_leaves': 2, 'max_depth': 5, 'min_child_samples': 12, 'learning_rate': 0.2706003518102167}. Best is trial 62 with value: 0.8908988447449986.\u001b[0m\n",
            "\u001b[32m[I 2022-07-27 09:03:55,905]\u001b[0m Trial 78 finished with value: 0.8826077768385462 and parameters: {'n_estimators': 262, 'num_leaves': 2, 'max_depth': 5, 'min_child_samples': 13, 'learning_rate': 1.1028534160323602}. Best is trial 62 with value: 0.8908988447449986.\u001b[0m\n",
            "\u001b[32m[I 2022-07-27 09:03:56,058]\u001b[0m Trial 79 finished with value: 0.8897154127923358 and parameters: {'n_estimators': 288, 'num_leaves': 2, 'max_depth': 6, 'min_child_samples': 12, 'learning_rate': 0.30267299187123475}. Best is trial 62 with value: 0.8908988447449986.\u001b[0m\n",
            "\u001b[32m[I 2022-07-27 09:03:56,183]\u001b[0m Trial 80 finished with value: 0.4200197238658777 and parameters: {'n_estimators': 340, 'num_leaves': 2, 'max_depth': 5, 'min_child_samples': 18, 'learning_rate': 8.45104057630492}. Best is trial 62 with value: 0.8908988447449986.\u001b[0m\n",
            "\u001b[32m[I 2022-07-27 09:03:56,342]\u001b[0m Trial 81 finished with value: 0.8897154127923358 and parameters: {'n_estimators': 307, 'num_leaves': 2, 'max_depth': 6, 'min_child_samples': 12, 'learning_rate': 0.30135478497176826}. Best is trial 62 with value: 0.8908988447449986.\u001b[0m\n",
            "\u001b[32m[I 2022-07-27 09:03:56,497]\u001b[0m Trial 82 finished with value: 0.8861510284587208 and parameters: {'n_estimators': 301, 'num_leaves': 2, 'max_depth': 6, 'min_child_samples': 12, 'learning_rate': 0.5737249668939981}. Best is trial 62 with value: 0.8908988447449986.\u001b[0m\n",
            "\u001b[32m[I 2022-07-27 09:03:56,656]\u001b[0m Trial 83 finished with value: 0.8849746407438716 and parameters: {'n_estimators': 315, 'num_leaves': 2, 'max_depth': 6, 'min_child_samples': 14, 'learning_rate': 0.5682474839619591}. Best is trial 62 with value: 0.8908988447449986.\u001b[0m\n",
            "\u001b[32m[I 2022-07-27 09:03:56,814]\u001b[0m Trial 84 finished with value: 0.8885319808396732 and parameters: {'n_estimators': 290, 'num_leaves': 2, 'max_depth': 6, 'min_child_samples': 13, 'learning_rate': 0.31557161749672735}. Best is trial 62 with value: 0.8908988447449986.\u001b[0m\n",
            "\u001b[32m[I 2022-07-27 09:03:56,970]\u001b[0m Trial 85 finished with value: 0.8730980557903635 and parameters: {'n_estimators': 281, 'num_leaves': 2, 'max_depth': 7, 'min_child_samples': 13, 'learning_rate': 1.3921915420415134}. Best is trial 62 with value: 0.8908988447449986.\u001b[0m\n",
            "\u001b[32m[I 2022-07-27 09:03:57,142]\u001b[0m Trial 86 finished with value: 0.8826007326007327 and parameters: {'n_estimators': 308, 'num_leaves': 2, 'max_depth': 6, 'min_child_samples': 12, 'learning_rate': 0.7381326494024691}. Best is trial 62 with value: 0.8908988447449986.\u001b[0m\n",
            "\u001b[32m[I 2022-07-27 09:03:57,317]\u001b[0m Trial 87 finished with value: 0.8873485488870104 and parameters: {'n_estimators': 327, 'num_leaves': 2, 'max_depth': 7, 'min_child_samples': 13, 'learning_rate': 0.3249565346025282}. Best is trial 62 with value: 0.8908988447449986.\u001b[0m\n",
            "\u001b[32m[I 2022-07-27 09:03:57,517]\u001b[0m Trial 88 finished with value: 0.8873485488870104 and parameters: {'n_estimators': 368, 'num_leaves': 2, 'max_depth': 7, 'min_child_samples': 15, 'learning_rate': 0.2766192571868159}. Best is trial 62 with value: 0.8908988447449986.\u001b[0m\n",
            "\u001b[32m[I 2022-07-27 09:03:57,704]\u001b[0m Trial 89 finished with value: 0.8826077768385462 and parameters: {'n_estimators': 364, 'num_leaves': 2, 'max_depth': 7, 'min_child_samples': 15, 'learning_rate': 0.9019869088384145}. Best is trial 62 with value: 0.8908988447449986.\u001b[0m\n",
            "\u001b[32m[I 2022-07-27 09:03:57,895]\u001b[0m Trial 90 finished with value: 0.8885319808396732 and parameters: {'n_estimators': 331, 'num_leaves': 2, 'max_depth': 7, 'min_child_samples': 16, 'learning_rate': 0.2879965439307509}. Best is trial 62 with value: 0.8908988447449986.\u001b[0m\n",
            "\u001b[32m[I 2022-07-27 09:03:58,073]\u001b[0m Trial 91 finished with value: 0.8885319808396732 and parameters: {'n_estimators': 331, 'num_leaves': 2, 'max_depth': 7, 'min_child_samples': 16, 'learning_rate': 0.30927935384626404}. Best is trial 62 with value: 0.8908988447449986.\u001b[0m\n",
            "\u001b[32m[I 2022-07-27 09:03:58,247]\u001b[0m Trial 92 finished with value: 0.8885249366018597 and parameters: {'n_estimators': 328, 'num_leaves': 2, 'max_depth': 7, 'min_child_samples': 16, 'learning_rate': 0.3292140100801667}. Best is trial 62 with value: 0.8908988447449986.\u001b[0m\n",
            "\u001b[32m[I 2022-07-27 09:03:58,439]\u001b[0m Trial 93 finished with value: 0.8802338686954071 and parameters: {'n_estimators': 334, 'num_leaves': 2, 'max_depth': 7, 'min_child_samples': 16, 'learning_rate': 1.1050085848204168}. Best is trial 62 with value: 0.8908988447449986.\u001b[0m\n",
            "\u001b[32m[I 2022-07-27 09:03:58,625]\u001b[0m Trial 94 finished with value: 0.8861580726965343 and parameters: {'n_estimators': 361, 'num_leaves': 2, 'max_depth': 7, 'min_child_samples': 18, 'learning_rate': 0.29198562340521933}. Best is trial 62 with value: 0.8908988447449986.\u001b[0m\n",
            "\u001b[32m[I 2022-07-27 09:03:58,788]\u001b[0m Trial 95 finished with value: 0.8861580726965343 and parameters: {'n_estimators': 291, 'num_leaves': 2, 'max_depth': 7, 'min_child_samples': 16, 'learning_rate': 0.5788046404667995}. Best is trial 62 with value: 0.8908988447449986.\u001b[0m\n",
            "\u001b[32m[I 2022-07-27 09:03:58,925]\u001b[0m Trial 96 finished with value: 0.5493167089320935 and parameters: {'n_estimators': 374, 'num_leaves': 3, 'max_depth': 7, 'min_child_samples': 17, 'learning_rate': 9.98741026267662}. Best is trial 62 with value: 0.8908988447449986.\u001b[0m\n",
            "\u001b[32m[I 2022-07-27 09:03:59,150]\u001b[0m Trial 97 finished with value: 0.8564736545505776 and parameters: {'n_estimators': 346, 'num_leaves': 3, 'max_depth': 7, 'min_child_samples': 15, 'learning_rate': 0.788902262868489}. Best is trial 62 with value: 0.8908988447449986.\u001b[0m\n",
            "\u001b[32m[I 2022-07-27 09:03:59,323]\u001b[0m Trial 98 finished with value: 0.879057480980558 and parameters: {'n_estimators': 321, 'num_leaves': 2, 'max_depth': 7, 'min_child_samples': 14, 'learning_rate': 1.314450406411272}. Best is trial 62 with value: 0.8908988447449986.\u001b[0m\n",
            "\u001b[32m[I 2022-07-27 09:03:59,494]\u001b[0m Trial 99 finished with value: 0.8885249366018597 and parameters: {'n_estimators': 330, 'num_leaves': 2, 'max_depth': 7, 'min_child_samples': 17, 'learning_rate': 0.4733412007469362}. Best is trial 62 with value: 0.8908988447449986.\u001b[0m\n"
          ]
        },
        {
          "output_type": "stream",
          "name": "stdout",
          "text": [
            "Best score: 0.8908988447449986\n",
            "\n",
            "Optimized parameters: {'n_estimators': 143, 'num_leaves': 6, 'max_depth': 5, 'min_child_samples': 10, 'learning_rate': 0.06700956080926035}\n",
            "\n",
            "Train Accuracy: 0.911\n",
            "Test Accuracy: 0.908\n",
            "Precision: 0.868\n",
            "Recall: 0.937\n",
            "F1-score: 0.901\n"
          ]
        },
        {
          "output_type": "display_data",
          "data": {
            "text/plain": [
              "<Figure size 432x360 with 2 Axes>"
            ],
            "image/png": "[encoded data removed]"
          },
          "metadata": {
            "needs_background": "light"
          }
        }
      ]
    },
    {
      "cell_type": "code",
      "source": [
        "## Tuning SVC - Full\n",
        "optuna_execution(\"SVC Full\",X_train, y_train, X_test, y_test)"
      ],
      "metadata": {
        "colab": {
          "base_uri": "https://localhost:8080/",
          "height": 1000
        },
        "id": "HuSfx9fMzit4",
        "outputId": "20ea8dc0-8818-47f0-eb90-581bf7b98ee3"
      },
      "execution_count": 348,
      "outputs": [
        {
          "output_type": "stream",
          "name": "stderr",
          "text": [
            "\u001b[32m[I 2022-07-27 09:44:43,686]\u001b[0m A new study created in memory with name: no-name-9b31ba4d-66cf-4746-abd1-dbf32d87d350\u001b[0m\n",
            "\u001b[32m[I 2022-07-27 09:44:43,776]\u001b[0m Trial 0 finished with value: 0.8695477599323752 and parameters: {'gamma': 1.13633466937674, 'C': 1.5746122919090109}. Best is trial 0 with value: 0.8695477599323752.\u001b[0m\n",
            "\u001b[32m[I 2022-07-27 09:44:43,862]\u001b[0m Trial 1 finished with value: 0.8814032121724429 and parameters: {'gamma': 1.8627801949145506, 'C': 1.8279231554142874}. Best is trial 1 with value: 0.8814032121724429.\u001b[0m\n",
            "\u001b[32m[I 2022-07-27 09:44:43,944]\u001b[0m Trial 2 finished with value: 0.8683643279797126 and parameters: {'gamma': 1.7844855318119421, 'C': 1.1343796534150887}. Best is trial 1 with value: 0.8814032121724429.\u001b[0m\n",
            "\u001b[32m[I 2022-07-27 09:44:44,033]\u001b[0m Trial 3 finished with value: 0.8683643279797126 and parameters: {'gamma': 1.7139901647010292, 'C': 1.1749901319304676}. Best is trial 1 with value: 0.8814032121724429.\u001b[0m\n",
            "\u001b[32m[I 2022-07-27 09:44:44,113]\u001b[0m Trial 4 finished with value: 0.8659904198365738 and parameters: {'gamma': 1.6569811336970925, 'C': 1.0461305350152292}. Best is trial 1 with value: 0.8814032121724429.\u001b[0m\n",
            "\u001b[32m[I 2022-07-27 09:44:44,197]\u001b[0m Trial 5 finished with value: 0.870731191885038 and parameters: {'gamma': 1.5535822252763936, 'C': 1.5667948739339819}. Best is trial 1 with value: 0.8814032121724429.\u001b[0m\n",
            "\u001b[32m[I 2022-07-27 09:44:44,283]\u001b[0m Trial 6 finished with value: 0.870731191885038 and parameters: {'gamma': 1.2133931878804245, 'C': 1.9267863086838268}. Best is trial 1 with value: 0.8814032121724429.\u001b[0m\n",
            "\u001b[32m[I 2022-07-27 09:44:44,368]\u001b[0m Trial 7 finished with value: 0.8683572837418991 and parameters: {'gamma': 1.1830924571300354, 'C': 1.7536960443143563}. Best is trial 1 with value: 0.8814032121724429.\u001b[0m\n",
            "\u001b[32m[I 2022-07-27 09:44:44,460]\u001b[0m Trial 8 finished with value: 0.8754719639335024 and parameters: {'gamma': 1.5460850820068153, 'C': 1.7116429432309097}. Best is trial 1 with value: 0.8814032121724429.\u001b[0m\n",
            "\u001b[32m[I 2022-07-27 09:44:44,560]\u001b[0m Trial 9 finished with value: 0.8778529163144547 and parameters: {'gamma': 1.4897701461993025, 'C': 1.8945620332688855}. Best is trial 1 with value: 0.8814032121724429.\u001b[0m\n",
            "\u001b[32m[I 2022-07-27 09:44:44,658]\u001b[0m Trial 10 finished with value: 0.8719216680755142 and parameters: {'gamma': 1.98352120560817, 'C': 1.3110339443083818}. Best is trial 1 with value: 0.8814032121724429.\u001b[0m\n",
            "\u001b[32m[I 2022-07-27 09:44:44,757]\u001b[0m Trial 11 finished with value: 0.8754719639335024 and parameters: {'gamma': 1.3643279648132327, 'C': 1.9336308328120368}. Best is trial 1 with value: 0.8814032121724429.\u001b[0m\n",
            "\u001b[32m[I 2022-07-27 09:44:44,861]\u001b[0m Trial 12 finished with value: 0.8814032121724429 and parameters: {'gamma': 1.9129885883269842, 'C': 1.783424976391561}. Best is trial 1 with value: 0.8814032121724429.\u001b[0m\n",
            "\u001b[32m[I 2022-07-27 09:44:44,969]\u001b[0m Trial 13 finished with value: 0.8814032121724429 and parameters: {'gamma': 1.980756325722491, 'C': 1.7369597220033368}. Best is trial 1 with value: 0.8814032121724429.\u001b[0m\n",
            "\u001b[32m[I 2022-07-27 09:44:45,064]\u001b[0m Trial 14 finished with value: 0.8742885319808396 and parameters: {'gamma': 1.8474772237021067, 'C': 1.4534831516923206}. Best is trial 1 with value: 0.8814032121724429.\u001b[0m\n",
            "\u001b[32m[I 2022-07-27 09:44:45,162]\u001b[0m Trial 15 finished with value: 0.8814032121724429 and parameters: {'gamma': 1.8527545716946612, 'C': 1.8148266483995987}. Best is trial 1 with value: 0.8814032121724429.\u001b[0m\n",
            "\u001b[32m[I 2022-07-27 09:44:45,268]\u001b[0m Trial 16 finished with value: 0.8790363482671175 and parameters: {'gamma': 1.88151535922144, 'C': 1.6280640940496995}. Best is trial 1 with value: 0.8814032121724429.\u001b[0m\n",
            "\u001b[32m[I 2022-07-27 09:44:45,371]\u001b[0m Trial 17 finished with value: 0.8778458720766412 and parameters: {'gamma': 1.989911888050884, 'C': 1.4561884868888282}. Best is trial 1 with value: 0.8814032121724429.\u001b[0m\n",
            "\u001b[32m[I 2022-07-27 09:44:45,469]\u001b[0m Trial 18 finished with value: 0.8814032121724429 and parameters: {'gamma': 1.7011745773374432, 'C': 1.99835083335799}. Best is trial 1 with value: 0.8814032121724429.\u001b[0m\n",
            "\u001b[32m[I 2022-07-27 09:44:45,577]\u001b[0m Trial 19 finished with value: 0.8802197802197803 and parameters: {'gamma': 1.6737805906203385, 'C': 1.9920799847001482}. Best is trial 1 with value: 0.8814032121724429.\u001b[0m\n",
            "\u001b[32m[I 2022-07-27 09:44:45,680]\u001b[0m Trial 20 finished with value: 0.870731191885038 and parameters: {'gamma': 1.0032835383604317, 'C': 1.8550900739809177}. Best is trial 1 with value: 0.8814032121724429.\u001b[0m\n",
            "\u001b[32m[I 2022-07-27 09:44:45,781]\u001b[0m Trial 21 finished with value: 0.8825936883629192 and parameters: {'gamma': 1.7844582658156503, 'C': 1.9974189199685082}. Best is trial 21 with value: 0.8825936883629192.\u001b[0m\n",
            "\u001b[32m[I 2022-07-27 09:44:45,880]\u001b[0m Trial 22 finished with value: 0.8814032121724429 and parameters: {'gamma': 1.7643288015896692, 'C': 1.9589569004430074}. Best is trial 21 with value: 0.8825936883629192.\u001b[0m\n",
            "\u001b[32m[I 2022-07-27 09:44:45,981]\u001b[0m Trial 23 finished with value: 0.8802197802197803 and parameters: {'gamma': 1.7551313300273486, 'C': 1.8627995378530144}. Best is trial 21 with value: 0.8825936883629192.\u001b[0m\n",
            "\u001b[32m[I 2022-07-27 09:44:46,081]\u001b[0m Trial 24 finished with value: 0.8790363482671175 and parameters: {'gamma': 1.6332396846765445, 'C': 1.9795046385387465}. Best is trial 21 with value: 0.8825936883629192.\u001b[0m\n",
            "\u001b[32m[I 2022-07-27 09:44:46,188]\u001b[0m Trial 25 finished with value: 0.8802197802197803 and parameters: {'gamma': 1.922762923865739, 'C': 1.6694261479048262}. Best is trial 21 with value: 0.8825936883629192.\u001b[0m\n",
            "\u001b[32m[I 2022-07-27 09:44:46,285]\u001b[0m Trial 26 finished with value: 0.8802197802197803 and parameters: {'gamma': 1.8173626468827537, 'C': 1.8096176640084933}. Best is trial 21 with value: 0.8825936883629192.\u001b[0m\n",
            "\u001b[32m[I 2022-07-27 09:44:46,386]\u001b[0m Trial 27 finished with value: 0.8814032121724429 and parameters: {'gamma': 1.9903812166865666, 'C': 1.72095594367111}. Best is trial 21 with value: 0.8825936883629192.\u001b[0m\n",
            "\u001b[32m[I 2022-07-27 09:44:46,482]\u001b[0m Trial 28 finished with value: 0.8778529163144547 and parameters: {'gamma': 1.4565829006695972, 'C': 1.946822043997183}. Best is trial 21 with value: 0.8825936883629192.\u001b[0m\n",
            "\u001b[32m[I 2022-07-27 09:44:46,581]\u001b[0m Trial 29 finished with value: 0.8719216680755142 and parameters: {'gamma': 1.6292334401667201, 'C': 1.5375740907291429}. Best is trial 21 with value: 0.8825936883629192.\u001b[0m\n",
            "\u001b[32m[I 2022-07-27 09:44:46,695]\u001b[0m Trial 30 finished with value: 0.8719146238377007 and parameters: {'gamma': 1.3371239273591482, 'C': 1.6917853852330893}. Best is trial 21 with value: 0.8825936883629192.\u001b[0m\n",
            "\u001b[32m[I 2022-07-27 09:44:46,800]\u001b[0m Trial 31 finished with value: 0.8814032121724429 and parameters: {'gamma': 1.9131192534925696, 'C': 1.7834340773410136}. Best is trial 21 with value: 0.8825936883629192.\u001b[0m\n",
            "\u001b[32m[I 2022-07-27 09:44:46,899]\u001b[0m Trial 32 finished with value: 0.8802197802197803 and parameters: {'gamma': 1.7679510337876074, 'C': 1.8680401291065192}. Best is trial 21 with value: 0.8825936883629192.\u001b[0m\n",
            "\u001b[32m[I 2022-07-27 09:44:46,996]\u001b[0m Trial 33 finished with value: 0.8790363482671175 and parameters: {'gamma': 1.7872989081400152, 'C': 1.6308968063020537}. Best is trial 21 with value: 0.8825936883629192.\u001b[0m\n",
            "\u001b[32m[I 2022-07-27 09:44:47,099]\u001b[0m Trial 34 finished with value: 0.8814032121724429 and parameters: {'gamma': 1.9438140269621738, 'C': 1.8166318704942892}. Best is trial 21 with value: 0.8825936883629192.\u001b[0m\n",
            "\u001b[32m[I 2022-07-27 09:44:47,197]\u001b[0m Trial 35 finished with value: 0.8814032121724429 and parameters: {'gamma': 1.857257205140915, 'C': 1.8421097303202785}. Best is trial 21 with value: 0.8825936883629192.\u001b[0m\n",
            "\u001b[32m[I 2022-07-27 09:44:47,307]\u001b[0m Trial 36 finished with value: 0.8802197802197803 and parameters: {'gamma': 1.7130384655534712, 'C': 1.9144174688209659}. Best is trial 21 with value: 0.8825936883629192.\u001b[0m\n",
            "\u001b[32m[I 2022-07-27 09:44:47,410]\u001b[0m Trial 37 finished with value: 0.8814032121724429 and parameters: {'gamma': 1.6952542842736384, 'C': 1.994280265100749}. Best is trial 21 with value: 0.8825936883629192.\u001b[0m\n",
            "\u001b[32m[I 2022-07-27 09:44:47,503]\u001b[0m Trial 38 finished with value: 0.8671738517892364 and parameters: {'gamma': 1.6035274736550387, 'C': 1.2972497596994552}. Best is trial 21 with value: 0.8825936883629192.\u001b[0m\n",
            "\u001b[32m[I 2022-07-27 09:44:47,602]\u001b[0m Trial 39 finished with value: 0.8790363482671175 and parameters: {'gamma': 1.8342728491039446, 'C': 1.623961469038645}. Best is trial 21 with value: 0.8825936883629192.\u001b[0m\n",
            "\u001b[32m[I 2022-07-27 09:44:47,707]\u001b[0m Trial 40 finished with value: 0.8790363482671175 and parameters: {'gamma': 1.753262390396701, 'C': 1.758180764678367}. Best is trial 21 with value: 0.8825936883629192.\u001b[0m\n",
            "\u001b[32m[I 2022-07-27 09:44:47,804]\u001b[0m Trial 41 finished with value: 0.8814032121724429 and parameters: {'gamma': 1.7328306090573389, 'C': 1.946030150563397}. Best is trial 21 with value: 0.8825936883629192.\u001b[0m\n",
            "\u001b[32m[I 2022-07-27 09:44:47,907]\u001b[0m Trial 42 finished with value: 0.8825936883629192 and parameters: {'gamma': 1.9228629710330503, 'C': 1.898001828440653}. Best is trial 21 with value: 0.8825936883629192.\u001b[0m\n",
            "\u001b[32m[I 2022-07-27 09:44:48,003]\u001b[0m Trial 43 finished with value: 0.8825936883629192 and parameters: {'gamma': 1.932651886083883, 'C': 1.8939804342787663}. Best is trial 21 with value: 0.8825936883629192.\u001b[0m\n",
            "\u001b[32m[I 2022-07-27 09:44:48,098]\u001b[0m Trial 44 finished with value: 0.8790363482671175 and parameters: {'gamma': 1.571517971703137, 'C': 1.8998171012991123}. Best is trial 21 with value: 0.8825936883629192.\u001b[0m\n",
            "\u001b[32m[I 2022-07-27 09:44:48,196]\u001b[0m Trial 45 finished with value: 0.8825936883629192 and parameters: {'gamma': 1.9058906443313868, 'C': 1.9001635698880484}. Best is trial 21 with value: 0.8825936883629192.\u001b[0m\n",
            "\u001b[32m[I 2022-07-27 09:44:48,298]\u001b[0m Trial 46 finished with value: 0.8825936883629192 and parameters: {'gamma': 1.8947362957475742, 'C': 1.9108179173208553}. Best is trial 21 with value: 0.8825936883629192.\u001b[0m\n",
            "\u001b[32m[I 2022-07-27 09:44:48,396]\u001b[0m Trial 47 finished with value: 0.8825936883629192 and parameters: {'gamma': 1.8870786683834466, 'C': 1.8931621219708714}. Best is trial 21 with value: 0.8825936883629192.\u001b[0m\n",
            "\u001b[32m[I 2022-07-27 09:44:48,490]\u001b[0m Trial 48 finished with value: 0.8814032121724429 and parameters: {'gamma': 1.8108561301832686, 'C': 1.9017685047842614}. Best is trial 21 with value: 0.8825936883629192.\u001b[0m\n",
            "\u001b[32m[I 2022-07-27 09:44:48,585]\u001b[0m Trial 49 finished with value: 0.8671738517892364 and parameters: {'gamma': 1.9498359868298, 'C': 1.0566707262924853}. Best is trial 21 with value: 0.8825936883629192.\u001b[0m\n",
            "\u001b[32m[I 2022-07-27 09:44:48,692]\u001b[0m Trial 50 finished with value: 0.8719216680755142 and parameters: {'gamma': 1.8836855160501789, 'C': 1.3589652861676813}. Best is trial 21 with value: 0.8825936883629192.\u001b[0m\n",
            "\u001b[32m[I 2022-07-27 09:44:48,789]\u001b[0m Trial 51 finished with value: 0.8825936883629192 and parameters: {'gamma': 1.8843460956551985, 'C': 1.88847958712188}. Best is trial 21 with value: 0.8825936883629192.\u001b[0m\n",
            "\u001b[32m[I 2022-07-27 09:44:48,889]\u001b[0m Trial 52 finished with value: 0.8825936883629192 and parameters: {'gamma': 1.8920702419980389, 'C': 1.8807100024515977}. Best is trial 21 with value: 0.8825936883629192.\u001b[0m\n",
            "\u001b[32m[I 2022-07-27 09:44:48,991]\u001b[0m Trial 53 finished with value: 0.8814032121724429 and parameters: {'gamma': 1.8879782318689968, 'C': 1.7812239958912925}. Best is trial 21 with value: 0.8825936883629192.\u001b[0m\n",
            "\u001b[32m[I 2022-07-27 09:44:49,091]\u001b[0m Trial 54 finished with value: 0.8825936883629192 and parameters: {'gamma': 1.9457458890539732, 'C': 1.9353731079347842}. Best is trial 21 with value: 0.8825936883629192.\u001b[0m\n",
            "\u001b[32m[I 2022-07-27 09:44:49,198]\u001b[0m Trial 55 finished with value: 0.883777120315582 and parameters: {'gamma': 1.9563202645151125, 'C': 1.9386929845976222}. Best is trial 55 with value: 0.883777120315582.\u001b[0m\n",
            "\u001b[32m[I 2022-07-27 09:44:49,302]\u001b[0m Trial 56 finished with value: 0.883777120315582 and parameters: {'gamma': 1.9496108588846512, 'C': 1.9406804882489617}. Best is trial 55 with value: 0.883777120315582.\u001b[0m\n",
            "\u001b[32m[I 2022-07-27 09:44:49,408]\u001b[0m Trial 57 finished with value: 0.883777120315582 and parameters: {'gamma': 1.9750283114919043, 'C': 1.9500799021440691}. Best is trial 55 with value: 0.883777120315582.\u001b[0m\n",
            "\u001b[32m[I 2022-07-27 09:44:49,506]\u001b[0m Trial 58 finished with value: 0.884967596506058 and parameters: {'gamma': 1.9826174219386832, 'C': 1.9644490958818628}. Best is trial 58 with value: 0.884967596506058.\u001b[0m\n",
            "\u001b[32m[I 2022-07-27 09:44:49,610]\u001b[0m Trial 59 finished with value: 0.883777120315582 and parameters: {'gamma': 1.9547439432494493, 'C': 1.9563723555016108}. Best is trial 58 with value: 0.884967596506058.\u001b[0m\n",
            "\u001b[32m[I 2022-07-27 09:44:49,730]\u001b[0m Trial 60 finished with value: 0.884967596506058 and parameters: {'gamma': 1.9985897979604705, 'C': 1.9568411953152687}. Best is trial 58 with value: 0.884967596506058.\u001b[0m\n",
            "\u001b[32m[I 2022-07-27 09:44:49,831]\u001b[0m Trial 61 finished with value: 0.884967596506058 and parameters: {'gamma': 1.9996099357691215, 'C': 1.9640270078047612}. Best is trial 58 with value: 0.884967596506058.\u001b[0m\n",
            "\u001b[32m[I 2022-07-27 09:44:49,932]\u001b[0m Trial 62 finished with value: 0.884967596506058 and parameters: {'gamma': 1.992944233663338, 'C': 1.9609694452113011}. Best is trial 58 with value: 0.884967596506058.\u001b[0m\n",
            "\u001b[32m[I 2022-07-27 09:44:50,039]\u001b[0m Trial 63 finished with value: 0.884967596506058 and parameters: {'gamma': 1.9914629428584654, 'C': 1.972541415754549}. Best is trial 58 with value: 0.884967596506058.\u001b[0m\n",
            "\u001b[32m[I 2022-07-27 09:44:50,142]\u001b[0m Trial 64 finished with value: 0.884967596506058 and parameters: {'gamma': 1.9921027418414787, 'C': 1.960164857688458}. Best is trial 58 with value: 0.884967596506058.\u001b[0m\n",
            "\u001b[32m[I 2022-07-27 09:44:50,245]\u001b[0m Trial 65 finished with value: 0.884967596506058 and parameters: {'gamma': 1.9926200227801634, 'C': 1.9691369985354878}. Best is trial 58 with value: 0.884967596506058.\u001b[0m\n",
            "\u001b[32m[I 2022-07-27 09:44:50,347]\u001b[0m Trial 66 finished with value: 0.884967596506058 and parameters: {'gamma': 1.99066648159027, 'C': 1.974575506783982}. Best is trial 58 with value: 0.884967596506058.\u001b[0m\n",
            "\u001b[32m[I 2022-07-27 09:44:50,447]\u001b[0m Trial 67 finished with value: 0.8825936883629192 and parameters: {'gamma': 1.9735443130411354, 'C': 1.8448123399341674}. Best is trial 58 with value: 0.884967596506058.\u001b[0m\n",
            "\u001b[32m[I 2022-07-27 09:44:50,548]\u001b[0m Trial 68 finished with value: 0.8861510284587208 and parameters: {'gamma': 1.9983510359420333, 'C': 1.9971013734261183}. Best is trial 68 with value: 0.8861510284587208.\u001b[0m\n",
            "\u001b[32m[I 2022-07-27 09:44:50,649]\u001b[0m Trial 69 finished with value: 0.8861510284587208 and parameters: {'gamma': 1.9984468138304894, 'C': 1.9862002204746418}. Best is trial 68 with value: 0.8861510284587208.\u001b[0m\n",
            "\u001b[32m[I 2022-07-27 09:44:50,753]\u001b[0m Trial 70 finished with value: 0.8719075795998872 and parameters: {'gamma': 1.060241502444233, 'C': 1.9997582125475444}. Best is trial 68 with value: 0.8861510284587208.\u001b[0m\n",
            "\u001b[32m[I 2022-07-27 09:44:50,852]\u001b[0m Trial 71 finished with value: 0.884967596506058 and parameters: {'gamma': 1.999144180406652, 'C': 1.9743316190369884}. Best is trial 68 with value: 0.8861510284587208.\u001b[0m\n",
            "\u001b[32m[I 2022-07-27 09:44:50,953]\u001b[0m Trial 72 finished with value: 0.884967596506058 and parameters: {'gamma': 1.9999939943622023, 'C': 1.9772278435935589}. Best is trial 68 with value: 0.8861510284587208.\u001b[0m\n",
            "\u001b[32m[I 2022-07-27 09:44:51,051]\u001b[0m Trial 73 finished with value: 0.883777120315582 and parameters: {'gamma': 1.9259701433907839, 'C': 1.9818471725356521}. Best is trial 68 with value: 0.8861510284587208.\u001b[0m\n",
            "\u001b[32m[I 2022-07-27 09:44:51,148]\u001b[0m Trial 74 finished with value: 0.883777120315582 and parameters: {'gamma': 1.9701101359233657, 'C': 1.9231883427383178}. Best is trial 68 with value: 0.8861510284587208.\u001b[0m\n",
            "\u001b[32m[I 2022-07-27 09:44:51,267]\u001b[0m Trial 75 finished with value: 0.870731191885038 and parameters: {'gamma': 1.290898124225632, 'C': 1.8549422934315742}. Best is trial 68 with value: 0.8861510284587208.\u001b[0m\n",
            "\u001b[32m[I 2022-07-27 09:44:51,370]\u001b[0m Trial 76 finished with value: 0.8814032121724429 and parameters: {'gamma': 1.853892455955965, 'C': 1.8215267712549013}. Best is trial 68 with value: 0.8861510284587208.\u001b[0m\n",
            "\u001b[32m[I 2022-07-27 09:44:51,467]\u001b[0m Trial 77 finished with value: 0.883777120315582 and parameters: {'gamma': 1.9202182933474525, 'C': 1.9759950249677816}. Best is trial 68 with value: 0.8861510284587208.\u001b[0m\n",
            "\u001b[32m[I 2022-07-27 09:44:51,561]\u001b[0m Trial 78 finished with value: 0.8861510284587208 and parameters: {'gamma': 1.9995679359057816, 'C': 1.9884585028984252}. Best is trial 68 with value: 0.8861510284587208.\u001b[0m\n",
            "\u001b[32m[I 2022-07-27 09:44:51,660]\u001b[0m Trial 79 finished with value: 0.8825936883629192 and parameters: {'gamma': 1.9638343894613073, 'C': 1.8636936255465395}. Best is trial 68 with value: 0.8861510284587208.\u001b[0m\n",
            "\u001b[32m[I 2022-07-27 09:44:51,766]\u001b[0m Trial 80 finished with value: 0.8825936883629192 and parameters: {'gamma': 1.8309316090531191, 'C': 1.9988550135656542}. Best is trial 68 with value: 0.8861510284587208.\u001b[0m\n",
            "\u001b[32m[I 2022-07-27 09:44:51,863]\u001b[0m Trial 81 finished with value: 0.883777120315582 and parameters: {'gamma': 1.9946594509679811, 'C': 1.93165851390332}. Best is trial 68 with value: 0.8861510284587208.\u001b[0m\n",
            "\u001b[32m[I 2022-07-27 09:44:51,959]\u001b[0m Trial 82 finished with value: 0.8825936883629192 and parameters: {'gamma': 1.935094438485696, 'C': 1.9197956937723875}. Best is trial 68 with value: 0.8861510284587208.\u001b[0m\n",
            "\u001b[32m[I 2022-07-27 09:44:52,057]\u001b[0m Trial 83 finished with value: 0.884967596506058 and parameters: {'gamma': 1.9643825689606413, 'C': 1.975440731302266}. Best is trial 68 with value: 0.8861510284587208.\u001b[0m\n",
            "\u001b[32m[I 2022-07-27 09:44:52,155]\u001b[0m Trial 84 finished with value: 0.8695477599323752 and parameters: {'gamma': 1.864741260392162, 'C': 1.2109136287231608}. Best is trial 68 with value: 0.8861510284587208.\u001b[0m\n",
            "\u001b[32m[I 2022-07-27 09:44:52,251]\u001b[0m Trial 85 finished with value: 0.883777120315582 and parameters: {'gamma': 1.9722125371245596, 'C': 1.9531288219162186}. Best is trial 68 with value: 0.8861510284587208.\u001b[0m\n",
            "\u001b[32m[I 2022-07-27 09:44:52,351]\u001b[0m Trial 86 finished with value: 0.883777120315582 and parameters: {'gamma': 1.9167462843071223, 'C': 1.9999277331757044}. Best is trial 68 with value: 0.8861510284587208.\u001b[0m\n",
            "\u001b[32m[I 2022-07-27 09:44:52,445]\u001b[0m Trial 87 finished with value: 0.8766624401239784 and parameters: {'gamma': 1.4249434116548898, 'C': 1.9211523302310682}. Best is trial 68 with value: 0.8861510284587208.\u001b[0m\n",
            "\u001b[32m[I 2022-07-27 09:44:52,544]\u001b[0m Trial 88 finished with value: 0.8825936883629192 and parameters: {'gamma': 1.9430889932922089, 'C': 1.8704731612506384}. Best is trial 68 with value: 0.8861510284587208.\u001b[0m\n",
            "\u001b[32m[I 2022-07-27 09:44:52,638]\u001b[0m Trial 89 finished with value: 0.884967596506058 and parameters: {'gamma': 1.9985372070361278, 'C': 1.9643987474221298}. Best is trial 68 with value: 0.8861510284587208.\u001b[0m\n",
            "\u001b[32m[I 2022-07-27 09:44:52,739]\u001b[0m Trial 90 finished with value: 0.8825936883629192 and parameters: {'gamma': 1.9735666683556663, 'C': 1.830760969294962}. Best is trial 68 with value: 0.8861510284587208.\u001b[0m\n",
            "\u001b[32m[I 2022-07-27 09:44:52,843]\u001b[0m Trial 91 finished with value: 0.8825936883629192 and parameters: {'gamma': 1.908400041420197, 'C': 1.9573242141650629}. Best is trial 68 with value: 0.8861510284587208.\u001b[0m\n",
            "\u001b[32m[I 2022-07-27 09:44:52,938]\u001b[0m Trial 92 finished with value: 0.883777120315582 and parameters: {'gamma': 1.9994252160620885, 'C': 1.9209440601232584}. Best is trial 68 with value: 0.8861510284587208.\u001b[0m\n",
            "\u001b[32m[I 2022-07-27 09:44:53,035]\u001b[0m Trial 93 finished with value: 0.884967596506058 and parameters: {'gamma': 1.9623158621222831, 'C': 1.9816556476621852}. Best is trial 68 with value: 0.8861510284587208.\u001b[0m\n",
            "\u001b[32m[I 2022-07-27 09:44:53,133]\u001b[0m Trial 94 finished with value: 0.883777120315582 and parameters: {'gamma': 1.9351779271755263, 'C': 1.981319178036647}. Best is trial 68 with value: 0.8861510284587208.\u001b[0m\n",
            "\u001b[32m[I 2022-07-27 09:44:53,229]\u001b[0m Trial 95 finished with value: 0.8825936883629192 and parameters: {'gamma': 1.8685355521864782, 'C': 1.93617939814127}. Best is trial 68 with value: 0.8861510284587208.\u001b[0m\n",
            "\u001b[32m[I 2022-07-27 09:44:53,326]\u001b[0m Trial 96 finished with value: 0.8825936883629192 and parameters: {'gamma': 1.981092796694813, 'C': 1.883936123961287}. Best is trial 68 with value: 0.8861510284587208.\u001b[0m\n",
            "\u001b[32m[I 2022-07-27 09:44:53,426]\u001b[0m Trial 97 finished with value: 0.8825936883629192 and parameters: {'gamma': 1.9096597147256604, 'C': 1.9554424578932574}. Best is trial 68 with value: 0.8861510284587208.\u001b[0m\n",
            "\u001b[32m[I 2022-07-27 09:44:53,520]\u001b[0m Trial 98 finished with value: 0.884967596506058 and parameters: {'gamma': 1.9535736164333999, 'C': 1.981719899199317}. Best is trial 68 with value: 0.8861510284587208.\u001b[0m\n",
            "\u001b[32m[I 2022-07-27 09:44:53,614]\u001b[0m Trial 99 finished with value: 0.8825936883629192 and parameters: {'gamma': 1.9500826070617487, 'C': 1.9210576285696441}. Best is trial 68 with value: 0.8861510284587208.\u001b[0m\n"
          ]
        },
        {
          "output_type": "stream",
          "name": "stdout",
          "text": [
            "Best score: 0.8861510284587208\n",
            "\n",
            "Optimized parameters: {'gamma': 1.9983510359420333, 'C': 1.9971013734261183}\n",
            "\n",
            "Train Accuracy: 0.897\n",
            "Test Accuracy: 0.911\n",
            "Precision: 0.874\n",
            "Recall: 0.937\n",
            "F1-score: 0.904\n"
          ]
        },
        {
          "output_type": "display_data",
          "data": {
            "text/plain": [
              "<Figure size 432x360 with 2 Axes>"
            ],
            "image/png": "[encoded data removed]"
          },
          "metadata": {
            "needs_background": "light"
          }
        }
      ]
    },
    {
      "cell_type": "code",
      "source": [
        ""
      ],
      "metadata": {
        "id": "laMMgPbmO8Lc"
      },
      "execution_count": null,
      "outputs": []
    }
  ]
}