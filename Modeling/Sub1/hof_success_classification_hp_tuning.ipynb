{
 "cells": [
  {
   "cell_type": "markdown",
   "metadata": {},
   "source": [
    "### RF 모델 성능이 유동적이라 Hyper Parameter tuning 진행 "
   ]
  },
  {
   "cell_type": "code",
   "execution_count": 1,
   "metadata": {},
   "outputs": [],
   "source": [
    "## Import modules\n",
    "from sklearn.ensemble import RandomForestClassifier as RFC \n",
    "from sklearn.tree import DecisionTreeClassifier as DTC \n",
    "import matplotlib.pyplot as plt\n",
    "import seaborn as sns\n",
    "import pandas as pd\n",
    "\n",
    "# 모델 평가를 위한 metrics\n",
    "from sklearn.metrics import accuracy_score, precision_score, recall_score, f1_score, plot_confusion_matrix\n",
    "\n",
    "# 한글 폰트 사용을 위해서 세팅\n",
    "from matplotlib import font_manager, rc\n",
    "font_path = \"C:/Windows/Fonts/NGULIM.TTF\"\n",
    "font = font_manager.FontProperties(fname=font_path).get_name()\n",
    "rc('font', family=font)\n",
    "\n",
    "## Load Data\n",
    "gganbu = pd.read_csv(\"../../../resources/processedData/깐부치킨_입지특성_모델_feature.csv\", encoding='utf8')"
   ]
  },
  {
   "cell_type": "code",
   "execution_count": 8,
   "metadata": {},
   "outputs": [],
   "source": [
    "## Prepare the dataset\n",
    "from sklearn.model_selection import train_test_split\n",
    "from sklearn.preprocessing import StandardScaler\n",
    "import numpy as np\n",
    "\n",
    "# set X,y\n",
    "X = gganbu[[\"버스정류장 개수\", \"지하철역 개수\",  \"상업지역 비율\",\"경쟁점 개수\", \"주거지역 비율\", \"인구수\",  \"유동인구비율\"]]\n",
    "y = gganbu[\"y\"]\n",
    "\n",
    "feature_name = [\"버스정류장 개수\", \"지하철역 개수\",  \"상업지역 비율\",\"경쟁점 개수\", \"주거지역 비율\", \"인구수\",  \"유동인구비율\"]\n",
    "\n",
    "# split into train/test set\n",
    "X_train, X_test, y_train, y_test = train_test_split(X, y, test_size=0.35, random_state=0)\n",
    "\n",
    "# Standardized data\n",
    "sc = StandardScaler()\n",
    "sc.fit(X_train)\n",
    "X_train_std = sc.transform(X_train)\n",
    "X_test_std = sc.transform(X_test)"
   ]
  },
  {
   "cell_type": "markdown",
   "metadata": {},
   "source": [
    "### Tuning 할 Hyper Parameter \n",
    "- n_estimators(학습할 트리 모델 개수) - DT,RF\n",
    "- max_depth(최대 깊이) - RF\n",
    "- n_split(분리 노드의 최소 자료 수) - RF\n",
    "- n_leaf(잎사귀 노드의 최소 자료수) - RF"
   ]
  },
  {
   "cell_type": "code",
   "execution_count": 9,
   "metadata": {},
   "outputs": [],
   "source": [
    "## Plain model (tuning 안함)\n",
    "def modeling_uncustomized (algorithm, x_train, y_train, x_test, y_test):\n",
    "    # 하이퍼파라미터 조정 없이 모델 학습\n",
    "    uncustomized = algorithm(random_state=1234)\n",
    "    uncustomized.fit(x_train, y_train)\n",
    "    # Train Data 설명력\n",
    "    train_score_before = uncustomized.score(x_train, y_train).round(3)\n",
    "    print(f\"학습 데이터셋 정확도: {train_score_before}\")\n",
    "    # Test Data 설명력\n",
    "    test_score_before = uncustomized.score(x_test, y_test).round(3)\n",
    "    print(f\"테스트 데이터셋 정확도: {test_score_before}\")\n",
    "    return train_score_before, test_score_before"
   ]
  },
  {
   "cell_type": "code",
   "execution_count": 35,
   "metadata": {},
   "outputs": [],
   "source": [
    "# tuning 과정 시각화 함수\n",
    "def optimi_visualization(algorithm_name, x_values, train_score, test_score, xlabel, filename):\n",
    "    # 하이퍼파라미터 조정에 따른 학습 데이터셋 기반 모델 성능 추이 시각화\n",
    "    plt.plot(x_values, train_score, linestyle = '-', label = 'train score')\n",
    "    # 하이퍼파라미터 조정에 따른 테스트 데이터셋 기반 모델 성능 추이 시각화\n",
    "    plt.plot(x_values, test_score, linestyle = '--', label = 'test score')\n",
    "    plt.title(f\"Hyper Parameter Tuning -: {algorithm_name} [{filename}]\")\n",
    "    plt.ylabel('Accuracy(%)') # y축 라벨\n",
    "    plt.xlabel(xlabel) # x축 라벨\n",
    "    plt.legend() # 범례표시\n",
    "    #plt.savefig('../figure/' + algorithm_name + '_' + filename + '.png') # 시각화한 그래프는 로컬에 저장\n",
    "    plt.show()\n",
    "\n",
    "# n_estimators(학습할 트리 모델 개수) optimizer\n",
    "def optimi_estimator(algorithm, algorithm_name, x_train, y_train, x_test, y_test, n_estimator_min, n_estimator_max):\n",
    "    train_score = []; test_score =[]\n",
    "    para_n_tree = [n_tree*5 for n_tree in range(n_estimator_min, n_estimator_max)]\n",
    "\n",
    "    for v_n_estimators in para_n_tree:\n",
    "        model = algorithm(n_estimators = v_n_estimators, random_state=1234)\n",
    "        model.fit(x_train, y_train)\n",
    "        train_score.append(model.score(x_train, y_train))\n",
    "        test_score.append(model.score(x_test, y_test))\n",
    "\n",
    "    # 트리 개수에 따른 모델 성능 저장\n",
    "    df_score_n = pd.DataFrame({'n_estimators': para_n_tree, 'TrainScore': train_score, 'TestScore': test_score})\n",
    "    # 트리 개수에 따른 모델 성능 추이 시각화 함수 호출\n",
    "    optimi_visualization(algorithm_name, para_n_tree, train_score, test_score, \"The number of estimator\", \"n_estimator\")\n",
    "    print(round(df_score_n, 4))\n",
    "    \n",
    "# max_depth(최대 깊이) optimizer\n",
    "def optimi_maxdepth (algorithm, algorithm_name, x_train, y_train, x_test, y_test, depth_min, depth_max, n_estimator):\n",
    "    train_score = []; test_score = []\n",
    "    para_depth = [depth for depth in range(depth_min, depth_max)]\n",
    "\n",
    "    for v_max_depth in para_depth:\n",
    "        # 의사결정나무 모델의 경우 트리 개수를 따로 설정하지 않기 때문에 RFC, GBC와 분리하여 모델링\n",
    "        if algorithm == DTC:\n",
    "            model = algorithm(max_depth = v_max_depth,\n",
    "                              random_state=1234)\n",
    "        else:\n",
    "            model = algorithm(max_depth = v_max_depth,\n",
    "                              n_estimators = n_estimator,\n",
    "                              random_state=1234)\n",
    "        \n",
    "        model.fit(x_train, y_train)\n",
    "        train_score.append(model.score(x_train, y_train))\n",
    "        test_score.append(model.score(x_test, y_test))\n",
    "\n",
    "    # 최대 깊이에 따른 모델 성능 저장\n",
    "    df_score_n = pd.DataFrame({'depth': para_depth, 'TrainScore': train_score, 'TestScore': test_score})\n",
    "    # 최대 깊이에 따른 모델 성능 추이 시각화 함수 호출\n",
    "    optimi_visualization(algorithm_name, para_depth, train_score, test_score, \"The number of depth\", \"n_depth\")\n",
    "    print(round(df_score_n, 4))\n",
    "\n",
    "# n_split(분리 노드의 최소 자료 수) optimizer\n",
    "def optimi_minsplit (algorithm, algorithm_name, x_train, y_train, x_test, y_test, n_split_min, n_split_max, n_estimator, n_depth):\n",
    "    train_score = []; test_score = []\n",
    "    para_split = [n_split*2 for n_split in range(n_split_min, n_split_max)]\n",
    "    for v_min_samples_split in para_split:\n",
    "        # 의사결정나무 모델의 경우 트리 개수를 따로 설정하지 않기 때문에 RFC, GBC와 분리하여 모델링\n",
    "        if algorithm == DTC:\n",
    "            model = algorithm(min_samples_split = v_min_samples_split,\n",
    "                              max_depth = n_depth,\n",
    "                              random_state = 1234)\n",
    "        else:\n",
    "            model = algorithm(min_samples_split = v_min_samples_split,\n",
    "                              n_estimators = n_estimator,\n",
    "                              max_depth = n_depth,\n",
    "                              random_state = 1234)\n",
    "        model.fit(x_train, y_train)\n",
    "        train_score.append(model.score(x_train, y_train))\n",
    "        test_score.append(model.score(x_test, y_test))\n",
    "\n",
    "    # 분리 노드의 최소 자료 수에 따른 모델 성능 저장\n",
    "    df_score_n = pd.DataFrame({'min_samples_split': para_split, 'TrainScore': train_score, 'TestScore': test_score})\n",
    "    # 분리 노드의 최소 자료 수에 따른 모델 성능 추이 시각화 함수 호출\n",
    "    optimi_visualization(algorithm_name, para_split, train_score, test_score, \"The minimum number of samples required to split an internal node\", \"min_samples_split\")\n",
    "    print(round(df_score_n, 4))\n",
    "\n",
    "# n_leaf(잎사귀 노드의 최소 자료수) optimizer\n",
    "def optimi_minleaf(algorithm, algorithm_name, x_train, y_train, x_test, y_test, n_leaf_min, n_leaf_max, n_estimator, n_depth, n_split):\n",
    "    train_score = []; test_score = []\n",
    "    para_leaf = [n_leaf*2 for n_leaf in range(n_leaf_min, n_leaf_max)]\n",
    "\n",
    "    for v_min_samples_leaf in para_leaf:\n",
    "        # 의사결정나무 모델의 경우 트리 개수를 따로 설정하지 않기 때문에 RFC, GBC와 분리하여 모델링\n",
    "        if algorithm == DTC:\n",
    "            model = algorithm(min_samples_leaf = v_min_samples_leaf,\n",
    "                                        max_depth = n_depth,\n",
    "                                        min_samples_split = n_split,\n",
    "                                        random_state=1234)\n",
    "        else:\n",
    "            model = algorithm(min_samples_leaf = v_min_samples_leaf,\n",
    "                                n_estimators = n_estimator,\n",
    "                                max_depth = n_depth,\n",
    "                                min_samples_split = n_split,\n",
    "                                random_state=1234)\n",
    "        model.fit(x_train, y_train)\n",
    "        train_score.append(model.score(x_train, y_train))\n",
    "        test_score.append(model.score(x_test, y_test))\n",
    "\n",
    "    # 잎사귀 노드의 최소 자료 수에 따른 모델 성능 저장\n",
    "    df_score_n = pd.DataFrame({'min_samples_leaf': para_leaf, 'TrainScore': train_score, 'TestScore': test_score})\n",
    "    # 잎사귀 노드의 최소 자료 수에 따른 모델 성능 추이 시각화 함수 호출\n",
    "    optimi_visualization(algorithm_name, para_leaf, train_score, test_score, \"The minimum number of samples required to be at a leaf node\", \"min_samples_leaf\")\n",
    "    print(round(df_score_n, 4))"
   ]
  },
  {
   "cell_type": "code",
   "execution_count": 64,
   "metadata": {},
   "outputs": [],
   "source": [
    "def model_final(algorithm, algorithm_name, feature_name, x_train, y_train, x_test, y_test, n_estimator, n_depth, n_split, n_leaf):\n",
    "    # 의사결정나무 모델의 경우 트리 개수를 따로 설정하지 않기 때문에 RFC, GBC와 분리하여 모델링\n",
    "    if algorithm == DTC:\n",
    "        model = algorithm(random_state=1234, \n",
    "                          min_samples_leaf = n_leaf,\n",
    "                          min_samples_split = n_split, \n",
    "                          max_depth = n_depth)\n",
    "    else:\n",
    "        model = algorithm(random_state = 1234, \n",
    "                          n_estimators = n_estimator, \n",
    "                          min_samples_leaf = n_leaf,\n",
    "                          min_samples_split = n_split, \n",
    "                          max_depth = n_depth)\n",
    "    # 모델 학습\n",
    "    model.fit(x_train, y_train)\n",
    "    \n",
    "    # 최종 모델의 성능 평가\n",
    "    train_acc = model.score(x_train, y_train)\n",
    "    test_acc = model.score(x_test, y_test)\n",
    "    y_pred = model.predict(x_test)\n",
    "    print(f\"Accuracy: {accuracy_score(y_test, y_pred):.3f}\") # 정확도\n",
    "    print(f\"Precision: {precision_score(y_test, y_pred):.3f}\") # 정밀도\n",
    "    print(f\"Recall: {recall_score(y_test, y_pred):.3f}\") # 재현율\n",
    "    print(f\"F1-score: {f1_score(y_test, y_pred):.3f}\") # F1 스코어\n",
    "    \n",
    "    # 혼동행렬 시각화\n",
    "    plt.figure(figsize =(30, 30))\n",
    "    plot_confusion_matrix(model, \n",
    "                         x_test, y_test,\n",
    "                         include_values = True,\n",
    "                         display_labels = ['Red', 'White'], # 목표변수 이름\n",
    "                         cmap = 'Pastel1') # 컬러맵\n",
    "    #plt.savefig('../figure/' + algorithm_name + '_confusion_matrix.png') # 혼동행렬 자료 저장\n",
    "    plt.show()\n",
    "    \n",
    "    # 변수 중요도 산출\n",
    "    dt_importance = pd.DataFrame()\n",
    "    dt_importance['Feature'] = feature_name # 설명변수 이름\n",
    "    dt_importance['Importance'] = model.feature_importances_ # 설명변수 중요도 산출\n",
    "\n",
    "    # 변수 중요도 내림차순 정렬\n",
    "    dt_importance.sort_values(\"Importance\", ascending = False, inplace = True)\n",
    "    print(dt_importance.round(3))\n",
    "    # 변수 중요도 오름차순 정렬\n",
    "    dt_importance.sort_values(\"Importance\", ascending = True, inplace = True)\n",
    "    # 변수 중요도 시각화\n",
    "    coordinates = range(len(dt_importance)) # 설명변수 개수만큼 bar 시각화\n",
    "    plt.barh(y = coordinates, width = dt_importance[\"Importance\"])\n",
    "    plt.yticks(coordinates, dt_importance[\"Feature\"]) # y축 눈금별 설명변수 이름 기입\n",
    "    plt.xlabel(\"Feature Importance\") # x축 이름\n",
    "    plt.ylabel(\"Features\") # y축 이름\n",
    "    #plt.savefig('../figure/' + algorithm_name + '_feature_importance.png') # 변수 중요도 그래프 저장"
   ]
  },
  {
   "cell_type": "code",
   "execution_count": 65,
   "metadata": {},
   "outputs": [],
   "source": [
    "## RandomForest\n",
    "algorithm = RFC\n",
    "algorithm_name = 'RF'"
   ]
  },
  {
   "cell_type": "code",
   "execution_count": 66,
   "metadata": {},
   "outputs": [
    {
     "name": "stdout",
     "output_type": "stream",
     "text": [
      "학습 데이터셋 정확도: 1.0\n",
      "테스트 데이터셋 정확도: 0.8\n"
     ]
    }
   ],
   "source": [
    "train_acc_before, test_acc_before = modeling_uncustomized(algorithm, \n",
    "                                                          X_train_std,\n",
    "                                                          y_train,\n",
    "                                                          X_test_std,\n",
    "                                                          y_test)"
   ]
  },
  {
   "cell_type": "code",
   "execution_count": 67,
   "metadata": {},
   "outputs": [
    {
     "data": {
      "image/png": "[encoded data removed]",
      "text/plain": [
       "<Figure size 432x288 with 1 Axes>"
      ]
     },
     "metadata": {
      "needs_background": "light"
     },
     "output_type": "display_data"
    },
    {
     "name": "stdout",
     "output_type": "stream",
     "text": [
      "    n_estimators  TrainScore  TestScore\n",
      "0              5         1.0        0.6\n",
      "1             10         1.0        0.6\n",
      "2             15         1.0        0.6\n",
      "3             20         1.0        0.6\n",
      "4             25         1.0        0.6\n",
      "5             30         1.0        0.8\n",
      "6             35         1.0        0.8\n",
      "7             40         1.0        0.8\n",
      "8             45         1.0        0.8\n",
      "9             50         1.0        0.8\n",
      "10            55         1.0        0.8\n",
      "11            60         1.0        0.8\n",
      "12            65         1.0        0.8\n",
      "13            70         1.0        0.8\n",
      "14            75         1.0        0.8\n",
      "15            80         1.0        0.8\n",
      "16            85         1.0        0.8\n",
      "17            90         1.0        0.8\n",
      "18            95         1.0        0.8\n",
      "19           100         1.0        0.8\n",
      "20           105         1.0        0.8\n",
      "21           110         1.0        0.8\n",
      "22           115         1.0        0.8\n",
      "23           120         1.0        0.8\n",
      "24           125         1.0        0.8\n",
      "25           130         1.0        0.8\n",
      "26           135         1.0        0.8\n",
      "27           140         1.0        0.8\n",
      "28           145         1.0        0.8\n",
      "29           150         1.0        0.8\n"
     ]
    }
   ],
   "source": [
    "# n_estimator 갯수는 30 n_estimator = 30\n",
    "n_estimator_min = 1\n",
    "n_estimator_max = 31\n",
    "optimi_estimator(algorithm, algorithm_name, \n",
    "                 X_train_std, y_train, X_test_std, y_test, \n",
    "                 n_estimator_min, n_estimator_max)"
   ]
  },
  {
   "cell_type": "code",
   "execution_count": 43,
   "metadata": {},
   "outputs": [
    {
     "data": {
      "image/png": "[encoded data removed]",
      "text/plain": [
       "<Figure size 432x288 with 1 Axes>"
      ]
     },
     "metadata": {
      "needs_background": "light"
     },
     "output_type": "display_data"
    },
    {
     "name": "stdout",
     "output_type": "stream",
     "text": [
      "    depth  TrainScore  TestScore\n",
      "0       1         1.0        0.8\n",
      "1       2         1.0        0.8\n",
      "2       3         1.0        0.8\n",
      "3       4         1.0        0.8\n",
      "4       5         1.0        0.8\n",
      "5       6         1.0        0.8\n",
      "6       7         1.0        0.8\n",
      "7       8         1.0        0.8\n",
      "8       9         1.0        0.8\n",
      "9      10         1.0        0.8\n",
      "10     11         1.0        0.8\n",
      "11     12         1.0        0.8\n",
      "12     13         1.0        0.8\n",
      "13     14         1.0        0.8\n",
      "14     15         1.0        0.8\n",
      "15     16         1.0        0.8\n",
      "16     17         1.0        0.8\n",
      "17     18         1.0        0.8\n",
      "18     19         1.0        0.8\n",
      "19     20         1.0        0.8\n"
     ]
    }
   ],
   "source": [
    "n_estimator = 30\n",
    "depth_min = 1\n",
    "depth_max = 21\n",
    "optimi_maxdepth(algorithm, algorithm_name, \n",
    "                X_train_std, y_train, X_test_std, y_test, \n",
    "                depth_min, depth_max, n_estimator)"
   ]
  },
  {
   "cell_type": "code",
   "execution_count": 49,
   "metadata": {},
   "outputs": [
    {
     "data": {
      "image/png": "[encoded data removed]",
      "text/plain": [
       "<Figure size 432x288 with 1 Axes>"
      ]
     },
     "metadata": {
      "needs_background": "light"
     },
     "output_type": "display_data"
    },
    {
     "name": "stdout",
     "output_type": "stream",
     "text": [
      "    min_samples_split  TrainScore  TestScore\n",
      "0                   2      1.0000        0.8\n",
      "1                   4      1.0000        0.8\n",
      "2                   6      0.5714        0.6\n",
      "3                   8      0.5714        0.6\n",
      "4                  10      0.5714        0.6\n",
      "5                  12      0.5714        0.6\n",
      "6                  14      0.5714        0.6\n",
      "7                  16      0.5714        0.6\n",
      "8                  18      0.5714        0.6\n",
      "9                  20      0.5714        0.6\n",
      "10                 22      0.5714        0.6\n",
      "11                 24      0.5714        0.6\n",
      "12                 26      0.5714        0.6\n",
      "13                 28      0.5714        0.6\n",
      "14                 30      0.5714        0.6\n",
      "15                 32      0.5714        0.6\n",
      "16                 34      0.5714        0.6\n",
      "17                 36      0.5714        0.6\n",
      "18                 38      0.5714        0.6\n",
      "19                 40      0.5714        0.6\n",
      "20                 42      0.5714        0.6\n",
      "21                 44      0.5714        0.6\n",
      "22                 46      0.5714        0.6\n",
      "23                 48      0.5714        0.6\n",
      "24                 50      0.5714        0.6\n",
      "25                 52      0.5714        0.6\n",
      "26                 54      0.5714        0.6\n",
      "27                 56      0.5714        0.6\n",
      "28                 58      0.5714        0.6\n",
      "29                 60      0.5714        0.6\n",
      "30                 62      0.5714        0.6\n",
      "31                 64      0.5714        0.6\n",
      "32                 66      0.5714        0.6\n",
      "33                 68      0.5714        0.6\n",
      "34                 70      0.5714        0.6\n",
      "35                 72      0.5714        0.6\n",
      "36                 74      0.5714        0.6\n",
      "37                 76      0.5714        0.6\n",
      "38                 78      0.5714        0.6\n",
      "39                 80      0.5714        0.6\n",
      "40                 82      0.5714        0.6\n",
      "41                 84      0.5714        0.6\n",
      "42                 86      0.5714        0.6\n",
      "43                 88      0.5714        0.6\n",
      "44                 90      0.5714        0.6\n",
      "45                 92      0.5714        0.6\n",
      "46                 94      0.5714        0.6\n",
      "47                 96      0.5714        0.6\n",
      "48                 98      0.5714        0.6\n",
      "49                100      0.5714        0.6\n",
      "50                102      0.5714        0.6\n",
      "51                104      0.5714        0.6\n",
      "52                106      0.5714        0.6\n",
      "53                108      0.5714        0.6\n",
      "54                110      0.5714        0.6\n",
      "55                112      0.5714        0.6\n",
      "56                114      0.5714        0.6\n",
      "57                116      0.5714        0.6\n",
      "58                118      0.5714        0.6\n",
      "59                120      0.5714        0.6\n",
      "60                122      0.5714        0.6\n",
      "61                124      0.5714        0.6\n",
      "62                126      0.5714        0.6\n",
      "63                128      0.5714        0.6\n",
      "64                130      0.5714        0.6\n",
      "65                132      0.5714        0.6\n",
      "66                134      0.5714        0.6\n",
      "67                136      0.5714        0.6\n",
      "68                138      0.5714        0.6\n",
      "69                140      0.5714        0.6\n",
      "70                142      0.5714        0.6\n",
      "71                144      0.5714        0.6\n",
      "72                146      0.5714        0.6\n",
      "73                148      0.5714        0.6\n",
      "74                150      0.5714        0.6\n",
      "75                152      0.5714        0.6\n",
      "76                154      0.5714        0.6\n",
      "77                156      0.5714        0.6\n",
      "78                158      0.5714        0.6\n",
      "79                160      0.5714        0.6\n",
      "80                162      0.5714        0.6\n",
      "81                164      0.5714        0.6\n",
      "82                166      0.5714        0.6\n",
      "83                168      0.5714        0.6\n",
      "84                170      0.5714        0.6\n",
      "85                172      0.5714        0.6\n",
      "86                174      0.5714        0.6\n",
      "87                176      0.5714        0.6\n",
      "88                178      0.5714        0.6\n",
      "89                180      0.5714        0.6\n",
      "90                182      0.5714        0.6\n",
      "91                184      0.5714        0.6\n",
      "92                186      0.5714        0.6\n",
      "93                188      0.5714        0.6\n",
      "94                190      0.5714        0.6\n",
      "95                192      0.5714        0.6\n",
      "96                194      0.5714        0.6\n",
      "97                196      0.5714        0.6\n",
      "98                198      0.5714        0.6\n",
      "99                200      0.5714        0.6\n"
     ]
    }
   ],
   "source": [
    "n_depth = 6\n",
    "n_split_min = 1\n",
    "n_split_max = 101\n",
    "# 데이터프레임 행 최대 100개까지 반드시 출력\n",
    "pd.set_option('display.max_row', 100)\n",
    "optimi_minsplit (algorithm, algorithm_name,\n",
    "                 X_train_std, y_train, X_test_std, y_test,\n",
    "                 n_split_min, n_split_max, n_estimator, n_depth)"
   ]
  },
  {
   "cell_type": "code",
   "execution_count": 59,
   "metadata": {},
   "outputs": [
    {
     "data": {
      "image/png": "[encoded data removed]",
      "text/plain": [
       "<Figure size 432x288 with 1 Axes>"
      ]
     },
     "metadata": {
      "needs_background": "light"
     },
     "output_type": "display_data"
    },
    {
     "name": "stdout",
     "output_type": "stream",
     "text": [
      "    min_samples_leaf  TrainScore  TestScore\n",
      "0                  2      0.5714        0.6\n",
      "1                  4      0.5714        0.6\n",
      "2                  6      0.5714        0.6\n",
      "3                  8      0.5714        0.6\n",
      "4                 10      0.5714        0.6\n",
      "5                 12      0.5714        0.6\n",
      "6                 14      0.5714        0.6\n",
      "7                 16      0.5714        0.6\n",
      "8                 18      0.5714        0.6\n",
      "9                 20      0.5714        0.6\n",
      "10                22      0.5714        0.6\n",
      "11                24      0.5714        0.6\n",
      "12                26      0.5714        0.6\n",
      "13                28      0.5714        0.6\n",
      "14                30      0.5714        0.6\n",
      "15                32      0.5714        0.6\n",
      "16                34      0.5714        0.6\n",
      "17                36      0.5714        0.6\n",
      "18                38      0.5714        0.6\n",
      "19                40      0.5714        0.6\n",
      "20                42      0.5714        0.6\n",
      "21                44      0.5714        0.6\n",
      "22                46      0.5714        0.6\n",
      "23                48      0.5714        0.6\n",
      "24                50      0.5714        0.6\n",
      "25                52      0.5714        0.6\n",
      "26                54      0.5714        0.6\n",
      "27                56      0.5714        0.6\n",
      "28                58      0.5714        0.6\n",
      "29                60      0.5714        0.6\n",
      "30                62      0.5714        0.6\n",
      "31                64      0.5714        0.6\n",
      "32                66      0.5714        0.6\n",
      "33                68      0.5714        0.6\n",
      "34                70      0.5714        0.6\n",
      "35                72      0.5714        0.6\n",
      "36                74      0.5714        0.6\n",
      "37                76      0.5714        0.6\n",
      "38                78      0.5714        0.6\n",
      "39                80      0.5714        0.6\n",
      "40                82      0.5714        0.6\n",
      "41                84      0.5714        0.6\n",
      "42                86      0.5714        0.6\n",
      "43                88      0.5714        0.6\n",
      "44                90      0.5714        0.6\n",
      "45                92      0.5714        0.6\n",
      "46                94      0.5714        0.6\n",
      "47                96      0.5714        0.6\n",
      "48                98      0.5714        0.6\n",
      "49               100      0.5714        0.6\n"
     ]
    }
   ],
   "source": [
    "n_split = 6\n",
    "n_leaf_min = 1\n",
    "n_leaf_max = 51\n",
    "optimi_minleaf(algorithm, algorithm_name, \n",
    "               X_train_std, y_train, X_test_std, y_test, \n",
    "               n_leaf_min, n_leaf_max, n_estimator, n_depth, n_split)"
   ]
  },
  {
   "cell_type": "code",
   "execution_count": 68,
   "metadata": {},
   "outputs": [
    {
     "name": "stdout",
     "output_type": "stream",
     "text": [
      "Accuracy: 0.600\n",
      "Precision: 0.600\n",
      "Recall: 1.000\n",
      "F1-score: 0.750\n"
     ]
    },
    {
     "name": "stderr",
     "output_type": "stream",
     "text": [
      "c:\\Users\\dksle\\anaconda3\\envs\\tensorflow\\lib\\site-packages\\sklearn\\utils\\deprecation.py:87: FutureWarning: Function plot_confusion_matrix is deprecated; Function `plot_confusion_matrix` is deprecated in 1.0 and will be removed in 1.2. Use one of the class methods: ConfusionMatrixDisplay.from_predictions or ConfusionMatrixDisplay.from_estimator.\n",
      "  warnings.warn(msg, category=FutureWarning)\n"
     ]
    },
    {
     "data": {
      "text/plain": [
       "<Figure size 2160x2160 with 0 Axes>"
      ]
     },
     "metadata": {},
     "output_type": "display_data"
    },
    {
     "data": {
      "image/png": "[encoded data removed]",
      "text/plain": [
       "<Figure size 432x288 with 2 Axes>"
      ]
     },
     "metadata": {
      "needs_background": "light"
     },
     "output_type": "display_data"
    },
    {
     "name": "stdout",
     "output_type": "stream",
     "text": [
      "    Feature  Importance\n",
      "0  버스정류장 개수        0.25\n",
      "2   상업지역 비율        0.25\n",
      "4   주거지역 비율        0.25\n",
      "6    유동인구비율        0.25\n",
      "1   지하철역 개수        0.00\n",
      "3    경쟁점 개수        0.00\n",
      "5       인구수        0.00\n"
     ]
    },
    {
     "data": {
      "image/png": "[encoded data removed]",
      "text/plain": [
       "<Figure size 432x288 with 1 Axes>"
      ]
     },
     "metadata": {
      "needs_background": "light"
     },
     "output_type": "display_data"
    }
   ],
   "source": [
    "n_leaf = 2\n",
    "model_final(algorithm, algorithm_name, feature_name,\n",
    "            X_train_std, y_train, X_test_std, y_test,\n",
    "            n_estimator, n_depth, n_split, n_leaf)"
   ]
  },
  {
   "cell_type": "code",
   "execution_count": null,
   "metadata": {},
   "outputs": [],
   "source": []
  }
 ],
 "metadata": {
  "interpreter": {
   "hash": "9def8ea2d5a01422581d4eea917152176dd8d2a5fb8fc2d04ade9c46f806b086"
  },
  "kernelspec": {
   "display_name": "Python 3.7.10 ('tensorflow')",
   "language": "python",
   "name": "python3"
  },
  "language_info": {
   "codemirror_mode": {
    "name": "ipython",
    "version": 3
   },
   "file_extension": ".py",
   "mimetype": "text/x-python",
   "name": "python",
   "nbconvert_exporter": "python",
   "pygments_lexer": "ipython3",
   "version": "3.7.10"
  },
  "orig_nbformat": 4
 },
 "nbformat": 4,
 "nbformat_minor": 2
}
