{
 "cells": [
  {
   "cell_type": "code",
   "execution_count": null,
   "metadata": {},
   "outputs": [],
   "source": [
    "#좌표계 변환 파이썬 코드( epsg:2097 -> epsg:5179 )\n",
    "#헷갈리는 부분 있으면 연락주시고, 필요할 경우 이 코드가 아닌 다른 코드 사용하셔도 무방합니다!\n",
    "\n",
    "#필요 라이브러리 import\n",
    "import pandas as pd\n",
    "import numpy as np\n",
    "import pyproj\n",
    "\n",
    "#갖고 있는 데이터 pandas dataframe으로 호출\n",
    "df = pd.read_csv(\"데이터명\",\n",
    "    encoding='cp949', #cp949 또는 utf8\n",
    "    usecols=['좌표정보(x)','좌표정보(y)']) #좌표 변환시에는 좌표정보만 필요하므로, 좌표정보만 가지고 오기\n",
    "\n",
    "#좌표계 변환 함수\n",
    "#coor -> 좌표 정보가 담긴 NumPy Array\n",
    "#p1_type -> 가지고 있는 좌표계 정보(epsg:2097, 중부 원점 좌표계)\n",
    "#p2_type -> 변환하고자 하는 좌표계 정보(epsg:5179, 경위도 좌표계)\n",
    "def project_array(coor, p1_type, p2_type):\n",
    "p1= pyproj.Proj(init=p1_type)\n",
    "p2= pyproj.Proj(init=p2_type)\n",
    "fx, fy = pyproj.transform(p1, p2, coor[:, 0], coor[:, 1])\n",
    "return np.dstack([fx, fy])[0]\n",
    "\n",
    "#DataFrame을 NumPy Array로 변환\n",
    "coor = np.array(df)\n",
    "coor\n",
    "\n",
    "#좌표계 정보 설정\n",
    "p1_type = \"epsg:2097\"\n",
    "p2_type = \"epsg:5179\" #5179가 오류날 경우 epsg:4326으로 변환해주세요.\n",
    "\n",
    "#project_array() 함수 실행\n",
    "result = project_array(coor, p1_type, p2_type)\n",
    "result\n",
    "\n",
    "#경위도 좌표계를 데이터 프레임에 추가\n",
    "df['경도(x)'] = result[:, 0]\n",
    "df['위도(y)'] = result[:, 1]"
   ]
  }
 ],
 "metadata": {
  "language_info": {
   "name": "python"
  },
  "orig_nbformat": 4
 },
 "nbformat": 4,
 "nbformat_minor": 2
}
